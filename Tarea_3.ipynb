{
  "nbformat": 4,
  "nbformat_minor": 0,
  "metadata": {
    "colab": {
      "name": "Tarea 3.ipynb",
      "provenance": [],
      "authorship_tag": "ABX9TyNOjEW07b4mHnVjoThJRirj",
      "include_colab_link": true
    },
    "kernelspec": {
      "name": "python3",
      "display_name": "Python 3"
    }
  },
  "cells": [
    {
      "cell_type": "markdown",
      "metadata": {
        "id": "view-in-github",
        "colab_type": "text"
      },
      "source": [
        "<a href=\"https://colab.research.google.com/github/DiegoRomanCortes/AED/blob/master/Tarea_3.ipynb\" target=\"_parent\"><img src=\"https://colab.research.google.com/assets/colab-badge.svg\" alt=\"Open In Colab\"/></a>"
      ]
    },
    {
      "cell_type": "markdown",
      "metadata": {
        "id": "RzhJ5WbRbZ2t",
        "colab_type": "text"
      },
      "source": [
        "[Enunciado](https://www.u-cursos.cl/ingenieria/2020/1/CC3001/1/tareas/r/CC3001-Tarea3-BusquedaTernaria.pdf)"
      ]
    },
    {
      "cell_type": "markdown",
      "metadata": {
        "id": "3GGhxDnCm926",
        "colab_type": "text"
      },
      "source": [
        "#Introducción\n",
        "\n",
        "En este bloc de notas se tiene por objetivo el diseñar, implementar y analizar un algoritmo eficiente de búsqueda ternaria basado en \"dividir para reinar\". Para ello se dispone de un arreglo unidimensional de enteros que viene ordenado de forma estrictamente ascendente hasta llegar al máximo (el cual es único), para luego ir descendiendo estrictamente. El algoritmo debe entegar el máximo del arreglo de forma eficiente. Posteriormente se analizará qué tan eficiente es en el peor caso usando el [Teorema Maestro](https://en.wikipedia.org/wiki/Master_theorem_(analysis_of_algorithms))."
      ]
    },
    {
      "cell_type": "code",
      "metadata": {
        "id": "TnSmkK_dbXKl",
        "colab_type": "code",
        "colab": {
          "base_uri": "https://localhost:8080/",
          "height": 51
        },
        "outputId": "cde27176-cb91-49d4-907f-63b916685923"
      },
      "source": [
        "import numpy as np\n",
        "\n",
        "def moda(a):\n",
        "  n = len(a)\n",
        "  def moda_rec(a, i, j):\n",
        "    if i > j: \n",
        "      return -np.infty\n",
        "    d = (i + j)//3\n",
        "    k1 = d\n",
        "    k2 = 2*d\n",
        "    print(a[i], a[k1], a[k2], a[j])\n",
        "    if a[k1] == a[k2]: #a[k1]=a[k2]\n",
        "      return a[k1]\n",
        "    elif a[k1] < a[k2]:\n",
        "      return moda_rec(a, k1, j)\n",
        "    else: #a[k1] > a[k2]\n",
        "      return moda_rec(a, i, k2)\n",
        "  return moda_rec(a,0,n-1)\n",
        "\n",
        "#a = np.array([10, 74, 56, 22])\n",
        "a = np.array([12, 45, 20])\n",
        "print(moda(a))"
      ],
      "execution_count": 22,
      "outputs": [
        {
          "output_type": "stream",
          "text": [
            "12 12 12 20\n",
            "12\n"
          ],
          "name": "stdout"
        }
      ]
    }
  ]
}