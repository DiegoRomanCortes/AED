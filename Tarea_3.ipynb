{
  "nbformat": 4,
  "nbformat_minor": 0,
  "metadata": {
    "colab": {
      "name": "Tarea 3.ipynb",
      "provenance": [],
      "authorship_tag": "ABX9TyMO/rC3H7QJCBQrjtgCItp2",
      "include_colab_link": true
    },
    "kernelspec": {
      "name": "python3",
      "display_name": "Python 3"
    }
  },
  "cells": [
    {
      "cell_type": "markdown",
      "metadata": {
        "id": "view-in-github",
        "colab_type": "text"
      },
      "source": [
        "<a href=\"https://colab.research.google.com/github/DiegoRomanCortes/AED/blob/pr%2F1/Tarea_3.ipynb\" target=\"_parent\"><img src=\"https://colab.research.google.com/assets/colab-badge.svg\" alt=\"Open In Colab\"/></a>"
      ]
    },
    {
      "cell_type": "markdown",
      "metadata": {
        "id": "RzhJ5WbRbZ2t",
        "colab_type": "text"
      },
      "source": [
        "[Enunciado](https://www.u-cursos.cl/ingenieria/2020/1/CC3001/1/tareas/r/CC3001-Tarea3-BusquedaTernaria.pdf)"
      ]
    },
    {
      "cell_type": "markdown",
      "metadata": {
        "id": "3GGhxDnCm926",
        "colab_type": "text"
      },
      "source": [
        "#Introducción\n",
        "\n",
        "En este bloc de notas se tiene por objetivo el diseñar, implementar y analizar un algoritmo eficiente de búsqueda ternaria basado en \"dividir para reinar\". Para ello se dispone de un arreglo unidimensional de enteros que viene ordenado de forma estrictamente ascendente hasta llegar al máximo (el cual es único), para luego ir descendiendo estrictamente. El algoritmo debe entegar el máximo del arreglo de forma eficiente. Posteriormente se analizará qué tan eficiente es en el peor caso usando el [Teorema Maestro](https://en.wikipedia.org/wiki/Master_theorem_(analysis_of_algorithms))."
      ]
    },
    {
      "cell_type": "markdown",
      "metadata": {
        "id": "a8mlNJ5Fh4zL",
        "colab_type": "text"
      },
      "source": [
        "#Dividir para reinar\n",
        "\n",
        "Una estrategia vista en clase fue la de subdividir el problema original en subproblemas de menor tamaño, aunque del mismo tipo (cosa de poder aplicar recursividad). En este caso, dado un arreglo $a$ de tamaño $n$, se escogerá cada vez dos enteros $k_1$ y $k_2$ tales que $i < k_1 < k_2 < j$ (al principio, $i = 0$ y $j = n - 1$), de forma tal de subdividir el arreglo en tres tercios de aproximadamente el mismo tamaño e ir desechando el tercio restante.\n",
        "El cálculo de $k_1$ y $k_2$ se hará calculando la distancia entre $a[i]$ y $a[j]$\n",
        "como $d = (j - i)//3$. Así, $k_1 = i+d$ y $k_2 = j - d$.\n",
        "\n",
        "En la imagen a continuación, se han representado tres colores correspondientes a las posibles posiciones para el máximo (el cual se asume por recursividad que está en ese subarreglo). Se distinguirán los casos $a[k_1] > a[k_2]$, $a[k_1] < a[k_2]$ y $a[k_1] = a[k_2]$.\n",
        "\n",
        "![arreglo](https://github.com/DiegoRomanCortes/AED/blob/master/arreglot3.png?raw=true)\n",
        "\n",
        "\n",
        "\n",
        "*   Si $a[k_1] > a[k_2]$, el máximo podría estar tanto en la parte roja como en la parte verde. Por tanto, la parte azul es descartada.\n",
        "*   Análogamente, si $a[k_1] < a[k_2]$, la parte verde deberá ser descartada.\n",
        "*   El caso $a[k_1] = a[k_2]$ es cuando se ha encontrado el máximo (el cual es justamente $a[k_1]$). \n",
        "\n"
      ]
    },
    {
      "cell_type": "code",
      "metadata": {
        "id": "TnSmkK_dbXKl",
        "colab_type": "code",
        "outputId": "23c6320a-3857-4b4f-e780-c8714094d40e",
        "colab": {
          "base_uri": "https://localhost:8080/",
          "height": 119
        }
      },
      "source": [
        "import numpy as np\n",
        "\n",
        "def moda(a):\n",
        "  n = len(a)\n",
        "  def moda_rec(a, i, j):\n",
        "    d = (j-i)//3 #un tercio de la longitud del subarreglo \n",
        "    k1 = i+d\n",
        "    k2 = j-d\n",
        "    if a[k1] == a[k2]:\n",
        "      return a[k1]\n",
        "    elif a[k1] < a[k2]:\n",
        "      return moda_rec(a, k1+1, j)\n",
        "    else: #a[k1] > a[k2]\n",
        "      return moda_rec(a, i, k2-1)\n",
        "  return moda_rec(a,0,n-1)\n",
        "\n",
        "a1 = [10, 74, 56, 22]\n",
        "a2 = [12, 45, 20]\n",
        "a3 = [23, 76]\n",
        "a4 = [42]\n",
        "a5 = [12, 18, 23, 31, 37, 62, 78, 71, 60, 55, 43, 40, 35, 31, 26, 21, 20, 15]\n",
        "a6 = [123, 83, 81, 70, 65, 38, 16, -1, -23, -34]\n",
        "\n",
        "dic = {'a1':a1, 'a2':a2, 'a3':a3, 'a4':a4, 'a5': a5, 'a6':a6}\n",
        "for n in range(6):\n",
        "  a = dic['a%s'%(n+1)]\n",
        "  a = np.array(a)\n",
        "  print('El máximo de',a,'es',moda(a))"
      ],
      "execution_count": 16,
      "outputs": [
        {
          "output_type": "stream",
          "text": [
            "El máximo de [10 74 56 22] es 74\n",
            "El máximo de [12 45 20] es 45\n",
            "El máximo de [23 76] es 76\n",
            "El máximo de [42] es 42\n",
            "El máximo de [12 18 23 31 37 62 78 71 60 55 43 40 35 31 26 21 20 15] es 78\n",
            "El máximo de [123  83  81  70  65  38  16  -1 -23 -34] es 123\n"
          ],
          "name": "stdout"
        }
      ]
    }
  ]
}