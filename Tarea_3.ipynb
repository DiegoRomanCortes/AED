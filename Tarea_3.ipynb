{
  "nbformat": 4,
  "nbformat_minor": 0,
  "metadata": {
    "colab": {
      "name": "Tarea 3.ipynb",
      "provenance": [],
      "authorship_tag": "ABX9TyOMMiQ0dezORiOtIioayIfb",
      "include_colab_link": true
    },
    "kernelspec": {
      "name": "python3",
      "display_name": "Python 3"
    }
  },
  "cells": [
    {
      "cell_type": "markdown",
      "metadata": {
        "id": "view-in-github",
        "colab_type": "text"
      },
      "source": [
        "<a href=\"https://colab.research.google.com/github/DiegoRomanCortes/AED/blob/master/Tarea_3.ipynb\" target=\"_parent\"><img src=\"https://colab.research.google.com/assets/colab-badge.svg\" alt=\"Open In Colab\"/></a>"
      ]
    },
    {
      "cell_type": "markdown",
      "metadata": {
        "id": "RzhJ5WbRbZ2t",
        "colab_type": "text"
      },
      "source": [
        "[Enunciado](https://www.u-cursos.cl/ingenieria/2020/1/CC3001/1/tareas/r/CC3001-Tarea3-BusquedaTernaria.pdf)"
      ]
    },
    {
      "cell_type": "markdown",
      "metadata": {
        "id": "3GGhxDnCm926",
        "colab_type": "text"
      },
      "source": [
        "#Introducción\n",
        "\n",
        "En este bloc de notas se tiene por objetivo el diseñar, implementar y analizar un algoritmo eficiente de búsqueda ternaria basado en \"dividir para reinar\". Para ello se dispone de un arreglo unidimensional de enteros que viene ordenado de forma estrictamente ascendente hasta llegar al máximo (el cual es único), para luego ir descendiendo estrictamente. El algoritmo debe entegar el máximo del arreglo de forma eficiente. Posteriormente se analizará qué tan eficiente es en el peor caso usando el [Teorema Maestro](https://en.wikipedia.org/wiki/Master_theorem_(analysis_of_algorithms))."
      ]
    },
    {
      "cell_type": "code",
      "metadata": {
        "id": "TnSmkK_dbXKl",
        "colab_type": "code",
        "outputId": "4ec0aadc-d6ba-45ea-cb30-9cf9312e5ea3",
        "colab": {
          "base_uri": "https://localhost:8080/",
          "height": 34
        }
      },
      "source": [
        "import numpy as np\n",
        "\n",
        "def moda(a):\n",
        "  n = len(a)\n",
        "  def moda_rec(a, i, j):\n",
        "    d = (j-i)//3 #un tercio de la longitud del subarreglo \n",
        "    k1 = i+d\n",
        "    k2 = j-d\n",
        "    if a[k1] == a[k2]:\n",
        "      return a[k1]\n",
        "    elif a[k1] < a[k2]:\n",
        "      return moda_rec(a, k1+1, j)\n",
        "    else: #a[k1] > a[k2]\n",
        "      return moda_rec(a, i, k2-1)\n",
        "  return moda_rec(a,0,n-1)\n",
        "\n",
        "a = [10, 74, 56, 22]\n",
        "#a = [12, 45, 20]\n",
        "#a = [23, 76]\n",
        "#a = [42]\n",
        "#a = [12, 18, 23, 31, 37, 62, 78, 71, 60, 55, 43, 40, 35, 31, 26, 21, 20, 15]\n",
        "#a = [123, 83, 81, 70, 65, 38, 16, -1, -23, -34]\n",
        "a = np.array(a)\n",
        "print(moda(a))"
      ],
      "execution_count": 65,
      "outputs": [
        {
          "output_type": "stream",
          "text": [
            "74\n"
          ],
          "name": "stdout"
        }
      ]
    }
  ]
}