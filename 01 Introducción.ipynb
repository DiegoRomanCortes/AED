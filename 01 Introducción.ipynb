{
  "nbformat": 4,
  "nbformat_minor": 0,
  "metadata": {
    "kernelspec": {
      "display_name": "Python 3",
      "language": "python",
      "name": "python3"
    },
    "language_info": {
      "codemirror_mode": {
        "name": "ipython",
        "version": 3
      },
      "file_extension": ".py",
      "mimetype": "text/x-python",
      "name": "python",
      "nbconvert_exporter": "python",
      "pygments_lexer": "ipython3",
      "version": "3.7.1"
    },
    "colab": {
      "name": "01 Introducción.ipynb",
      "provenance": [],
      "include_colab_link": true
    }
  },
  "cells": [
    {
      "cell_type": "markdown",
      "metadata": {
        "id": "view-in-github",
        "colab_type": "text"
      },
      "source": [
        "<a href=\"https://colab.research.google.com/github/DiegoRomanCortes/AED/blob/master/01%20Introducci%C3%B3n.ipynb\" target=\"_parent\"><img src=\"https://colab.research.google.com/assets/colab-badge.svg\" alt=\"Open In Colab\"/></a>"
      ]
    },
    {
      "cell_type": "markdown",
      "metadata": {
        "id": "GJgGazNH6XNz",
        "colab_type": "text"
      },
      "source": [
        "# 1 Introducción\n",
        "El objetivo de este capítulo es ver los conceptos básicos de programación que luego utilizaremos a lo largo de todo el curso. Esto incluye ver tanto los datos que vamos a manejar, como las instrucciones que operan sobre ellos, así como las técnicas básicas de programación.\n",
        "Para la implementación de los algoritmos que vamos a ver utilizaremos el lenguaje Python, sin perjuicio de que los conceptos que veremos son independientes del lenguaje específico utilizado.\n",
        "\n",
        "En primer lugar, veremos algunos de los tipos de datos básicos de Python.\n",
        "Las variables cambian de tipo dinámicamente según el tipo del valor que tengan en un instante dado."
      ]
    },
    {
      "cell_type": "markdown",
      "metadata": {
        "id": "-Tby1JWX6XN2",
        "colab_type": "text"
      },
      "source": [
        "## Datos numéricos\n",
        "Python distingue entre números enteros (int) y números de punto flotante (float)."
      ]
    },
    {
      "cell_type": "code",
      "metadata": {
        "id": "mWECboKx6XN4",
        "colab_type": "code",
        "colab": {},
        "outputId": "23645857-529c-449c-a0b6-15b99bb61b18"
      },
      "source": [
        "n=5 # int\n",
        "print(n, type(n))\n",
        "x=3.14 # float\n",
        "print(x, type(x))"
      ],
      "execution_count": 0,
      "outputs": [
        {
          "output_type": "stream",
          "text": [
            "5 <class 'int'>\n",
            "3.14 <class 'float'>\n"
          ],
          "name": "stdout"
        }
      ]
    },
    {
      "cell_type": "markdown",
      "metadata": {
        "id": "ZOxMFFLh6XN9",
        "colab_type": "text"
      },
      "source": [
        "Sobre estos datos se pueden ejecutar las operaciones aritméticas habituales."
      ]
    },
    {
      "cell_type": "code",
      "metadata": {
        "id": "Yg-DyiLj6XN-",
        "colab_type": "code",
        "colab": {},
        "outputId": "d1aa35a1-7571-4033-89a7-05875d330463"
      },
      "source": [
        "print(n+1)\n",
        "print(n/2) # noten la diferencia con Python 2.7\n",
        "print(n//2) # división entera\n",
        "print(x**2)"
      ],
      "execution_count": 0,
      "outputs": [
        {
          "output_type": "stream",
          "text": [
            "6\n",
            "2.5\n",
            "2\n",
            "9.8596\n"
          ],
          "name": "stdout"
        }
      ]
    },
    {
      "cell_type": "markdown",
      "metadata": {
        "id": "TJ9j5Ju36XOC",
        "colab_type": "text"
      },
      "source": [
        "## Datos lógicos\n",
        "Los valores de verdad son `True` y `False`. Las operaciones lógicas se indican con palabras en lugar de símbolos."
      ]
    },
    {
      "cell_type": "code",
      "metadata": {
        "id": "o2WLnyDE6XOD",
        "colab_type": "code",
        "colab": {},
        "outputId": "f8da552d-cd41-40ab-9869-63ce016b80df"
      },
      "source": [
        "t=True\n",
        "f=False\n",
        "print(t and f)\n",
        "print(t and not f)\n",
        "print(n>0)"
      ],
      "execution_count": 0,
      "outputs": [
        {
          "output_type": "stream",
          "text": [
            "False\n",
            "True\n",
            "True\n"
          ],
          "name": "stdout"
        }
      ]
    },
    {
      "cell_type": "markdown",
      "metadata": {
        "id": "jmaYI-U76XOH",
        "colab_type": "text"
      },
      "source": [
        "## Strings\n",
        "Los strings se escriben entre comillas simples o dobles, y existen muchas operaciones definidas para ellos."
      ]
    },
    {
      "cell_type": "code",
      "metadata": {
        "id": "koPZqwAc6XOI",
        "colab_type": "code",
        "colab": {},
        "outputId": "c3ba72da-844a-4305-c504-881ce8248ef0"
      },
      "source": [
        "h=\"Hola\"\n",
        "print(h)\n",
        "print(len(h))\n",
        "m='mundo'\n",
        "print(h + \" \" + m)\n",
        "print(h.upper())"
      ],
      "execution_count": 0,
      "outputs": [
        {
          "output_type": "stream",
          "text": [
            "Hola\n",
            "4\n",
            "Hola mundo\n",
            "HOLA\n"
          ],
          "name": "stdout"
        }
      ]
    },
    {
      "cell_type": "markdown",
      "metadata": {
        "id": "QnyxsRgk6XOL",
        "colab_type": "text"
      },
      "source": [
        "## Listas\n",
        "Una lista es una secuencia de datos, posiblemente de distintos tipos, de largo variable."
      ]
    },
    {
      "cell_type": "code",
      "metadata": {
        "id": "e6rUQ09P6XON",
        "colab_type": "code",
        "colab": {},
        "outputId": "297c3b82-c4be-4f31-c0f4-5ffe380346cd"
      },
      "source": [
        "L=[3,2,1]\n",
        "print(L)\n",
        "L.append(0)\n",
        "print(L)\n",
        "x=L.pop()\n",
        "print(L)\n",
        "print(x)"
      ],
      "execution_count": 0,
      "outputs": [
        {
          "output_type": "stream",
          "text": [
            "[3, 2, 1]\n",
            "[3, 2, 1, 0]\n",
            "[3, 2, 1]\n",
            "0\n"
          ],
          "name": "stdout"
        }
      ]
    },
    {
      "cell_type": "markdown",
      "metadata": {
        "id": "7x3wNTAb6XOQ",
        "colab_type": "text"
      },
      "source": [
        "Los elementos de la lista se indexan partiendo desde cero."
      ]
    },
    {
      "cell_type": "code",
      "metadata": {
        "id": "BmOE1-XJ6XOR",
        "colab_type": "code",
        "colab": {},
        "outputId": "9e0b5234-2d98-413a-a0d1-ab324a977107"
      },
      "source": [
        "print(L[0])\n",
        "print(L[2])\n",
        "print(L[-1]) # contando desde el extremo derecho"
      ],
      "execution_count": 0,
      "outputs": [
        {
          "output_type": "stream",
          "text": [
            "3\n",
            "1\n",
            "1\n"
          ],
          "name": "stdout"
        }
      ]
    },
    {
      "cell_type": "markdown",
      "metadata": {
        "id": "ykf0urtY6XOV",
        "colab_type": "text"
      },
      "source": [
        "Una lista se puede construir en base a iterar una fórmula:"
      ]
    },
    {
      "cell_type": "code",
      "metadata": {
        "id": "32QEEZcb6XOW",
        "colab_type": "code",
        "colab": {},
        "outputId": "b296c958-c421-4800-dfe5-eb6ddbec6f63"
      },
      "source": [
        "C = [n**2 for n in range(1,7)]\n",
        "print(C)"
      ],
      "execution_count": 0,
      "outputs": [
        {
          "output_type": "stream",
          "text": [
            "[1, 4, 9, 16, 25, 36]\n"
          ],
          "name": "stdout"
        }
      ]
    },
    {
      "cell_type": "markdown",
      "metadata": {
        "id": "RdlqClmV6XOa",
        "colab_type": "text"
      },
      "source": [
        "Una lista se puede recorrer a través de sus subíndices:"
      ]
    },
    {
      "cell_type": "code",
      "metadata": {
        "id": "nY_DT7vf6XOb",
        "colab_type": "code",
        "colab": {},
        "outputId": "a97eba6d-4af2-4539-e8d1-34d8d82d33c3"
      },
      "source": [
        "for i in range(0,len(C)):\n",
        "    print(C[i])"
      ],
      "execution_count": 0,
      "outputs": [
        {
          "output_type": "stream",
          "text": [
            "1\n",
            "4\n",
            "9\n",
            "16\n",
            "25\n",
            "36\n"
          ],
          "name": "stdout"
        }
      ]
    },
    {
      "cell_type": "markdown",
      "metadata": {
        "id": "amekkRt66XOe",
        "colab_type": "text"
      },
      "source": [
        "O bien iterando sobre los elementos de la lista:"
      ]
    },
    {
      "cell_type": "code",
      "metadata": {
        "id": "bwj-zYng6XOf",
        "colab_type": "code",
        "colab": {},
        "outputId": "776d19f8-dbb4-4cd8-b7a8-f2d87d475c27"
      },
      "source": [
        "for v in C:\n",
        "    print(v)"
      ],
      "execution_count": 0,
      "outputs": [
        {
          "output_type": "stream",
          "text": [
            "1\n",
            "4\n",
            "9\n",
            "16\n",
            "25\n",
            "36\n"
          ],
          "name": "stdout"
        }
      ]
    },
    {
      "cell_type": "markdown",
      "metadata": {
        "id": "ZngsGIWn6XOi",
        "colab_type": "text"
      },
      "source": [
        "## Funciones predefinidas\n",
        "Hay funciones que están disponibles para ser utilizadas:"
      ]
    },
    {
      "cell_type": "code",
      "metadata": {
        "id": "2YlBwGjq6XOj",
        "colab_type": "code",
        "colab": {},
        "outputId": "9011b93d-595f-4c62-af02-670f7dc40db8"
      },
      "source": [
        "import math\n",
        "a=3\n",
        "b=4\n",
        "c=math.sqrt(a**2+b**2)\n",
        "print(c)"
      ],
      "execution_count": 0,
      "outputs": [
        {
          "output_type": "stream",
          "text": [
            "5.0\n"
          ],
          "name": "stdout"
        }
      ]
    },
    {
      "cell_type": "markdown",
      "metadata": {
        "id": "1gi6Cax46XOm",
        "colab_type": "text"
      },
      "source": [
        "## Funciones\n",
        "Uno puede definir sus propias funciones:"
      ]
    },
    {
      "cell_type": "code",
      "metadata": {
        "id": "ypgPDzeo6XOn",
        "colab_type": "code",
        "colab": {},
        "outputId": "b6a9b55f-ed3b-45a7-9c53-f853c5f6ae6a"
      },
      "source": [
        "def hipotenusa(a,b):\n",
        "    import math\n",
        "    c=math.sqrt(a**2+b**2)\n",
        "    return c\n",
        "print(hipotenusa(3,4))"
      ],
      "execution_count": 0,
      "outputs": [
        {
          "output_type": "stream",
          "text": [
            "5.0\n"
          ],
          "name": "stdout"
        }
      ]
    },
    {
      "cell_type": "markdown",
      "metadata": {
        "id": "2rtoeWp76XOr",
        "colab_type": "text"
      },
      "source": [
        "## Expresiones condicionales\n",
        "Una expresión de la forma\n",
        "```python\n",
        "valor_si_verdadero if condicion else valor_si_falso\n",
        "```\n",
        "permite por ejemplo definir funciones por tramos:"
      ]
    },
    {
      "cell_type": "code",
      "metadata": {
        "id": "yWhT9hu06XOs",
        "colab_type": "code",
        "colab": {},
        "outputId": "663a7c12-9ee8-4e63-edce-0c8a8f522d93"
      },
      "source": [
        "def valor_absoluto(x):\n",
        "    return -x if x<0 else x\n",
        "print(valor_absoluto(-5), valor_absoluto(5))"
      ],
      "execution_count": 0,
      "outputs": [
        {
          "output_type": "stream",
          "text": [
            "5 5\n"
          ],
          "name": "stdout"
        }
      ]
    },
    {
      "cell_type": "markdown",
      "metadata": {
        "id": "QzCQHOFs6XOv",
        "colab_type": "text"
      },
      "source": [
        "## Diccionarios\n",
        "Un diccionario es similar a una lista, pero los elementos se indexan con datos no necesariamente numéricos. Por ejemplo, supongamos que queremos convertir \"piedra\", \"papel\" y \"tijera\" a una representación numérica 0, 1, 2, respectivamente:"
      ]
    },
    {
      "cell_type": "code",
      "metadata": {
        "id": "Hzg-Rfhs6XOw",
        "colab_type": "code",
        "colab": {},
        "outputId": "bdd2e130-69d3-41ed-d2e9-014fa0c06600"
      },
      "source": [
        "p_a_n = {\"piedra\":0, \"papel\":1, \"tijera\":2} # para convertir de palabra a número\n",
        "print(p_a_n[\"papel\"])"
      ],
      "execution_count": 0,
      "outputs": [
        {
          "output_type": "stream",
          "text": [
            "1\n"
          ],
          "name": "stdout"
        }
      ]
    },
    {
      "cell_type": "markdown",
      "metadata": {
        "id": "LI9zO-l-6XOz",
        "colab_type": "text"
      },
      "source": [
        "La conversión inversa se puede hacer simplemente con una lista:"
      ]
    },
    {
      "cell_type": "code",
      "metadata": {
        "id": "iEhXSX9s6XO0",
        "colab_type": "code",
        "colab": {},
        "outputId": "e2a312dc-2605-4569-8b36-f1b803ffa895"
      },
      "source": [
        "n_a_p = [\"piedra\", \"papel\", \"tijera\"] # para convertir de número a palabra\n",
        "print(n_a_p[1])"
      ],
      "execution_count": 0,
      "outputs": [
        {
          "output_type": "stream",
          "text": [
            "papel\n"
          ],
          "name": "stdout"
        }
      ]
    },
    {
      "cell_type": "markdown",
      "metadata": {
        "id": "6zgIBg1k6XO5",
        "colab_type": "text"
      },
      "source": [
        "Con esto podemos hacer una función en que el programa juegue contra el usuario:"
      ]
    },
    {
      "cell_type": "code",
      "metadata": {
        "id": "qZ9NBvE86XO6",
        "colab_type": "code",
        "colab": {},
        "outputId": "93a0522f-a321-44b8-b22a-17b9b65e9eb6"
      },
      "source": [
        "def juega():\n",
        "    from random import randint\n",
        "    programa=randint(0,2)\n",
        "    usuario=int(p_a_n[input(\"¿piedra, papel o tijera? \")])\n",
        "    resultado=\"Empate\" if programa==usuario else\\\n",
        "        \"Gana Usuario\" if (programa+1)%3==usuario else \"Gana Programa\"\n",
        "    print(\"Usuario juega\", n_a_p[usuario])\n",
        "    print(\"Programa juega\", n_a_p[programa])\n",
        "    print(\"Resultado:\", resultado)\n",
        "juega()"
      ],
      "execution_count": 0,
      "outputs": [
        {
          "output_type": "stream",
          "text": [
            "¿piedra, papel o tijera? piedra\n",
            "Usuario juega piedra\n",
            "Programa juega piedra\n",
            "Resultado: Empate\n"
          ],
          "name": "stdout"
        }
      ]
    },
    {
      "cell_type": "markdown",
      "metadata": {
        "id": "WJJ1lK3m6XO-",
        "colab_type": "text"
      },
      "source": [
        "## Instrucción condicional: if\n",
        "La instrucción `if` permite elegir entre distintas alternativas de instrucciones a ejecutar."
      ]
    },
    {
      "cell_type": "code",
      "metadata": {
        "id": "II7UaJPF6XO_",
        "colab_type": "code",
        "colab": {},
        "outputId": "0dc7c5db-0d3d-444f-da36-207a05b4fbd7"
      },
      "source": [
        "# Encontrar el máximo entre dos valores\n",
        "def max2(a, b):\n",
        "    if a>b:\n",
        "        m=a\n",
        "    else:\n",
        "        m=b\n",
        "    return m\n",
        "print(max2(3,7))"
      ],
      "execution_count": 0,
      "outputs": [
        {
          "output_type": "stream",
          "text": [
            "7\n"
          ],
          "name": "stdout"
        }
      ]
    },
    {
      "cell_type": "markdown",
      "metadata": {
        "id": "J_fzsD_k6XPD",
        "colab_type": "text"
      },
      "source": [
        "Esto se puede generalizar a 3 valores, pero el resultado no es muy elegante:"
      ]
    },
    {
      "cell_type": "code",
      "metadata": {
        "id": "hNY4g0oR6XPE",
        "colab_type": "code",
        "colab": {},
        "outputId": "81ded35f-26e7-45b2-994c-8b1875e4681b"
      },
      "source": [
        "# Encontrar el máximo entre tres valores\n",
        "def max3(a, b, c):\n",
        "    if a>b:\n",
        "        if a>c:\n",
        "            m=a\n",
        "        else:\n",
        "            m=c\n",
        "    else:\n",
        "        if b>c:\n",
        "            m=b\n",
        "        else:\n",
        "            m=c\n",
        "    return m\n",
        "print(max3(4,3,7))"
      ],
      "execution_count": 0,
      "outputs": [
        {
          "output_type": "stream",
          "text": [
            "7\n"
          ],
          "name": "stdout"
        }
      ]
    },
    {
      "cell_type": "markdown",
      "metadata": {
        "id": "J2U34ArW6XPI",
        "colab_type": "text"
      },
      "source": [
        "Una mejor alternativa la podemos obtener si vamos obteniendo aproximaciones sucesivas al máximo:"
      ]
    },
    {
      "cell_type": "code",
      "metadata": {
        "id": "OyPnQnI96XPJ",
        "colab_type": "code",
        "colab": {},
        "outputId": "5c19d6b4-1bd1-474d-b82a-64801356f298"
      },
      "source": [
        "# Encontrar el máximo entre dos valores\n",
        "def max2(a, b):\n",
        "    m=a\n",
        "    if b>m:\n",
        "        m=b\n",
        "    return m\n",
        "print(max2(3,7))"
      ],
      "execution_count": 0,
      "outputs": [
        {
          "output_type": "stream",
          "text": [
            "7\n"
          ],
          "name": "stdout"
        }
      ]
    },
    {
      "cell_type": "markdown",
      "metadata": {
        "id": "LC8eBUhp6XPL",
        "colab_type": "text"
      },
      "source": [
        "Esto se generaliza de manera mucho más simple a tres (o más) valores:"
      ]
    },
    {
      "cell_type": "code",
      "metadata": {
        "id": "fVvdd5kQ6XPM",
        "colab_type": "code",
        "colab": {},
        "outputId": "492538c6-5d1e-44aa-f30d-6e45bd294a0c"
      },
      "source": [
        "# Encontrar el máximo entre tres valores\n",
        "def max3(a, b, c):\n",
        "    m=a\n",
        "    if b>m:\n",
        "        m=b\n",
        "    if c>m:\n",
        "        m=c\n",
        "    return m\n",
        "print(max3(4,3,7))"
      ],
      "execution_count": 0,
      "outputs": [
        {
          "output_type": "stream",
          "text": [
            "7\n"
          ],
          "name": "stdout"
        }
      ]
    },
    {
      "cell_type": "markdown",
      "metadata": {
        "id": "7EidCwYK6XPP",
        "colab_type": "text"
      },
      "source": [
        "Cuando hay preguntas encadenadas, se puede usar la cláusula `elif` (abreviatura de `else if`, pero que no abre un nuevo nivel de indentación):"
      ]
    },
    {
      "cell_type": "code",
      "metadata": {
        "id": "MNZiVXjI6XPQ",
        "colab_type": "code",
        "colab": {},
        "outputId": "981bb21f-cc63-4975-aba5-353bff27d7c5"
      },
      "source": [
        "# Dice si un año dado es bisiesto\n",
        "def es_bisiesto(a):\n",
        "    if a%400==0:   # Los múltiplos de 400 siempre son bisiestos\n",
        "        b=True\n",
        "    elif a%100==0: # Los demás múltiplos de 100 no son bisiestos\n",
        "        b=False\n",
        "    elif a%4==0:   # De los restantes, los múltiplos de 4 son bisiestos\n",
        "        b=True\n",
        "    else:          # Cualquier otro año no es bisiesto\n",
        "        b=False\n",
        "    return b\n",
        "print(es_bisiesto(1900), es_bisiesto(2000), es_bisiesto(2020))"
      ],
      "execution_count": 0,
      "outputs": [
        {
          "output_type": "stream",
          "text": [
            "False True True\n"
          ],
          "name": "stdout"
        }
      ]
    },
    {
      "cell_type": "markdown",
      "metadata": {
        "id": "CHGDDCZ46XPT",
        "colab_type": "text"
      },
      "source": [
        "## Instrucciones iterativas: for\n",
        "La instrucción `for` itera con una variable que toma valores de una lista dada. A menudo, esa lista se especifica mediante `range`:"
      ]
    },
    {
      "cell_type": "code",
      "metadata": {
        "id": "GCbzvQ8h6XPU",
        "colab_type": "code",
        "colab": {},
        "outputId": "4f0263dd-975b-4a61-d76f-a68657abf3df"
      },
      "source": [
        "# Encuentra el máximo de una lista a\n",
        "def maximo(a):\n",
        "    m=a[0]\n",
        "    # Al comenzar cada iteración, se cumple que m==max(a[0],...,a[k-1])\n",
        "    for k in range(1,len(a)):\n",
        "        if a[k]>m:\n",
        "            m=a[k]\n",
        "    return(m)\n",
        "print(maximo([25, 42, 93, 17, 54, 28]))"
      ],
      "execution_count": 0,
      "outputs": [
        {
          "output_type": "stream",
          "text": [
            "93\n"
          ],
          "name": "stdout"
        }
      ]
    },
    {
      "cell_type": "markdown",
      "metadata": {
        "id": "LlDzVw9j6XPY",
        "colab_type": "text"
      },
      "source": [
        "El comentario que aparece junto al `for` describe lo que se llama el **invariante** del ciclo, y es muy útil para poder argumentar la correctitud del programa, así como para poder ayudar a su diseño.\n",
        "\n",
        "El invariante una afirmación lógica que debe ser verdadera cada vez que se intenta iniciar una nueva iteración, lo cual incluye tanto la primera vez como el último intento, en que se detecta que el rango ya se ha agotado y el ciclo termina.\n",
        "\n",
        "* La validez del invariante la primera vez la deben asegurar las instrucciones previas al ciclo, que se llaman instrucciones de *inicialización*. En este ejemplo, al comenzar el ciclo se tiene que $k=1$, y por lo tanto trivialmente se cumple que $m=\\max(a[0])$.\n",
        "\n",
        "* Las instrucciones al interior del ciclo (el \"cuerpo de ciclo\") parten de la premisa de que el invariante se cumple al inicio, y deben garantizar que se cumpla al final (para dejar todo listo para la próxima iteración). Esto se llama _preservar el invariante_. En este ejemplo, para asegurar que $m=\\max(a[0],\\ldots,a[k])$ sabiendo que ya era cierto que $m=\\max(a[0],\\ldots,a[k-1])$, se debe modificar m solo en el caso de que $a[k]$ sea mayor que $m$, o dejarlo igual si no.\n",
        "\n",
        "* Cuando se detecta que el rango se ha agotado, el invariante igualmente se cumple, y ambas cosas juntas deben asegurar que haya logrado el objetivo final deseado. En este ejemplo, cuando $k$ llega a ser igual a $len(a)$, el invariante implica que $m=\\max(a[0],\\ldots,a[len(a)-1])$, o sea, es el máximo de toda la lista."
      ]
    },
    {
      "cell_type": "markdown",
      "metadata": {
        "id": "Kk9zEulf6XPZ",
        "colab_type": "text"
      },
      "source": [
        "## Instrucciones iterativas: while\n",
        "La instrucción `while` ejecuta instrucciones mientra la condición especificada sea verdadera:"
      ]
    },
    {
      "cell_type": "code",
      "metadata": {
        "id": "Xc54TxLn6XPa",
        "colab_type": "code",
        "colab": {},
        "outputId": "b3020f5f-5746-4e53-b6cd-b2465e317049"
      },
      "source": [
        "# Dice si un número dado es primo o no\n",
        "def es_primo(n):\n",
        "    if n==2:\n",
        "        return True # 2 es primo\n",
        "    if n%2==0:\n",
        "        return False # ningún otro par es primo\n",
        "    k=3\n",
        "    while k**2<=n: # no es necesario buscar posibles factores más allá de sqrt(n)\n",
        "        if n%k==0:\n",
        "            return False\n",
        "        k+=2 # probamos solo los impares\n",
        "    # si no se encontró ningún factor menor que raíz de n, es primo\n",
        "    return True\n",
        "print(es_primo(2), es_primo(7), es_primo(9), es_primo(79823492843), es_primo(79823492869))"
      ],
      "execution_count": 0,
      "outputs": [
        {
          "output_type": "stream",
          "text": [
            "True True False False True\n"
          ],
          "name": "stdout"
        }
      ]
    },
    {
      "cell_type": "markdown",
      "metadata": {
        "id": "LSeBtn6N6XPd",
        "colab_type": "text"
      },
      "source": [
        "## Ejemplo de programación con invariantes: Calcular $y = x^n$\n",
        "Supongamos que no tuviéramos una operación de elevación a potencia, y que necesitáramos calcular $x^n$ para $n$ entero no negativo.\n",
        "El algoritmo obvio es calcular $x*x*\\cdots *x$ ($n$ veces):"
      ]
    },
    {
      "cell_type": "code",
      "metadata": {
        "id": "CrCPjmHu6XPe",
        "colab_type": "code",
        "colab": {}
      },
      "source": [
        "def potencia(x, n):\n",
        "    y=1\n",
        "    for k in range(0,n):\n",
        "        y*=x\n",
        "    return y"
      ],
      "execution_count": 0,
      "outputs": []
    },
    {
      "cell_type": "code",
      "metadata": {
        "id": "IRxeWP0D6XPg",
        "colab_type": "code",
        "colab": {},
        "outputId": "9f2ed10a-1acc-4199-cce3-458802f0d3e6"
      },
      "source": [
        "print(potencia(2,10))"
      ],
      "execution_count": 0,
      "outputs": [
        {
          "output_type": "stream",
          "text": [
            "1024\n"
          ],
          "name": "stdout"
        }
      ]
    },
    {
      "cell_type": "markdown",
      "metadata": {
        "id": "WXFsxnj76XPk",
        "colab_type": "text"
      },
      "source": [
        "El invariante, esto es, lo que se cumple al comenzar cada nueva iteración es $y = x^k$. Así, al inicio, cuando $k=0$, se tiene $y=1$ (inicialización), y al término, cuando $y=n$, se tiene la condición final buscada. La preservación del invariante consiste en multiplicar $y$ por $x$, porque así se sigue cumpliendo el invariante cuando $k$ se incrementa en $1$.\n",
        "\n",
        "Este algoritmo demora un tiempo proporcional a $n$, lo cual escribiremos $O(n)$ y lo leeremos \"del orden de $n$\". (Más adelante definiremos precisamente esta notación, y veremos que podríamos ser más precisos todavía al describir el tiempo que demora un algoritmo)\n",
        "\n",
        "¿Será posible calcular una potencia de manera más eficiente?\n",
        "\n",
        "Para ver cómo podríamos mejorar el algoritmo, comenzaremos por reescribirlo de modo que la variable $k$ vaya disminuyendo en lugar de ir aumentando, usando para ello la instrucción `while`:"
      ]
    },
    {
      "cell_type": "code",
      "metadata": {
        "id": "ED77ENbD6XPk",
        "colab_type": "code",
        "colab": {}
      },
      "source": [
        "def potencia(x, n):\n",
        "    y=1\n",
        "    k=n\n",
        "    while k>0:\n",
        "        y*=x\n",
        "        k-=1\n",
        "    return y"
      ],
      "execution_count": 0,
      "outputs": []
    },
    {
      "cell_type": "code",
      "metadata": {
        "id": "wY1Rkyr06XPo",
        "colab_type": "code",
        "colab": {},
        "outputId": "3e2e8716-7e51-46cd-df64-1ba26aee0cb3"
      },
      "source": [
        "print(potencia(2,10))"
      ],
      "execution_count": 0,
      "outputs": [
        {
          "output_type": "stream",
          "text": [
            "1024\n"
          ],
          "name": "stdout"
        }
      ]
    },
    {
      "cell_type": "markdown",
      "metadata": {
        "id": "z_E8sflB6XPs",
        "colab_type": "text"
      },
      "source": [
        "El invariante en este caso sería $y = x^{n-k}$ o, lo que es lo mismo, $y * x^k = x^n$.\n",
        "\n",
        "El reescribirlo de esta manera nos permite hacer el siguiente truco: vamos a introducir una variable $z$, cuyo valor inicial es $x$, y reformular el invariante como $y * z^k = x^n$:"
      ]
    },
    {
      "cell_type": "code",
      "metadata": {
        "id": "_0JUm5_w6XPs",
        "colab_type": "code",
        "colab": {}
      },
      "source": [
        "def potencia(x, n):\n",
        "    y=1\n",
        "    k=n\n",
        "    z=x\n",
        "    while k>0:\n",
        "        y*=z\n",
        "        k-=1\n",
        "    return y"
      ],
      "execution_count": 0,
      "outputs": []
    },
    {
      "cell_type": "code",
      "metadata": {
        "id": "FYeSNx0C6XPv",
        "colab_type": "code",
        "colab": {},
        "outputId": "f941202b-d19e-487b-aa74-7df46fa31fa9"
      },
      "source": [
        "print(potencia(2,10))"
      ],
      "execution_count": 0,
      "outputs": [
        {
          "output_type": "stream",
          "text": [
            "1024\n"
          ],
          "name": "stdout"
        }
      ]
    },
    {
      "cell_type": "markdown",
      "metadata": {
        "id": "KyVB-PiJ6XPy",
        "colab_type": "text"
      },
      "source": [
        "Este cambio podría parecer ocioso, pero gracias a él ahora tenemos un grado adicional de libertad: en efecto, podemos modificar la variable $z$ en la medida que eso no haga que el invariante deje de cumplirse.\n",
        "\n",
        "En particular, una oportunidad de hacer esto aparece cuando $k$ es par. En ese caso, si elevamos $z$ al cuadrado y al mismo tiempo dividimos $k$ a la mitad, ambos cambios se complementan para hacer que el invariante se preserve:"
      ]
    },
    {
      "cell_type": "code",
      "metadata": {
        "id": "AdJlypCw6XPz",
        "colab_type": "code",
        "colab": {}
      },
      "source": [
        "def potencia(x, n):\n",
        "    y=1\n",
        "    k=n\n",
        "    z=x\n",
        "    while k>0:\n",
        "        if k%2==0: # caso k par\n",
        "            z=z*z\n",
        "            k//=2\n",
        "        else:      # caso k impar\n",
        "            y*=z \n",
        "            k-=1\n",
        "    return y"
      ],
      "execution_count": 0,
      "outputs": []
    },
    {
      "cell_type": "code",
      "metadata": {
        "id": "eLk9wpNS6XP3",
        "colab_type": "code",
        "colab": {},
        "outputId": "d2ba4f30-9ffe-49ed-9419-14aa176de86b"
      },
      "source": [
        "print(potencia(2,10))"
      ],
      "execution_count": 0,
      "outputs": [
        {
          "output_type": "stream",
          "text": [
            "1024\n"
          ],
          "name": "stdout"
        }
      ]
    },
    {
      "cell_type": "markdown",
      "metadata": {
        "id": "hdJPgbzb6XP6",
        "colab_type": "text"
      },
      "source": [
        "Este algoritmo admite todavía una pequeña optimización. Cuando $k$ se divide por $2$, no solo se preserva el invariante, sino que además $k$ sigue siendo $>0$, y por lo tanto no es necesario en ese caso volver a preguntar por la condición del `while`. El algoritmo queda como sigue:"
      ]
    },
    {
      "cell_type": "code",
      "metadata": {
        "id": "yoTiSUfm6XP7",
        "colab_type": "code",
        "colab": {}
      },
      "source": [
        "def potencia(x, n):\n",
        "    y=1\n",
        "    k=n\n",
        "    z=x\n",
        "    while k>0:\n",
        "        while k%2==0: # caso k par\n",
        "            z=z*z\n",
        "            k//=2\n",
        "        y*=z # aquí estamos seguros que k es impar\n",
        "        k-=1\n",
        "    return y"
      ],
      "execution_count": 0,
      "outputs": []
    },
    {
      "cell_type": "code",
      "metadata": {
        "id": "NeSANkcW6XP9",
        "colab_type": "code",
        "colab": {
          "base_uri": "https://localhost:8080/",
          "height": 34
        },
        "outputId": "0c19a4db-ca65-4694-d545-efabc3d9b0ac"
      },
      "source": [
        "print(potencia(2,10))"
      ],
      "execution_count": 6,
      "outputs": [
        {
          "output_type": "stream",
          "text": [
            "1024\n"
          ],
          "name": "stdout"
        }
      ]
    },
    {
      "cell_type": "markdown",
      "metadata": {
        "id": "VKlOY4uR6XQC",
        "colab_type": "text"
      },
      "source": [
        "Este algoritmo (en cualquiera de las dos últimas versiones) se llama el _algoritmo binario_, y es mucho más eficiente que el algoritmo inicial. Cada vez que se da el caso par, $k$ disminuye a a mitad, y eso ocurre al menos la mitad de las veces. Pero si $k$ comienza con el valor $n$, la operación de dividir por $2$ se puede ejecutar a lo más $\\log_2{n}$ veces, por lo tanto el tiempo total de ejecución es $O(\\log_2{n})$, en lugar de $O(n)$. \n",
        "\n",
        "Decimos que el algoritmo original era de tiempo lineal, y que el algoritmo binario es de tiempo logarítmico. Para $n$ grande, la diferencia de eficiencia es muy grande en favor del algoritmo binario.\n",
        "\n",
        "Una observación importante es que para que el algoritmo binario funcione, solo es necesario que $x$ $y$, $z$ pertenezcan a un conjunto para el cual hay definida una operación multiplicativa que sea asociativa y que tenga un elemento neutro. Por lo tanto, este algoritmo no solo sirve para elevar a potencia números enteros o reales, sino que además, por ejemplo, matrices. "
      ]
    },
    {
      "cell_type": "markdown",
      "metadata": {
        "id": "RhpAfata6XQD",
        "colab_type": "text"
      },
      "source": [
        "## Numpy y Arreglos\n",
        "\n",
        "Numpy es la principal biblioteca para computación científica en Python.\n",
        "\n",
        "Una de las características de Numpy es que provee arreglos multidimensionales de alta eficiencia. Mientras la gran flexibilidad de las listas de Python puede hacer que no sea muy eficiente el acceso a elementos específicos, los arreglos de Numpy aseguran el acceso a cada elemento en tiempo constante. Por esa razón, utilizaremos estos arreglos cuando necesitemos asegurar la eficiencia de la implementación de los algoritmos.\n"
      ]
    },
    {
      "cell_type": "code",
      "metadata": {
        "id": "j0apCsmi6XQF",
        "colab_type": "code",
        "colab": {},
        "outputId": "bec175f4-373e-4f46-91ec-f48fb465b7d2"
      },
      "source": [
        "import numpy as np\n",
        "\n",
        "a = np.array([6.5, 5.2, 4.6, 7.0, 4.3])\n",
        "print(a[2])"
      ],
      "execution_count": 0,
      "outputs": [
        {
          "output_type": "stream",
          "text": [
            "4.6\n"
          ],
          "name": "stdout"
        }
      ]
    },
    {
      "cell_type": "code",
      "metadata": {
        "id": "c0wNiUPp6XQL",
        "colab_type": "code",
        "colab": {},
        "outputId": "c498a040-64c3-4f5e-f82c-e0fe6efc671a"
      },
      "source": [
        "print(len(a))"
      ],
      "execution_count": 0,
      "outputs": [
        {
          "output_type": "stream",
          "text": [
            "5\n"
          ],
          "name": "stdout"
        }
      ]
    },
    {
      "cell_type": "markdown",
      "metadata": {
        "id": "kGZ4UXtE6XQO",
        "colab_type": "text"
      },
      "source": [
        "Hay varias formas de crear arreglos inicializados con ceros, unos, valores constantes o valores aleatorios."
      ]
    },
    {
      "cell_type": "code",
      "metadata": {
        "id": "gw87A2JF6XQO",
        "colab_type": "code",
        "colab": {},
        "outputId": "2b632e61-ebe5-4023-d76a-78be758332e1"
      },
      "source": [
        "b = np.ones(10)\n",
        "print(b)"
      ],
      "execution_count": 0,
      "outputs": [
        {
          "output_type": "stream",
          "text": [
            "[1. 1. 1. 1. 1. 1. 1. 1. 1. 1.]\n"
          ],
          "name": "stdout"
        }
      ]
    },
    {
      "cell_type": "code",
      "metadata": {
        "id": "a_xCNeZ56XQV",
        "colab_type": "code",
        "colab": {},
        "outputId": "ddaf6adf-f207-4bc4-c64b-72983922c44b"
      },
      "source": [
        "c = np.zeros(7,dtype=int)\n",
        "print(c)"
      ],
      "execution_count": 0,
      "outputs": [
        {
          "output_type": "stream",
          "text": [
            "[0 0 0 0 0 0 0]\n"
          ],
          "name": "stdout"
        }
      ]
    },
    {
      "cell_type": "markdown",
      "metadata": {
        "id": "3RnI4J3a6XQc",
        "colab_type": "text"
      },
      "source": [
        "En los dos ejemplos anteriores mostramos la diferencia que se produce al explicitar el tipo de datos del arreglo. En el primero, obtenemos el _default_, que es flotante, mientras en el segundo forzamos a que sea entero."
      ]
    },
    {
      "cell_type": "code",
      "metadata": {
        "id": "diIGJqnI6XQd",
        "colab_type": "code",
        "colab": {},
        "outputId": "34942e04-ab54-4a0d-b3f0-1e8a179b1f8f"
      },
      "source": [
        "c = np.full(5, 2)\n",
        "print(c)"
      ],
      "execution_count": 0,
      "outputs": [
        {
          "output_type": "stream",
          "text": [
            "[2 2 2 2 2]\n"
          ],
          "name": "stdout"
        }
      ]
    },
    {
      "cell_type": "code",
      "metadata": {
        "id": "_2JUZBHT6XQi",
        "colab_type": "code",
        "colab": {},
        "outputId": "58949ef1-1422-46d5-8549-b196c19cea21"
      },
      "source": [
        "d = np.random.random(6)\n",
        "print(d)"
      ],
      "execution_count": 0,
      "outputs": [
        {
          "output_type": "stream",
          "text": [
            "[0.05465213 0.96277623 0.1804966  0.76631925 0.48289296 0.88119081]\n"
          ],
          "name": "stdout"
        }
      ]
    },
    {
      "cell_type": "markdown",
      "metadata": {
        "id": "nRn3NDJP6XQq",
        "colab_type": "text"
      },
      "source": [
        "También es posible crear y manejar arreglos de varias dimensiones."
      ]
    },
    {
      "cell_type": "code",
      "metadata": {
        "id": "0_yGeV_a6XQs",
        "colab_type": "code",
        "colab": {},
        "outputId": "5d62ad8c-693d-4f79-d17c-a582e40359a2"
      },
      "source": [
        "a = np.array([[1,2,3],[4,5,6]])\n",
        "print(a)"
      ],
      "execution_count": 0,
      "outputs": [
        {
          "output_type": "stream",
          "text": [
            "[[1 2 3]\n",
            " [4 5 6]]\n"
          ],
          "name": "stdout"
        }
      ]
    },
    {
      "cell_type": "code",
      "metadata": {
        "id": "QRuyM8hg6XQw",
        "colab_type": "code",
        "colab": {},
        "outputId": "73d3066d-dfeb-4a9d-8ca4-2c39e39c486a"
      },
      "source": [
        "print(a[0,2])"
      ],
      "execution_count": 0,
      "outputs": [
        {
          "output_type": "stream",
          "text": [
            "3\n"
          ],
          "name": "stdout"
        }
      ]
    },
    {
      "cell_type": "code",
      "metadata": {
        "id": "0Z4XSrKM6XQ1",
        "colab_type": "code",
        "colab": {},
        "outputId": "1a43c307-59b7-4882-b7bf-f4043f7dde46"
      },
      "source": [
        "(m,n)=np.shape(a)\n",
        "print(m,n)"
      ],
      "execution_count": 0,
      "outputs": [
        {
          "output_type": "stream",
          "text": [
            "2 3\n"
          ],
          "name": "stdout"
        }
      ]
    },
    {
      "cell_type": "code",
      "metadata": {
        "id": "_uPrOD1J6XQ5",
        "colab_type": "code",
        "colab": {},
        "outputId": "db2cb08c-6938-421a-94ea-2066d991cc81"
      },
      "source": [
        "b = np.zeros((3,3))\n",
        "print(b)"
      ],
      "execution_count": 0,
      "outputs": [
        {
          "output_type": "stream",
          "text": [
            "[[0. 0. 0.]\n",
            " [0. 0. 0.]\n",
            " [0. 0. 0.]]\n"
          ],
          "name": "stdout"
        }
      ]
    },
    {
      "cell_type": "code",
      "metadata": {
        "id": "zknl61yM6XQ_",
        "colab_type": "code",
        "colab": {},
        "outputId": "465c5222-7a8a-4d83-ac87-45edd42d8b78"
      },
      "source": [
        "c = np.eye(3)\n",
        "print(c)"
      ],
      "execution_count": 0,
      "outputs": [
        {
          "output_type": "stream",
          "text": [
            "[[1. 0. 0.]\n",
            " [0. 1. 0.]\n",
            " [0. 0. 1.]]\n"
          ],
          "name": "stdout"
        }
      ]
    },
    {
      "cell_type": "markdown",
      "metadata": {
        "id": "3kqqEfee6XRD",
        "colab_type": "text"
      },
      "source": [
        "## Ejemplo: Ordenación por inserción\n",
        "\n",
        "Supongamos que se tiene un arreglo $a$, de tamaño $n$, y queremos reordenar los datos almacenados en su interior de modo que queden en orden ascendente.\n",
        "\n",
        "El método de **Ordenación por Inserción** se basa en formar en el sector izquierdo del arreglo un subconjunto ordenado, en el cual se van insertando uno por uno los elementos restantes. Para la inicialización, comenzamos con un subconjunto ordenado de tamaño 0, y el proceso termina cuando el sunconjunto ordenado llega a tener tamaño $n$. El invariante se puede visualizar como:\n",
        "\n",
        "![insercion](https://github.com/DiegoRomanCortes/AED/blob/master/insercion.png?raw=1)\n",
        "\n",
        "La variable $k$ indica el tamaño del subconjunto ordenado. Equivalentemente, $k$ es el subíndice del primer elemento todavía no ordenado, y que será el que se insertará en esta oportunidad."
      ]
    },
    {
      "cell_type": "code",
      "metadata": {
        "id": "c2MvInlY6XRE",
        "colab_type": "code",
        "colab": {}
      },
      "source": [
        "# Ordenación Por Inserción\n",
        "def ordena_insercion(a):\n",
        "    \n",
        "    n=len(a)\n",
        "    for k in range(0,n):\n",
        "        insertar(a,k)"
      ],
      "execution_count": 0,
      "outputs": []
    },
    {
      "cell_type": "markdown",
      "metadata": {
        "id": "OO6zgaQ46XRG",
        "colab_type": "text"
      },
      "source": [
        "Este algoritmo todavía no es ejecutable, porque falta definir la función `insertar`, que se encarga de tomar $a[k]$ e insertarlo entre los anteriores. La forma más simple de hacer esto es a través de intercambios sucesivos:"
      ]
    },
    {
      "cell_type": "code",
      "metadata": {
        "id": "rSqEpvu06XRH",
        "colab_type": "code",
        "colab": {}
      },
      "source": [
        "# Insertar a[k] entre los elementos anteriores preservando el orden ascendente (versión 1)\n",
        "def insertar(a, k):\n",
        "    j=k # señala la posición del elemento que está siendo insertado\n",
        "    while j>0 and a[j]<a[j-1]:\n",
        "        (a[j], a[j-1]) = (a[j-1], a[j])\n",
        "        j-=1"
      ],
      "execution_count": 0,
      "outputs": []
    },
    {
      "cell_type": "markdown",
      "metadata": {
        "id": "KkdmWFTb6XRL",
        "colab_type": "text"
      },
      "source": [
        "Para poder probar este algoritmo, generemos un arreglo con números aleatorios y ordenémoslo:"
      ]
    },
    {
      "cell_type": "code",
      "metadata": {
        "id": "9VRiiVJb6XRM",
        "colab_type": "code",
        "colab": {},
        "outputId": "e36a9665-6f7c-4dc4-e580-8027a379ca53"
      },
      "source": [
        "a = np.random.random(6)\n",
        "print(a)\n",
        "ordena_insercion(a)\n",
        "print(a)"
      ],
      "execution_count": 0,
      "outputs": [
        {
          "output_type": "stream",
          "text": [
            "[0.5221578  0.84658608 0.08829735 0.70652115 0.06085142 0.46210583]\n",
            "[0.06085142 0.08829735 0.46210583 0.5221578  0.70652115 0.84658608]\n"
          ],
          "name": "stdout"
        }
      ]
    },
    {
      "cell_type": "markdown",
      "metadata": {
        "id": "f7airJTa6XRQ",
        "colab_type": "text"
      },
      "source": [
        "Si observamos el algoritmo de inserción, podemos ver que en los intercambios siempre uno de los dos elementos involucrados es el que se está insertando, el cual pasa por muchos lugares provisorios hasta llegar finalmente a su ubicación definitiva. Esto sugiere que podemos ahorrar trabajo si en lugar de hacer todos esos intercambios, sacamos primero el elemento a insertar hacia una variable auxiliar, luego vamos moviendo los restantes elementos hacia la derecha, y al final movemos directamente el nuevo elemento desde la variable auxiliar hasta su posición definitiva:"
      ]
    },
    {
      "cell_type": "code",
      "metadata": {
        "id": "57-KmGan6XRQ",
        "colab_type": "code",
        "colab": {}
      },
      "source": [
        "# Insertar a[k] entre los elementos anteriores preservando el orden ascendente (versión 2)\n",
        "def insertar(a, k):\n",
        "    b=a[k] # b almacena transitoriamente al elemento a[k]\n",
        "    j=k # señala la posición del lugar \"vacío\"\n",
        "    while j>0 and b<a[j-1]:\n",
        "        a[j]=a[j-1]\n",
        "        j-=1\n",
        "    a[j]=b"
      ],
      "execution_count": 0,
      "outputs": []
    },
    {
      "cell_type": "code",
      "metadata": {
        "id": "XPKcCeRR6XRS",
        "colab_type": "code",
        "colab": {},
        "outputId": "94290c35-9c9a-4c3e-c944-8f3b04b2848d"
      },
      "source": [
        "a = np.random.random(6)\n",
        "print(a)\n",
        "ordena_insercion(a)\n",
        "print(a)"
      ],
      "execution_count": 0,
      "outputs": [
        {
          "output_type": "stream",
          "text": [
            "[0.33292196 0.97290537 0.22972209 0.98388588 0.61353875 0.35566984]\n",
            "[0.22972209 0.33292196 0.35566984 0.61353875 0.97290537 0.98388588]\n"
          ],
          "name": "stdout"
        }
      ]
    },
    {
      "cell_type": "markdown",
      "metadata": {
        "id": "I9TYiWb_6XRU",
        "colab_type": "text"
      },
      "source": [
        "Para analizar la eficiencia de este algoritmo, podemos considerar varios casos:\n",
        "* Mejor caso: Si el arreglo ya viene ordenado, el ciclo de la función `insertar` termina de inmediato, así que esa función demora tiempo constante, y el proceso completo demora tiempo $O(n)$, lineal en $n$.\n",
        "* Peor caso: Si el arreglo viene originalmente en orden decreciente, el ciclo de la función `insertar` hace el máximo de iteraciones ($k$), y la suma de todos esos costos da un total de $O(n^2)$, cuadrático en $n$.\n",
        "* Caso promedio: Si el arreglo viene en orden aleatorio, el número promedio de iteraciones que hace el ciclo de la función `insertar` es aproximadamente $k/2$, y la suma de todos esos costos igual da un total de $O(n^2)$. Esto es, el costo promedio también es cuadrático."
      ]
    },
    {
      "cell_type": "markdown",
      "metadata": {
        "id": "ieaHRCY66XRV",
        "colab_type": "text"
      },
      "source": [
        "# Ejemplo: Ordenación por Selección\n",
        "\n",
        "El método de **Ordenación por Selección** se basa en extraer el máximo elemento y moverlo hacia el extremo derecho del arreglo, y repetir este proceso entre los elementos restantes hasta que todos hayan sido extraídos. El invariante se puede visualizar como:\n",
        "\n",
        "![ord-seleccion](https://github.com/DiegoRomanCortes/AED/blob/master/seleccion.png?raw=1)\n",
        "\n",
        "La variable $k$ indica el tamaño del subconjunto que todavía falta por procesar. Equivalentemente, es el subíndice del primer elemento que ya pertenece al subconjunto ordenado."
      ]
    },
    {
      "cell_type": "code",
      "metadata": {
        "id": "jxMCCTgE6XRV",
        "colab_type": "code",
        "colab": {}
      },
      "source": [
        "# Ordenación por Selección\n",
        "def ordena_seleccion(a):\n",
        "    n=len(a)\n",
        "    for k in range(n,1,-1): # Paramos cuando todavía queda 1 elemento \"desordenado\" (¿por qué está bien eso?)\n",
        "        j=pos_maximo(a,k) # Encuentra posición del máximo entre a[0],...,a[k-1]\n",
        "        (a[j],a[k-1])=(a[k-1],a[j])"
      ],
      "execution_count": 0,
      "outputs": []
    },
    {
      "cell_type": "code",
      "metadata": {
        "id": "g-GOUMWF6XRd",
        "colab_type": "code",
        "colab": {}
      },
      "source": [
        "# Encuentra posición del máximo entre a[0],...,a[k-1]\n",
        "def pos_maximo(a, k):\n",
        "    j=0 # j señala la posición del máximo\n",
        "    for i in range(1,k):\n",
        "        if a[i]>a[j]: # Encontramos un nuevo máximo\n",
        "            j=i\n",
        "    return j"
      ],
      "execution_count": 0,
      "outputs": []
    },
    {
      "cell_type": "markdown",
      "metadata": {
        "id": "rFUiFvev6XRj",
        "colab_type": "text"
      },
      "source": [
        "Nuevamente, probamos nuestro algoritmo con un arreglo aleatorio:"
      ]
    },
    {
      "cell_type": "code",
      "metadata": {
        "id": "C2CMwh2g6XRk",
        "colab_type": "code",
        "colab": {},
        "outputId": "a85ddb38-cb85-4e0b-f930-28a63a21d4e3"
      },
      "source": [
        "a = np.random.random(6)\n",
        "print(a)\n",
        "ordena_seleccion(a)\n",
        "print(a)"
      ],
      "execution_count": 0,
      "outputs": [
        {
          "output_type": "stream",
          "text": [
            "[0.84268449 0.69233784 0.13489307 0.97140719 0.96997662 0.86297069]\n",
            "[0.13489307 0.69233784 0.84268449 0.86297069 0.96997662 0.97140719]\n"
          ],
          "name": "stdout"
        }
      ]
    },
    {
      "cell_type": "markdown",
      "metadata": {
        "id": "AWngrRza6XRo",
        "colab_type": "text"
      },
      "source": [
        "En este algoritmo, siempre se recorre todo el conjunto de tamaño $k$ para encontrar el máximo, de modo que la suma de todos estos costos de un total de $O(n^2)$, en todos los casos.\n",
        "\n",
        "Más adelante veremos que hay maneras mucho más eficientes de calcular el máximo de un conjunto, una vez que se ha encontrado y extraído el máximo la primera vez.\n",
        "\n",
        "Piensen por ejemplo en un típico torneo de tenis, en donde los jugadores se van eliminando por rondas, hasta que en la final queda solo un jugador invicto: el campeón. Si hay $n$ jugadores, ese proceso requiere exactamente $n-1$ partidos. **Pero** una vez que se ha jugado todo ese torneo, hagamos un experimento mental y pensemos que habría sucedido si el primer día el campeón no hubiera podido jugar por alguna causa. Para determinar quién habría resultado campeón en esas circunstancias (o sea,, para encontrar al subcampeón), **no sería necesario repetir todo el torneo, sino solo volver a jugar los partidos en los que habría participado el campeón**. Ese número de partidos es mucho menor a $n$, y en realidad no es difícil ver que es logarítmico. Y eso puede repetirse para encontrar al tercero, al cuarto, etc., siempre con el mismo costo logarítmico.\n",
        "\n",
        "Si sumamos todos esos costos, da un total de $O(n\\log{n})$, en el peor caso.\n",
        "\n",
        "Lo anterior es una \"demostración de factibilidad\" de que existen algoritmos de ordenación de costo $O(n\\log{n})$, más eficientes que $O(n^2)$. Más adelante en el curso veremos algoritmos prácticos que alcanzan esta eficiencia."
      ]
    },
    {
      "cell_type": "markdown",
      "metadata": {
        "id": "9qPOSeu26XRq",
        "colab_type": "text"
      },
      "source": [
        "## Ejemplo: Ordenación de la Burbuja\n",
        "\n",
        "Este algoritmo se basa en ir haciendo pasadas sucesivas de izquierda a derecha sobre el arreglo, y cada vez que encuentra dos elementos adyacentes fuera de orden, los intercambia. Así, el arreglo va quedando cada vez \"más ordenado\", hasta que finalmente esté totalmente ordenado.\n",
        "\n",
        "Analizando el efecto de una pasada de izquierda a derecha, vemos que, aparte de los pequeños desórdenes que pueda ir arreglando por el camino, una vez que el algoritmo se encuentra con el máximo, los intercambios lo empiezan a trasladar paso a paso hacia la derecha, hasta que finalmente queda en el extremo derecho del arreglo. Eso significa que ya ha llegado a su posición definitiva, y no necesitamos volver a tocarlo. Por lo tanto, el algoritmo puede ignorar esos elementos al extremo derecho, los que por construcción están ordenados y son mayores que todos los de la izquierda. Esto lo podemos visualizar como:\n",
        "\n",
        "![ord-seleccion](https://github.com/DiegoRomanCortes/AED/blob/master/seleccion.png?raw=1)\n",
        "\n",
        "¡El mismo invariante que la Ordenación por Selección! Sin embargo, el algoritmo resultante es distinto."
      ]
    },
    {
      "cell_type": "code",
      "metadata": {
        "id": "MuwnWbgu6XRr",
        "colab_type": "code",
        "colab": {}
      },
      "source": [
        "# Ordenación de la Burbuja (versión 1)\n",
        "def ordena_burbuja(a):\n",
        "    n=len(a)\n",
        "    k=n # número de elementos todavía desordenados\n",
        "    while k>1:\n",
        "        # Hacer una pasada sobre a[0],...,a[k-1]\n",
        "        # intercambiando elementos adyacentes desordenados\n",
        "        for j in range(0,k-1):\n",
        "            if a[j]>a[j+1]:\n",
        "                (a[j],a[j+1])=(a[j+1],a[j])\n",
        "        # Disminuir k\n",
        "        k-=1"
      ],
      "execution_count": 0,
      "outputs": []
    },
    {
      "cell_type": "code",
      "metadata": {
        "id": "-hMYTIKq6XRw",
        "colab_type": "code",
        "colab": {},
        "outputId": "48dd2d57-4cbc-4757-a01d-a527018591ba"
      },
      "source": [
        "a = np.random.random(6)\n",
        "print(a)\n",
        "ordena_burbuja(a)\n",
        "print(a)"
      ],
      "execution_count": 0,
      "outputs": [
        {
          "output_type": "stream",
          "text": [
            "[0.67489337 0.9878026  0.87837206 0.21728774 0.05664982 0.89561046]\n",
            "[0.05664982 0.21728774 0.67489337 0.87837206 0.89561046 0.9878026 ]\n"
          ],
          "name": "stdout"
        }
      ]
    },
    {
      "cell_type": "markdown",
      "metadata": {
        "id": "O6sn3l9s6XR4",
        "colab_type": "text"
      },
      "source": [
        "Este algoritmo demora siempre tiempo $O(n^2)$, ¡incluso si se le da para ordenar un arregla que ya viene ordenado!\n",
        "\n",
        "No cuesta mucho introducir una variable booleana que señale si en una pasada no se ha hecho ningún intercambio, y usar esa variable para terminar el proceso cuando eso ocurre. Pero hay una manera mejor de modificar el algoritmo para aumentar su eficiencia.\n",
        "\n",
        "Para esto, introducimos una variable $i$ que recuerda el punto donde se hizo el último intercambio (el cual habría sido entre $a[i-1]$ y $a[i]$. Si a partir de ese punto ya no se encontraron elementos fuera de orden, eso quiere decir que $a[i-1]<a[i]$ y luego a partir de ahí todos los elementos están ordenados, **hasta el final del arreglo**. Por lo tanto, el invariante se preserva si hacemos $k=i$.\n",
        "\n",
        "¿Qué pasa si no hubo ningún intercambio? Para este caso, si le damos a la variable $i$ el valor inicial cero, al hacer $k=i$ tendríamos $k=0$ y el proceso terminaría automáticamente. El algoritmo resultante es el siguiente:"
      ]
    },
    {
      "cell_type": "code",
      "metadata": {
        "id": "tNI0OdkU6XR5",
        "colab_type": "code",
        "colab": {}
      },
      "source": [
        "# Ordenación de la Burbuja (versión 2)\n",
        "def ordena_burbuja(a):\n",
        "    n=len(a)\n",
        "    k=n # número de elementos todavía desordenados\n",
        "    while k>1:\n",
        "        # Hacer una pasada sobre a[0],...,a[k-1]\n",
        "        # intercambiando elementos adyacentes desordenados\n",
        "        i=0\n",
        "        for j in range(0,k-1):\n",
        "            if a[j]>a[j+1]:\n",
        "                (a[j],a[j+1])=(a[j+1],a[j])\n",
        "                i=j+1 # recordamos el lugar del último intercambio\n",
        "        # Disminuir k\n",
        "        k=i"
      ],
      "execution_count": 0,
      "outputs": []
    },
    {
      "cell_type": "code",
      "metadata": {
        "id": "NYtP_E386XR-",
        "colab_type": "code",
        "colab": {},
        "outputId": "b56d6dac-7f16-4fef-fe66-4cd0a8046464"
      },
      "source": [
        "a = np.random.random(6)\n",
        "print(a)\n",
        "ordena_burbuja(a)\n",
        "print(a)"
      ],
      "execution_count": 0,
      "outputs": [
        {
          "output_type": "stream",
          "text": [
            "[0.80839305 0.55041689 0.21820486 0.08990332 0.48931562 0.68359274]\n",
            "[0.08990332 0.21820486 0.48931562 0.55041689 0.68359274 0.80839305]\n"
          ],
          "name": "stdout"
        }
      ]
    },
    {
      "cell_type": "markdown",
      "metadata": {
        "id": "YLv75K396XSE",
        "colab_type": "text"
      },
      "source": [
        "Este algoritmo aprovecha mejor el orden previo que puede trar el arreglo, y en particular ordena arreglos ordenados en tiempo lineal. Pero tanto su peor caso como su caso promedio siguen siendo cuadráticos."
      ]
    },
    {
      "cell_type": "markdown",
      "metadata": {
        "id": "IF1gRYPB6XSF",
        "colab_type": "text"
      },
      "source": [
        "## Recursividad\n",
        "\n",
        "El poder escribir funciones que se llamen a sí mismas es una herramienta muy poderosa de programación. Veremos algunos ejemplos de aplicaciones de este concepto, y más adelamte veremos cómo puede conducir al diseño de algoritmos muy eficientes."
      ]
    },
    {
      "cell_type": "markdown",
      "metadata": {
        "id": "vgWcLNTY6XSH",
        "colab_type": "text"
      },
      "source": [
        "## Ejemplo: Calcular $y=x^n$\n",
        "Revisemos nuevamente este problema, pero ahora desde un punto de vista recursivo. Una potencia se puede definir recursivamente de la siguiente manera:\n",
        "\n",
        "$$\n",
        "x^n =\n",
        "\\begin{cases}x * x^{n-1} & \\mbox{si }n>0 \\\\\n",
        "1 & \\mbox{si }n=0\n",
        "\\end{cases}\n",
        "$$\n",
        "\n",
        "lo cual se puede implementar directamente como una función recursiva:"
      ]
    },
    {
      "cell_type": "code",
      "metadata": {
        "id": "EPr4c3MX6XSI",
        "colab_type": "code",
        "colab": {}
      },
      "source": [
        "def potencia(x,n):\n",
        "    if n==0:\n",
        "        return 1\n",
        "    else:\n",
        "        return x * potencia(x,n-1)"
      ],
      "execution_count": 0,
      "outputs": []
    },
    {
      "cell_type": "code",
      "metadata": {
        "id": "6gq0u_ws6XSK",
        "colab_type": "code",
        "colab": {},
        "outputId": "649533e1-6a38-4644-e3df-61e79d5074f3"
      },
      "source": [
        "print(potencia(2,10))"
      ],
      "execution_count": 0,
      "outputs": [
        {
          "output_type": "stream",
          "text": [
            "1024\n"
          ],
          "name": "stdout"
        }
      ]
    },
    {
      "cell_type": "markdown",
      "metadata": {
        "id": "qn4dPH4x6XSO",
        "colab_type": "text"
      },
      "source": [
        "El algoritmo resultante demora tiempo $O(n)$, pero  puede mejorarse si el caso $n$ par lo tratamos aparte:\n",
        "\n",
        "$$\n",
        "x^n =\n",
        "\\begin{cases}\n",
        "(x^2)^{n/2} & \\mbox{si }n>0\\mbox{, par} \\\\\n",
        "x * x^{n-1} & \\mbox{si }n>0\\mbox{, impar} \\\\\n",
        "1 & \\mbox{si }n=0\n",
        "\\end{cases}\n",
        "$$\n",
        "\n",
        "y la función que lo implementa es:"
      ]
    },
    {
      "cell_type": "code",
      "metadata": {
        "id": "lG8Ua4cK6XSO",
        "colab_type": "code",
        "colab": {}
      },
      "source": [
        "def potencia(x,n):\n",
        "    if n==0:\n",
        "        return 1\n",
        "    elif n%2==0:\n",
        "        return potencia(x*x,n//2)\n",
        "    else:\n",
        "        return x * potencia(x,n-1)"
      ],
      "execution_count": 0,
      "outputs": []
    },
    {
      "cell_type": "code",
      "metadata": {
        "id": "Wzl1zlQY6XSS",
        "colab_type": "code",
        "colab": {},
        "outputId": "c3c4c716-e049-4e6a-e8c9-8428e30e6e31"
      },
      "source": [
        "print(potencia(2,10))"
      ],
      "execution_count": 0,
      "outputs": [
        {
          "output_type": "stream",
          "text": [
            "1024\n"
          ],
          "name": "stdout"
        }
      ]
    },
    {
      "cell_type": "markdown",
      "metadata": {
        "id": "_WjJ9Okx6XSU",
        "colab_type": "text"
      },
      "source": [
        "El resultado es el algoritmo binario, que demora tiempo $O(\\log{n})$, en versión recursiva."
      ]
    },
    {
      "cell_type": "markdown",
      "metadata": {
        "id": "duXGt6e76XSV",
        "colab_type": "text"
      },
      "source": [
        "## Recursividad vs. Iteración\n",
        "Todo algoritmo iterativo puede escribirse recursivamente. En particular, cualquier ciclo de la forma\n",
        "```python\n",
        "while C:\n",
        "    A\n",
        "```\n",
        "puede implementarse como\n",
        "```python\n",
        "def f():\n",
        "    if C:\n",
        "        A\n",
        "        f()\n",
        "f()\n",
        "```\n",
        "Por cierto, en la llamada recursiva se le debe entregar a la función el contexto en que habría operado en la siguiente iteración del ciclo.\n",
        "\n",
        "Por ejemplo, si queremos imprimir uno por uno los elementos de un arreglo $a$, una forma iterativa de hacerlo sería:"
      ]
    },
    {
      "cell_type": "code",
      "metadata": {
        "id": "EBd13V9I6XSX",
        "colab_type": "code",
        "colab": {}
      },
      "source": [
        "def imprimir(a):\n",
        "    k=0\n",
        "    while k<len(a):\n",
        "        print(a[k])\n",
        "        k+=1"
      ],
      "execution_count": 0,
      "outputs": []
    },
    {
      "cell_type": "code",
      "metadata": {
        "id": "OX3WEYBZ6XSb",
        "colab_type": "code",
        "colab": {},
        "outputId": "38a82110-77ca-4856-9096-8196fc971ba4"
      },
      "source": [
        "a=np.random.random(6)\n",
        "imprimir(a)"
      ],
      "execution_count": 0,
      "outputs": [
        {
          "output_type": "stream",
          "text": [
            "0.5972960320846157\n",
            "0.29293810583199964\n",
            "0.029968508236280056\n",
            "0.07803179856523312\n",
            "0.7502784258536918\n",
            "0.6407420916311234\n"
          ],
          "name": "stdout"
        }
      ]
    },
    {
      "cell_type": "markdown",
      "metadata": {
        "id": "q1pe65HT6XSd",
        "colab_type": "text"
      },
      "source": [
        "En forma recursiva, esto queda como:"
      ]
    },
    {
      "cell_type": "code",
      "metadata": {
        "id": "8s42Yj6n6XSe",
        "colab_type": "code",
        "colab": {}
      },
      "source": [
        "def imprimir(a):\n",
        "    imprimir_recursivo(a,0)\n",
        "    \n",
        "def imprimir_recursivo(a,k): # imprimir desde a[k] en adelante\n",
        "    if k<len(a):\n",
        "        print(a[k])\n",
        "        imprimir_recursivo(a,k+1)"
      ],
      "execution_count": 0,
      "outputs": []
    },
    {
      "cell_type": "code",
      "metadata": {
        "id": "qHEaRpTw6XSi",
        "colab_type": "code",
        "colab": {},
        "outputId": "ce98af98-6f6f-460f-d36b-7cf5c4187818"
      },
      "source": [
        "a=np.random.random(6)\n",
        "imprimir(a)"
      ],
      "execution_count": 0,
      "outputs": [
        {
          "output_type": "stream",
          "text": [
            "0.925562926520958\n",
            "0.8432645312031081\n",
            "0.9002480315234768\n",
            "0.22197316800315414\n",
            "0.25955862665867935\n",
            "0.6440035647995825\n"
          ],
          "name": "stdout"
        }
      ]
    },
    {
      "cell_type": "markdown",
      "metadata": {
        "id": "ocs9q_jD6XSk",
        "colab_type": "text"
      },
      "source": [
        "Este proceso es reversible: cuando una función recursiva lo último que hace es llamarse a sí misma, lo que se llama \"recursividad a la cola\" (\"_tail recursion_\"), eso se puede reemplazar por un `while`:"
      ]
    },
    {
      "cell_type": "code",
      "metadata": {
        "id": "HlPiyBkk6XSl",
        "colab_type": "code",
        "colab": {}
      },
      "source": [
        "def imprimir(a):\n",
        "    imprimir_recursivo(a,0)\n",
        "    \n",
        "def imprimir_recursivo(a,k): # imprimir desde a[k] en adelante, ahora NO recursivo\n",
        "    while k<len(a): # reemplazó a \"if k<len(a):\"\n",
        "        print(a[k])\n",
        "        k+=1 # reemplazó a \"imprimir_recursivo(a,k+1)\""
      ],
      "execution_count": 0,
      "outputs": []
    },
    {
      "cell_type": "code",
      "metadata": {
        "id": "AOke2dES6XSn",
        "colab_type": "code",
        "colab": {},
        "outputId": "72cf4965-2d0f-4f75-a5a2-daefae28c126"
      },
      "source": [
        "a=np.random.random(6)\n",
        "imprimir(a)"
      ],
      "execution_count": 0,
      "outputs": [
        {
          "output_type": "stream",
          "text": [
            "0.469815275093036\n",
            "0.2693359071982979\n",
            "0.2753386333031673\n",
            "0.31700692660816665\n",
            "0.3536210618437543\n",
            "0.17862982955407536\n"
          ],
          "name": "stdout"
        }
      ]
    },
    {
      "cell_type": "markdown",
      "metadata": {
        "id": "xCrzdD9n6XSo",
        "colab_type": "text"
      },
      "source": [
        "Pero ahora la función `imprimir_recursivo` es llamada desde un único lugar, con k=0, y por lo tento, en ese lugar podemos sustituir la llamada por el código de la función, con lo que el resultado es:"
      ]
    },
    {
      "cell_type": "code",
      "metadata": {
        "id": "4m0mdwDn6XSp",
        "colab_type": "code",
        "colab": {}
      },
      "source": [
        "def imprimir(a):\n",
        "    # Esto reemplaza a \"imprimir_recursivo(a,0)\"\n",
        "    k=0\n",
        "    while k<len(a): # reemplazó a \"if k<len(a):\"\n",
        "        print(a[k])\n",
        "        k+=1 # reemplazó a \"imprimir_recursivo(a,k+1)\"\""
      ],
      "execution_count": 0,
      "outputs": []
    },
    {
      "cell_type": "code",
      "metadata": {
        "id": "IdS71AT06XSr",
        "colab_type": "code",
        "colab": {},
        "outputId": "85d688ce-6521-4872-b991-2c3a80dae143"
      },
      "source": [
        "a=np.random.random(6)\n",
        "imprimir(a)"
      ],
      "execution_count": 0,
      "outputs": [
        {
          "output_type": "stream",
          "text": [
            "0.3819525671043009\n",
            "0.7485573680429501\n",
            "0.32630872176214865\n",
            "0.4236453940315019\n",
            "0.34755213830158616\n",
            "0.19782378398102607\n"
          ],
          "name": "stdout"
        }
      ]
    },
    {
      "cell_type": "markdown",
      "metadata": {
        "id": "A8RTo8SB6XSu",
        "colab_type": "text"
      },
      "source": [
        "¡Con lo cual hemos vuelto al punto de partida!\n",
        "\n",
        "Sin embargo, esto solo funciona para eliminar la \"recursividad a la cola\". Si hay llamadas recursivas que **no** son lo último que ejecuta la función, no pueden eliminarse con esta receta, y como veremos más adelante, requerirá el uso de una estructura llamada una \"pila\" (_stack_).\n",
        "\n",
        "El siguiente ejemplo ilustra un caso en que esto ocurre."
      ]
    },
    {
      "cell_type": "markdown",
      "metadata": {
        "id": "NQHYO93d6XSu",
        "colab_type": "text"
      },
      "source": [
        "## Ejemplo: Torres de Hanoi\n",
        "\n",
        "![Torres de Hanoi](https://github.com/DiegoRomanCortes/AED/blob/master/hanoi.gif?raw=1)\n",
        "\n",
        "Este puzzle consiste en trasladar $n$ discos desde la estaca 1 a la estaca 3, respetando siempre las dos reglas siguientes:\n",
        "* Solo se puede mover de a un disco a la vez, y\n",
        "* Nunca puede haber un disco más grande sobre uno más chico\n",
        "Esto se puede resolver recursivamente de la siguiente manera:\n",
        "\n",
        "Para mover $n$ discos desde $a$ hasta $b$ (usando la estaba $c$ como auxiliar):\n",
        "* Primero movemos (recursivamente) $n-1$ discos desde la estaca $a$ a la estaca $b$\n",
        "* Una vez despejado el camino, movemos 1 disco desde $a$ hasta $c$\n",
        "* Finalmente, movemos de nuevo (recursivamente) los $n-1$ discos, ahora desde $b$ hasta $c$ (usando $a$ como auxiliar)\n",
        "\n",
        "El caso base es $n=0$, en cuyo caso no se hace nada."
      ]
    },
    {
      "cell_type": "code",
      "metadata": {
        "id": "L-enO5t36XSv",
        "colab_type": "code",
        "colab": {}
      },
      "source": [
        "def Hanoi(n, a, b, c): # Mover n discos desde \"a\" a \"c\", usando \"b\" como auxiliar\n",
        "    if n>0:\n",
        "        Hanoi(n-1, a, c, b)\n",
        "        print(a, \"-->\", c) # Mueve 1 disco desde \"a\" hasta \"c\"\n",
        "        Hanoi(n-1, b, a, c)"
      ],
      "execution_count": 0,
      "outputs": []
    },
    {
      "cell_type": "code",
      "metadata": {
        "id": "jXKvfU1u6XSw",
        "colab_type": "code",
        "colab": {},
        "outputId": "5f719957-6b69-4aa2-ccc4-2aa4d695408e"
      },
      "source": [
        "Hanoi(3, 1, 2, 3)"
      ],
      "execution_count": 0,
      "outputs": [
        {
          "output_type": "stream",
          "text": [
            "1 --> 3\n",
            "1 --> 2\n",
            "3 --> 2\n",
            "1 --> 3\n",
            "2 --> 1\n",
            "2 --> 3\n",
            "1 --> 3\n"
          ],
          "name": "stdout"
        }
      ]
    },
    {
      "cell_type": "markdown",
      "metadata": {
        "id": "3TSW2s7t6XSy",
        "colab_type": "text"
      },
      "source": [
        "Este algoritmo es muy claro y bastante intuitivo. Si aplicamos la regla de eliminación de \"recursividad a la cola\", lo que resulta es un algoritmo equivalente, pero mucho menos trivial de entender:"
      ]
    },
    {
      "cell_type": "code",
      "metadata": {
        "id": "MhvUJtl46XSy",
        "colab_type": "code",
        "colab": {}
      },
      "source": [
        "def Hanoi(n, a, b, c): # Mover n discos desde \"a\" a \"c\", usando \"b\" como auxiliar\n",
        "    while n>0: # reemplaza a \"if n>0:\"\n",
        "        Hanoi(n-1, a, c, b)\n",
        "        print(a, \"-->\", c) # Mueve 1 disco desde \"a\" hasta \"c\"\n",
        "        n-=1\n",
        "        (a,b)=(b,a) # reemplaza a \"Hanoi(n-1, b, a, c)\""
      ],
      "execution_count": 0,
      "outputs": []
    },
    {
      "cell_type": "code",
      "metadata": {
        "id": "qiZXNH0U6XS0",
        "colab_type": "code",
        "colab": {},
        "outputId": "c1316eaa-c8e8-412b-b5af-0c9b7f8e5ef2"
      },
      "source": [
        "Hanoi(3, 1, 2, 3)"
      ],
      "execution_count": 0,
      "outputs": [
        {
          "output_type": "stream",
          "text": [
            "1 --> 3\n",
            "1 --> 2\n",
            "3 --> 2\n",
            "1 --> 3\n",
            "2 --> 1\n",
            "2 --> 3\n",
            "1 --> 3\n"
          ],
          "name": "stdout"
        }
      ]
    },
    {
      "cell_type": "markdown",
      "metadata": {
        "id": "HxC1rD2F6XS2",
        "colab_type": "text"
      },
      "source": [
        "_**Ejercicio:**_ Dar una explicación intuitiva de por qué funciona este algoritmo."
      ]
    },
    {
      "cell_type": "markdown",
      "metadata": {
        "id": "6I08HFxN6XS3",
        "colab_type": "text"
      },
      "source": [
        "## Diagramas de Estados\n",
        "\n",
        "Consideremos una instrucción iterativa con un invariante \"I\", que se inicializa con instrucciones \"B\", con condición de continuación \"C\", con un cuerpo del ciclo consistente de instrucciones \"A\" y con el objetivo de lograr que se cumpla una afirmación lógica \"F\". Esto tendría la estructura siguiente:\n",
        "```python\n",
        "B\n",
        "while C: # invariante I\n",
        "    A\n",
        "    \n",
        "# al terminar se debería cumplir F\n",
        "``` \n",
        "\n",
        "Anotando con un poco más de precisión, podemos identificar lo que se cumple en cada punto:\n",
        "```python\n",
        "B\n",
        "# aquí se cumple el invariante \"I\" por primera vez\n",
        "while C:\n",
        "    # aquí se cumple \"I and C\"\n",
        "    A\n",
        "    # acá se debe cumplir nuevamente \"I\"\n",
        "    \n",
        "# al terminar el ciclo se cumple \"I and not C\"\n",
        "# y eso debe implicar que se cumple F\n",
        "```\n",
        "\n",
        "Esto se puede visualizar de manera más sencilla en un **diagrama de estados** como el siguiente:\n",
        "\n",
        "![Diagrama de Estados 1](https://github.com/DiegoRomanCortes/AED/blob/master/state-diagram-1.png?raw=1)\n",
        "\n",
        "En este diagrama:\n",
        "* Los estados (círculos) representan el estado del proceso en ese momento, descrito por la afirmación lógica correspondiente. En un ciclo, esa afirmación lógica es lo que hemos llamado invariante.\n",
        "* Un doble círculo representa a un estado final.\n",
        "* Las flechas pueden llevar como rótulo un \"if\" con una condición, que debe cumplirse para que se siga esa flecha, y también pueden estar rotuladas con una instrucción (o un bloque de instrucciones), que se ejecuta al hacer esa transición."
      ]
    },
    {
      "cell_type": "markdown",
      "metadata": {
        "id": "BNZU7HyN6XS3",
        "colab_type": "text"
      },
      "source": [
        "Una ventaja de modelar un algoritmo en base a un diagrama de estados es que no estamos restringidos solo a los diagramas simples que corresponden a ciclos `while`, sino que podemos construir diagramas mucho más complejos, con múltiples estados y transiciones.\n",
        "\n",
        "Piensen por ejemplo en cómo modelar el funcionamiento de un **cajero automático**:\n",
        "\n",
        "* El cajero está originalmente en un estado inicial, que es además el estado al cual regrasa cada vez que concluye la atención de un cliente.\n",
        "* Cuando llega un cliente e inserta su tarjeta, el cajero debe verificar que la tarjeta es legible y si no es, debe devolverla con un mensaje de error y volver al estado inicial.\n",
        "* Si la tarjeta es legible, debe pedir que ingrese el PIN y pasar a otro estado en que espera que el cliente ingrese dicha clave.\n",
        "* Si la clave es incorrecta, debe pedir que la ingrese de nuevo y seguir en ese estado. Pero eso tiene un límite, porque si el usuario comete muchos errores, el cajero debe dar un mensaje de error, retener la tarjeta y volver al estado inicial.\n",
        "* Si la clave es correcta, debe mostrar un menú de posibles operaciones y esperar que el cliente seleccione una.\n",
        "* Si el cliente selecciona \"Retirar dinero\", debe pasar a otro estado en que le pregunta el monto que quiere sacar.\n",
        "* Etc., etc., etc.,\n",
        "\n",
        "En realidad, el diagrama de estados de un cajero automático es enorme, porque en cada estado hay múltiples opciones que conducen a realizar acciones y trasladarse a otros estados. Además, hay \"timeouts\" que interrumpen el proceso si una operación se demora demasiado. El diagrama de estados es la herramienta que permite modelar este tipo de procesos complejos.\n",
        "\n"
      ]
    },
    {
      "cell_type": "markdown",
      "metadata": {
        "id": "ykuuNPEO6XS4",
        "colab_type": "text"
      },
      "source": [
        "## Ejemplo: Contar palabras\n",
        "\n",
        "Supongamos que tenemos un string que contiene una frase y queremos contar cuántas palabras contiene. Para simplificar, supondremos que una palabra es cualquier secuencia de caracteres distintos de un espacio en blanco. Por ejemplo, el string\n",
        "```python\n",
        "\"    Algoritmos y    Estructuras  de   Datos   \"\n",
        "```\n",
        "contiene 5 palabras.\n",
        "\n",
        "Para resolver este problema, iremos examinando uno a uno los caracteres del string, y para cada uno deberemos decidir si ese caracter es el comienzo de una nueva palabra o no. Esto depende de si estábamos FUERA de una palabra (en cuyo caso sí es el inicio y hay que incrementar el contador de palabars) o si estábamos DENTRO de una palabra (en cuyo caso no se incrementa).\n",
        "\n",
        "Esto sugiere tener un diagrama de estados con dos estados (FUERA y DENTRO), más un tercer estado final FIN, al que se llega cuando se agota el string.\n",
        "\n",
        "El siguiente diagrama modela este proceso, donde el caracter que se está examinando en cada momento es $s[k]$. Para simplificar, suponemos que las transiciones hacia FIN tienen prioridad. Además, como en cada transición se examina un nuevo caracter, dejaremos implícita la inicialización $k=0$ y el incremento $k+=1$ que hay después de cada transición.\n",
        "\n",
        "![Diagrama de Estados 2](https://github.com/DiegoRomanCortes/AED/blob/master/state-diagram-2.png?raw=1)\n",
        "\n",
        "Una vez modelado el proceso mediante un diagrama de estados, debemos escribirlo en forma de un programa. Veremos a continuación que **hay más de una manera de hacerlo**:"
      ]
    },
    {
      "cell_type": "code",
      "metadata": {
        "id": "Lyoy6hfM6XS4",
        "colab_type": "code",
        "colab": {}
      },
      "source": [
        "# Contar palabras, versión 1 con variables de estado\n",
        "def contar_palabras(s):\n",
        "    np=0\n",
        "    estado=\"FUERA\"\n",
        "    for k in range(0,len(s)):\n",
        "        if estado==\"FUERA\":\n",
        "            if s[k]!=' ':\n",
        "                np+=1\n",
        "                estado=\"DENTRO\"\n",
        "        else: # estado==\"DENTRO\"\n",
        "            if s[k]==' ':\n",
        "                estado=\"FUERA\"\n",
        "    return np"
      ],
      "execution_count": 0,
      "outputs": []
    },
    {
      "cell_type": "code",
      "metadata": {
        "id": "a6GDrDKh6XS7",
        "colab_type": "code",
        "colab": {},
        "outputId": "336309fc-9964-4c2a-a762-7d8db5fe3383"
      },
      "source": [
        "s=input(\"Escriba frase: \")\n",
        "print(\"Hay\", contar_palabras(s), \"palabras\")"
      ],
      "execution_count": 0,
      "outputs": [
        {
          "output_type": "stream",
          "text": [
            "Escriba frase: Buenos    días\n",
            "Hay 2 palabras\n"
          ],
          "name": "stdout"
        }
      ]
    },
    {
      "cell_type": "code",
      "metadata": {
        "id": "AjYeOTGz6XTA",
        "colab_type": "code",
        "colab": {}
      },
      "source": [
        "# Contar palabras, versión 2 con variables de estado\n",
        "def contar_palabras(s):\n",
        "    np=0\n",
        "    estado=\"FUERA\"\n",
        "    for k in range(0,len(s)):\n",
        "        if s[k]==' ':\n",
        "            estado=\"FUERA\"\n",
        "        else: # s[k]!=' '\n",
        "            if estado==\"FUERA\":\n",
        "                np+=1\n",
        "            estado=\"DENTRO\"\n",
        "    return np"
      ],
      "execution_count": 0,
      "outputs": []
    },
    {
      "cell_type": "code",
      "metadata": {
        "id": "7F9MXJIr6XTC",
        "colab_type": "code",
        "colab": {},
        "outputId": "6af1a689-95d6-42e6-f584-165725261a0e"
      },
      "source": [
        "s=input(\"Escriba frase: \")\n",
        "print(\"Hay\", contar_palabras(s), \"palabras\")"
      ],
      "execution_count": 0,
      "outputs": [
        {
          "output_type": "stream",
          "text": [
            "Escriba frase: ¿Cómo está usted?\n",
            "Hay 3 palabras\n"
          ],
          "name": "stdout"
        }
      ]
    },
    {
      "cell_type": "code",
      "metadata": {
        "id": "SrsM7gNQ6XTI",
        "colab_type": "code",
        "colab": {}
      },
      "source": [
        "# Contar palabras, versión sin variables de estado\n",
        "def contar_palabras(s):\n",
        "    np=0\n",
        "    k=0\n",
        "    while k<len(s):\n",
        "        # Estamos en el estado FUERA\n",
        "        if s[k]!=' ':\n",
        "            np+=1\n",
        "            k+=1\n",
        "            # Ahora estamos en el estado DENTRO\n",
        "            while k<len(s) and s[k]!=' ':\n",
        "                k+=1\n",
        "            if k==len(s):\n",
        "                break\n",
        "            # Por descarte, s[k]==' '\n",
        "        k+=1\n",
        "    return np"
      ],
      "execution_count": 0,
      "outputs": []
    },
    {
      "cell_type": "code",
      "metadata": {
        "id": "u2bYPWfv6XTK",
        "colab_type": "code",
        "colab": {},
        "outputId": "8d200a9d-2edd-4385-958e-c000509c71ca"
      },
      "source": [
        "s=input(\"Escriba frase: \")\n",
        "print(\"Hay\", contar_palabras(s), \"palabras\")"
      ],
      "execution_count": 0,
      "outputs": [
        {
          "output_type": "stream",
          "text": [
            "Escriba frase: Hasta la vista, baby\n",
            "Hay 4 palabras\n"
          ],
          "name": "stdout"
        }
      ]
    }
  ]
}