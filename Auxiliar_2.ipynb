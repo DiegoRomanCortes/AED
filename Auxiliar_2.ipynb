{
  "nbformat": 4,
  "nbformat_minor": 0,
  "metadata": {
    "colab": {
      "name": "Auxiliar 2.ipynb",
      "provenance": [],
      "authorship_tag": "ABX9TyPErF2bbsrMfif7NsOSVxJk",
      "include_colab_link": true
    },
    "kernelspec": {
      "name": "python3",
      "display_name": "Python 3"
    }
  },
  "cells": [
    {
      "cell_type": "markdown",
      "metadata": {
        "id": "view-in-github",
        "colab_type": "text"
      },
      "source": [
        "<a href=\"https://colab.research.google.com/github/DiegoRomanCortes/AED/blob/master/Auxiliar_2.ipynb\" target=\"_parent\"><img src=\"https://colab.research.google.com/assets/colab-badge.svg\" alt=\"Open In Colab\"/></a>"
      ]
    },
    {
      "cell_type": "markdown",
      "metadata": {
        "id": "rQuYn755XDgi",
        "colab_type": "text"
      },
      "source": [
        "#P1. Subarreglo de suma máxima\n",
        "Dado un arreglo con enteros positivos y negativos, se quiere conseguir el subarreglo que contiene la suma máxima posible. Un subarreglo es cualquier subconjunto consecutivo del arreglo.\n",
        "\n",
        "\n",
        "1.   Programe una solución que resuelva el problema, sin importar cuán eficiente es.\n",
        "2.   Puede ser más eficiente la solución? Intente mejorar la solución anterior.\n",
        "3.   Sea aún más eficiente: programe una solución que resuelva el problema en tiempo lineal.\n",
        "Hint: La clave está en los números que son negativos"
      ]
    },
    {
      "cell_type": "code",
      "metadata": {
        "id": "_oGP1TGkW2w1",
        "colab_type": "code",
        "colab": {}
      },
      "source": [
        "#Parte 1\n",
        "\n",
        "#Fuerza bruta\n",
        "import numpy as np\n",
        "\n",
        "def cubica(arreglo):\n",
        "  suma = -1e9\n",
        "  a = 0\n",
        "  b = 0\n",
        "\n",
        "\n",
        "\n",
        "  j = 0\n",
        "  while j < len(arreglo):       #indice menor del subarreglo que irá aumentando en 1 \n",
        "    i = j\n",
        "    while i < len(arreglo):    #indice mayor del subarreglo que irá aumentando en 1\n",
        "      suma_temp = 0             #neutro aditivo para ir sumando los elementos del subarreglo\n",
        "      for n in arreglo[j:i]:    #recorrer todos los elementos del subarreglo\n",
        "        suma_temp += n\n",
        "      if suma_temp > suma:      #condicion que pide el problema\n",
        "        suma = suma_temp\n",
        "        a = j\n",
        "        b = i\n",
        "      i+=1\n",
        "    j+=1\n",
        "  return(arreglo[a:b])\n"
      ],
      "execution_count": 0,
      "outputs": []
    },
    {
      "cell_type": "code",
      "metadata": {
        "id": "ETj5CyIKMAKi",
        "colab_type": "code",
        "colab": {}
      },
      "source": [
        "def cuadratica(arreglo):\n",
        "  suma = -1e9\n",
        "  a = 0\n",
        "  b = 0\n",
        "\n",
        "  i = 0\n",
        "  while i < len(arreglo):\n",
        "    j = i  \n",
        "    suma_temp = 0\n",
        "    while j < len(arreglo):\n",
        "      suma_temp += arreglo[j]\n",
        "      if suma_temp > suma:\n",
        "        suma, a, b = suma_temp, i , j\n",
        "      j += 1\n",
        "    i += 1\n",
        "\n",
        "  return(arreglo[a:b+1])"
      ],
      "execution_count": 0,
      "outputs": []
    },
    {
      "cell_type": "code",
      "metadata": {
        "id": "CT7S7aBmX9Gz",
        "colab_type": "code",
        "colab": {}
      },
      "source": [
        "def lineal(arreglo):\n",
        "  maxSum = 0\n",
        "  thisSum = 0\n",
        "  a = 0\n",
        "  aprim = 0\n",
        "  b = 0\n",
        "  for i in range(len(arreglo)): #i va de 0 a len(arreglo) - 1\n",
        "    thisSum += arreglo[i]       #suma acumulada\n",
        "    if thisSum > maxSum:\n",
        "      maxSum = thisSum\n",
        "      b = i\n",
        "      a = aprim\n",
        "    elif thisSum < 0:         #si la suma es negativa no puede ser el subarr maximo\n",
        "      thisSum = 0             #reinicia la suma acumulada\n",
        "      aprim = i+1             \n",
        "  return(arreglo[a:b+1])"
      ],
      "execution_count": 0,
      "outputs": []
    },
    {
      "cell_type": "code",
      "metadata": {
        "id": "W4Gn86obj2Gv",
        "colab_type": "code",
        "colab": {}
      },
      "source": [
        "arreglo = np.random.randint(-10, high=10,size = 10)"
      ],
      "execution_count": 0,
      "outputs": []
    },
    {
      "cell_type": "code",
      "metadata": {
        "id": "qXMBsJPDVsRr",
        "colab_type": "code",
        "colab": {
          "base_uri": "https://localhost:8080/",
          "height": 230
        },
        "outputId": "4b7b866f-abdb-487f-9deb-16474261adc7"
      },
      "source": [
        "print(arreglo, arreglo.sum())\n",
        "#print(\"cubica: \", cubica(arreglo), cubica(arreglo).sum(), sep=\"\\n\")\n",
        "#print(\"cuadratica: \", cuadratica(arreglo), cuadratica(arreglo).sum(), sep=\"\\n\")\n",
        "print(\"lineal: \", lineal(arreglo), lineal(arreglo).sum(), sep=\"\\n\")"
      ],
      "execution_count": 83,
      "outputs": [
        {
          "output_type": "stream",
          "text": [
            "[-6 -6 -7 ...  0  3  7] -1452\n",
            "lineal: \n",
            "[  6   8  -3  -9   4  -6   6   9  -1   1   5   8   2   7   1  -5  -9   8\n",
            "  -3   0  -4  -3  -9  -2   9  -2   1  -5   0  -2   2   5   1   1   6   4\n",
            "   8   4   5 -10   8   2  -1   7   7  -3   1   9  -7   4   1  -9  -7  -9\n",
            "   7   9  -3  -1  -3   5   7   7 -10   9   4   4   9   4  -5   8   3  -7\n",
            "  -9  -2   5   6   3  -3  -2   0   9  -8  -8  -2   4   6   4   7   6  -6\n",
            "   9  -2  -3   5   1   3   0  -7   0  -5   2   3   3  -4   2  -2  -2 -10\n",
            "   9 -10   5  -9  -8  -3   1   1  -7   2  -8  -7   6  -9  -1   4   5   9\n",
            "  -6  -1   7  -5  -1  -2   7   2   1   7   9   3  -3   9   2   2   0  -9\n",
            "  -7   0  -2   7  -3   5  -6   5   6   8   3   9   1   7   0   8  -6   9]\n",
            "137\n"
          ],
          "name": "stdout"
        }
      ]
    }
  ]
}