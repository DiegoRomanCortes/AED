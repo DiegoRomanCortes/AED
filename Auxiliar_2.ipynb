{
  "nbformat": 4,
  "nbformat_minor": 0,
  "metadata": {
    "colab": {
      "name": "Auxiliar 2.ipynb",
      "provenance": [],
      "authorship_tag": "ABX9TyPCVTylsERJHa9yfXGElQxY",
      "include_colab_link": true
    },
    "kernelspec": {
      "name": "python3",
      "display_name": "Python 3"
    }
  },
  "cells": [
    {
      "cell_type": "markdown",
      "metadata": {
        "id": "view-in-github",
        "colab_type": "text"
      },
      "source": [
        "<a href=\"https://colab.research.google.com/github/DiegoRomanCortes/AED/blob/master/Auxiliar_2.ipynb\" target=\"_parent\"><img src=\"https://colab.research.google.com/assets/colab-badge.svg\" alt=\"Open In Colab\"/></a>"
      ]
    },
    {
      "cell_type": "markdown",
      "metadata": {
        "id": "rQuYn755XDgi",
        "colab_type": "text"
      },
      "source": [
        "#P1. Subarreglo de suma máxima\n",
        "Dado un arreglo con enteros positivos y negativos, se quiere conseguir el subarreglo que contiene la suma máxima posible. Un subarreglo es cualquier subconjunto consecutivo del arreglo.\n",
        "\n",
        "\n",
        "1.   Programe una solución que resuelva el problema, sin importar cuán eficiente es.\n",
        "2.   Puede ser más eficiente la solución? Intente mejorar la solución anterior.\n",
        "3.   Sea aún más eficiente: programe una solución que resuelva el problema en tiempo lineal.\n",
        "Hint: La clave está en los números que son negativos"
      ]
    },
    {
      "cell_type": "code",
      "metadata": {
        "id": "_oGP1TGkW2w1",
        "colab_type": "code",
        "colab": {
          "base_uri": "https://localhost:8080/",
          "height": 87
        },
        "outputId": "1b265263-f769-439b-bab3-29706858bec5"
      },
      "source": [
        "import numpy as np\n",
        "\n",
        "arreglo = np.random.randint(-100, high=100,size = 10000)\n",
        "\n",
        "subarreglo = np.array([])\n",
        "for n in arreglo:\n",
        "  if n > 0:\n",
        "    subarreglo = np.append(subarreglo, n)\n",
        "\n",
        "print(arreglo, arreglo.sum(), subarreglo, subarreglo.sum(), sep=\"\\n\")"
      ],
      "execution_count": 22,
      "outputs": [
        {
          "output_type": "stream",
          "text": [
            "[ 83 -85  72 ...  69  18 -69]\n",
            "6675\n",
            "[83. 72. 87. ... 79. 69. 18.]\n",
            "252116.0\n"
          ],
          "name": "stdout"
        }
      ]
    }
  ]
}