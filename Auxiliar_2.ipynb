{
  "nbformat": 4,
  "nbformat_minor": 0,
  "metadata": {
    "colab": {
      "name": "Auxiliar 2.ipynb",
      "provenance": [],
      "authorship_tag": "ABX9TyN7C/N9ZQmy9iALM0f9ImBR",
      "include_colab_link": true
    },
    "kernelspec": {
      "name": "python3",
      "display_name": "Python 3"
    }
  },
  "cells": [
    {
      "cell_type": "markdown",
      "metadata": {
        "id": "view-in-github",
        "colab_type": "text"
      },
      "source": [
        "<a href=\"https://colab.research.google.com/github/DiegoRomanCortes/AED/blob/master/Auxiliar_2.ipynb\" target=\"_parent\"><img src=\"https://colab.research.google.com/assets/colab-badge.svg\" alt=\"Open In Colab\"/></a>"
      ]
    },
    {
      "cell_type": "markdown",
      "metadata": {
        "id": "rQuYn755XDgi",
        "colab_type": "text"
      },
      "source": [
        "#P1. Subarreglo de suma máxima\n",
        "Dado un arreglo con enteros positivos y negativos, se quiere conseguir el subarreglo que contiene la suma máxima posible. Un subarreglo es cualquier subconjunto consecutivo del arreglo.\n",
        "\n",
        "\n",
        "1.   Programe una solución que resuelva el problema, sin importar cuán eficiente es.\n",
        "2.   Puede ser más eficiente la solución? Intente mejorar la solución anterior.\n",
        "3.   Sea aún más eficiente: programe una solución que resuelva el problema en tiempo lineal.\n",
        "Hint: La clave está en los números que son negativos"
      ]
    },
    {
      "cell_type": "code",
      "metadata": {
        "id": "_oGP1TGkW2w1",
        "colab_type": "code",
        "outputId": "efa74e85-1c57-43e5-be9d-fa1d51065c75",
        "colab": {
          "base_uri": "https://localhost:8080/",
          "height": 105
        }
      },
      "source": [
        "#Parte 1\n",
        "\n",
        "#Fuerza bruta\n",
        "import numpy as np\n",
        "\n",
        "arreglo = np.random.randint(-10, high=10,size = 20)\n",
        "\n",
        "suma = -1e9\n",
        "a = 0\n",
        "b = 0\n",
        "\n",
        "\n",
        "\n",
        "j = 0\n",
        "while j < len(arreglo):       #indice menor del subarreglo que irá aumentando en 1 \n",
        "  i = 1\n",
        "  while i <= len(arreglo):    #indice mayor del subarreglo que irá aumentando en 1\n",
        "    suma_temp = 0             #neutro aditivo para ir sumando los elementos del subarreglo\n",
        "    for n in arreglo[j:i]:    #recorrer todos los elementos del subarreglo\n",
        "      suma_temp += n\n",
        "    if suma_temp > suma:      #condicion que pide el problema\n",
        "      suma = suma_temp\n",
        "      a = j\n",
        "      b = i\n",
        "    i+=1\n",
        "  j+=1\n",
        "\n",
        "print(arreglo, arreglo.sum(), arreglo[a:b], suma, sep = \"\\n\")"
      ],
      "execution_count": 8,
      "outputs": [
        {
          "output_type": "stream",
          "text": [
            "[ -3   3 -10  -6   8   9  -2  -1  -8  -1  -1  -4  -1   4   7   4   8   3\n",
            "   3  -1]\n",
            "11\n",
            "[4 7 4 8 3 3]\n",
            "29\n"
          ],
          "name": "stdout"
        }
      ]
    },
    {
      "cell_type": "code",
      "metadata": {
        "id": "ETj5CyIKMAKi",
        "colab_type": "code",
        "colab": {}
      },
      "source": [
        ""
      ],
      "execution_count": 0,
      "outputs": []
    }
  ]
}