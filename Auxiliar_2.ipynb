{
  "nbformat": 4,
  "nbformat_minor": 0,
  "metadata": {
    "colab": {
      "name": "Auxiliar 2.ipynb",
      "provenance": [],
      "authorship_tag": "ABX9TyPt2XgqvpVUL5hugUrWJIAQ",
      "include_colab_link": true
    },
    "kernelspec": {
      "name": "python3",
      "display_name": "Python 3"
    }
  },
  "cells": [
    {
      "cell_type": "markdown",
      "metadata": {
        "id": "view-in-github",
        "colab_type": "text"
      },
      "source": [
        "<a href=\"https://colab.research.google.com/github/DiegoRomanCortes/AED/blob/master/Auxiliar_2.ipynb\" target=\"_parent\"><img src=\"https://colab.research.google.com/assets/colab-badge.svg\" alt=\"Open In Colab\"/></a>"
      ]
    },
    {
      "cell_type": "markdown",
      "metadata": {
        "id": "rQuYn755XDgi",
        "colab_type": "text"
      },
      "source": [
        "#P1. Subarreglo de suma máxima\n",
        "Dado un arreglo con enteros positivos y negativos, se quiere conseguir el subarreglo que contiene la suma máxima posible. Un subarreglo es cualquier subconjunto consecutivo del arreglo.\n",
        "\n",
        "\n",
        "1.   Programe una solución que resuelva el problema, sin importar cuán eficiente es.\n",
        "2.   Puede ser más eficiente la solución? Intente mejorar la solución anterior.\n",
        "3.   Sea aún más eficiente: programe una solución que resuelva el problema en tiempo lineal.\n",
        "Hint: La clave está en los números que son negativos"
      ]
    },
    {
      "cell_type": "code",
      "metadata": {
        "id": "_oGP1TGkW2w1",
        "colab_type": "code",
        "outputId": "cd45f31c-7a10-40b0-d26f-2493be403432",
        "colab": {
          "base_uri": "https://localhost:8080/",
          "height": 141
        }
      },
      "source": [
        "#Parte 1\n",
        "\n",
        "#Fuerza bruta\n",
        "import numpy as np\n",
        "\n",
        "arreglo = np.random.randint(-10, high=10,size = 20)\n",
        "\n",
        "subarr = arreglo\n",
        "\n",
        "j = 0\n",
        "while j < len(arreglo):\n",
        "  i = 1\n",
        "  while i <= len(arreglo):\n",
        "    subarr_temp = arreglo[j:i]\n",
        "    if subarr_temp.sum() > subarr.sum():\n",
        "      subarr = subarr_temp\n",
        "    i+=1\n",
        "  j+=1\n",
        "\n",
        "print(arreglo, arreglo.sum(), subarr, subarr.sum(), sep = '\\n \\n')"
      ],
      "execution_count": 4,
      "outputs": [
        {
          "output_type": "stream",
          "text": [
            "[ 5 -7  7 -8 -4  4  3  3  4 -1 -4  3  7  2  7  9  3 -3  4  3]\n",
            " \n",
            "37\n",
            " \n",
            "[ 4  3  3  4 -1 -4  3  7  2  7  9  3 -3  4  3]\n",
            " \n",
            "44\n"
          ],
          "name": "stdout"
        }
      ]
    }
  ]
}