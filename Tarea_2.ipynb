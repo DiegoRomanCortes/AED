{
  "nbformat": 4,
  "nbformat_minor": 0,
  "metadata": {
    "colab": {
      "name": "Tarea 2.ipynb",
      "provenance": [],
      "authorship_tag": "ABX9TyPSlgFSpZLK1Mu3p6OzpZy7",
      "include_colab_link": true
    },
    "kernelspec": {
      "name": "python3",
      "display_name": "Python 3"
    }
  },
  "cells": [
    {
      "cell_type": "markdown",
      "metadata": {
        "id": "view-in-github",
        "colab_type": "text"
      },
      "source": [
        "<a href=\"https://colab.research.google.com/github/DiegoRomanCortes/AED/blob/master/Tarea_2.ipynb\" target=\"_parent\"><img src=\"https://colab.research.google.com/assets/colab-badge.svg\" alt=\"Open In Colab\"/></a>"
      ]
    },
    {
      "cell_type": "markdown",
      "metadata": {
        "id": "DeQZowZ_bvA-",
        "colab_type": "text"
      },
      "source": [
        "[Enunciado](https://www.u-cursos.cl/ingenieria/2020/1/CC3001/1/tareas/r/1_CC3001-Tarea2-Diagrama_de_estados.pdf)"
      ]
    },
    {
      "cell_type": "code",
      "metadata": {
        "id": "iBAxoIuXbtVH",
        "colab_type": "code",
        "colab": {}
      },
      "source": [
        "def leercomando():\n",
        "  comando = input()\n",
        "  return comando\n",
        "\n",
        "def procesar(comando, dic):\n",
        "  linea = ''\n",
        "  Estado = 'INICIO'\n",
        "  for char in comando:\n",
        "    if char == '=': #comando es asignacion\n",
        "      Estado = 'ASIGNACION'\n",
        "      asignar(comando, dic) #agrega variable al diccionario\n",
        "    linea += char\n",
        "  if linea in dic and Estado == 'INICIO': #comando es printeo\n",
        "      Estado = 'PRINTEO'\n",
        "      printear(linea, dic) #printea variable ya conocida\n",
        "  elif Estado == 'INICIO': #error de sintaxis\n",
        "    Estado = 'ERROR'\n",
        "    linea = 'ERROR: al procesar \"' + linea + '\"'\n",
        "    print(linea)\n",
        "\n",
        "def asignar(comando, dic): #expresiones del tipo: variable = a + 3 * b ^ 12\n",
        "  var = ''\n",
        "  valor = ''\n",
        "  Estado = 'Izquierda' #se lee de izquierda a derecha\n",
        "  for char in comando:\n",
        "    if Estado == 'Izquierda':\n",
        "      if esVar(char):\n",
        "        var += char\n",
        "      elif char == '=': #separador entre izquierda y derecha\n",
        "        Estado = 'Derecha'\n",
        "    else: #por descarte está en Derecha\n",
        "      valor += char\n",
        "  valor = operar(valor) #valor ahora es un int\n",
        "  dic[var] = valor\n",
        "\n",
        "def printear(str, dic):\n",
        "  print(dic[str])\n",
        "\n",
        "def operar(valor): #valor es el lado derecho '      3232  ^ n  + a  '\n",
        "  Estado = 'Izquierda'\n",
        "  derecha = '' #expresion de lado derecho\n",
        "  aux = 0 #memoria\n",
        "  if Estado == 'Izquierda':\n",
        "    for char in valor:\n",
        "      if esVar(char):\n",
        "        pass\n",
        "\n",
        "Enteros = ['0', '1', '2', '3', '4', '5', '6', '7', '8' ,'9']\n",
        "\n",
        "Letras = ['a','b','c','d','e','f','g',\\\n",
        "          'h','i','j','k','l','m','n',\\\n",
        "          'o','p','q','r','s','t','u',\\\n",
        "          'v','w','x','y','z',\\\n",
        "          'A', 'B', 'C', 'D', 'E', 'F',\\\n",
        "          'G', 'H', 'I', 'J', 'K', 'L', \\\n",
        "          'M', 'N', 'O', 'P', 'Q', 'R', \\\n",
        "          'S', 'T', 'U', 'V', 'W', 'X', \\\n",
        "          'Y', 'Z']\n",
        "\n",
        "Operaciones = ['+','-','*','/','^']\n",
        "\n",
        "def es(char, algo):\n",
        "  b = char in algo\n",
        "  return b\n",
        "\n",
        "def esVar(char):\n",
        "  b = es(char, Enteros) or es(char, Letras) or char == '_'\n",
        "  return b\n",
        "\n",
        "dic = {}\n",
        "while True:\n",
        "  comando = leercomando()\n",
        "  procesar(comando, dic)"
      ],
      "execution_count": 0,
      "outputs": []
    }
  ]
}