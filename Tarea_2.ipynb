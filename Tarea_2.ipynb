{
  "nbformat": 4,
  "nbformat_minor": 0,
  "metadata": {
    "colab": {
      "name": "Tarea 2.ipynb",
      "provenance": [],
      "authorship_tag": "ABX9TyOmhL4/v0IZ5RIRADIKzhpN",
      "include_colab_link": true
    },
    "kernelspec": {
      "name": "python3",
      "display_name": "Python 3"
    }
  },
  "cells": [
    {
      "cell_type": "markdown",
      "metadata": {
        "id": "view-in-github",
        "colab_type": "text"
      },
      "source": [
        "<a href=\"https://colab.research.google.com/github/DiegoRomanCortes/AED/blob/master/Tarea_2.ipynb\" target=\"_parent\"><img src=\"https://colab.research.google.com/assets/colab-badge.svg\" alt=\"Open In Colab\"/></a>"
      ]
    },
    {
      "cell_type": "markdown",
      "metadata": {
        "id": "DeQZowZ_bvA-",
        "colab_type": "text"
      },
      "source": [
        "[Enunciado](https://www.u-cursos.cl/ingenieria/2020/1/CC3001/1/tareas/r/1_CC3001-Tarea2-Diagrama_de_estados.pdf)"
      ]
    },
    {
      "cell_type": "code",
      "metadata": {
        "id": "iBAxoIuXbtVH",
        "colab_type": "code",
        "outputId": "3dc133db-d5ee-4f8d-af44-920855c1399e",
        "colab": {
          "base_uri": "https://localhost:8080/",
          "height": 51
        }
      },
      "source": [
        "dic = {}\n",
        "\n",
        "def leerlinea(str):\n",
        "  linea = ''\n",
        "  for char in str:\n",
        "    linea += char\n",
        "  return linea\n",
        "\n",
        "def asignar(linea):\n",
        "  nombrevar = ''\n",
        "  valor = ''\n",
        "  i = 0\n",
        "  while i < len(linea):\n",
        "    if linea[i] == '=':\n",
        "      valor = '' \n",
        "      i += 1\n",
        "    elif linea[i] == '_' or esInt(linea[i]) or linea[i].isalpha():\n",
        "      nombrevar += linea[i]\n",
        "      i += 1\n",
        "    else:\n",
        "      valor += linea[i]\n",
        "      i += 1\n",
        "  valor = int(valor)\n",
        "  dic[nombrevar] = valor\n",
        "  return nombrevar\n",
        "\n",
        "def esInt(char):\n",
        "  Enteros = [0, 1, 2, 3, 4, 5, 6, 7, 8 ,9]\n",
        "  b = char in Enteros\n",
        "  return b\n",
        "\n",
        "def esAlfa(char):\n",
        "  Letras = ['a','b','c','d','e','f','g',\\\n",
        "            'h','i','j','k','l','m','n','o','p','q','r','s','t','u','v','w','x','y','z']\n",
        "  b = char in Letras\n",
        "  return b\n",
        "\n",
        "def printear(str):\n",
        "  print(dic[str])\n",
        "\n",
        "a = input()\n",
        "a = leerlinea(a)"
      ],
      "execution_count": 0,
      "outputs": [
        {
          "output_type": "stream",
          "text": [
            "Escriba un comando. Escriba salir para cerrar el programa\n",
            "salir\n"
          ],
          "name": "stdout"
        }
      ]
    }
  ]
}