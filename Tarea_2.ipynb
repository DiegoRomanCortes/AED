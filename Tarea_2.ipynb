{
  "nbformat": 4,
  "nbformat_minor": 0,
  "metadata": {
    "colab": {
      "name": "Tarea 2.ipynb",
      "provenance": [],
      "authorship_tag": "ABX9TyOZJ5iXLudZSKD3rM67e+Ib",
      "include_colab_link": true
    },
    "kernelspec": {
      "name": "python3",
      "display_name": "Python 3"
    }
  },
  "cells": [
    {
      "cell_type": "markdown",
      "metadata": {
        "id": "view-in-github",
        "colab_type": "text"
      },
      "source": [
        "<a href=\"https://colab.research.google.com/github/DiegoRomanCortes/AED/blob/master/Tarea_2.ipynb\" target=\"_parent\"><img src=\"https://colab.research.google.com/assets/colab-badge.svg\" alt=\"Open In Colab\"/></a>"
      ]
    },
    {
      "cell_type": "markdown",
      "metadata": {
        "id": "DeQZowZ_bvA-",
        "colab_type": "text"
      },
      "source": [
        "[Enunciado](https://www.u-cursos.cl/ingenieria/2020/1/CC3001/1/tareas/r/1_CC3001-Tarea2-Diagrama_de_estados.pdf)"
      ]
    },
    {
      "cell_type": "code",
      "metadata": {
        "id": "iBAxoIuXbtVH",
        "colab_type": "code",
        "outputId": "be570789-893c-44e0-868a-9add9154ecbf",
        "colab": {
          "base_uri": "https://localhost:8080/",
          "height": 357
        }
      },
      "source": [
        "dic = {}\n",
        "\n",
        "def leerlinea(str):\n",
        "  linea = ''\n",
        "  for char in str:\n",
        "    linea += char\n",
        "  return linea\n",
        "\n",
        "def asignar(linea):\n",
        "  nombrevar = ''\n",
        "  valor = ''\n",
        "  i = 0\n",
        "  while i < len(linea):\n",
        "    if linea[i] == '=':\n",
        "      valor = '' \n",
        "      i += 1\n",
        "    elif linea[i] == '_' or esInt(linea[i]) or esAlfa(linea[i]):\n",
        "      nombrevar += linea[i]\n",
        "      i += 1\n",
        "    else:\n",
        "      valor += linea[i]\n",
        "      i += 1\n",
        "  valor = int(valor)\n",
        "  dic[nombrevar] = valor\n",
        "  return None\n",
        "\n",
        "def procesar(linea):\n",
        "  if '=' in linea:\n",
        "    if '+' in linea: pass\n",
        "    else: asignar(linea)\n",
        "  else:\n",
        "    printear(linea)\n",
        "\n",
        "def esInt(char):\n",
        "  Enteros = ['0', '1', '2', '3', '4', '5', '6', '7', '8' ,'9']\n",
        "  b = char in Enteros\n",
        "  return b\n",
        "\n",
        "def esAlfa(char):\n",
        "  Letras = ['a','b','c','d','e','f','g',\\\n",
        "            'h','i','j','k','l','m','n',\\\n",
        "            'o','p','q','r','s','t','u',\\\n",
        "            'v','w','x','y','z',\\\n",
        "            'A', 'B', 'C', 'D', 'E', 'F',\\\n",
        "            'G', 'H', 'I', 'J', 'K', 'L', \\\n",
        "            'M', 'N', 'O', 'P', 'Q', 'R', \\\n",
        "            'S', 'T', 'U', 'V', 'W', 'X', \\\n",
        "            'Y', 'Z']\n",
        "  b = char in Letras\n",
        "  return b\n",
        "\n",
        "def esOp(char):\n",
        "  Operaciones = ['+','-','*','/','^']\n",
        "\n",
        "def printear(str):\n",
        "  print(dic[str])\n",
        "\n",
        "while True:\n",
        "  a = input()\n",
        "  if a == 'salir': break\n",
        "  a = leerlinea(a)\n",
        "  procesar(a)"
      ],
      "execution_count": 18,
      "outputs": [
        {
          "output_type": "stream",
          "text": [
            "dfhsagjhkjdlsa___872193hedohe983nd__7yeh739 = 637281687\n"
          ],
          "name": "stdout"
        },
        {
          "output_type": "error",
          "ename": "ValueError",
          "evalue": "ignored",
          "traceback": [
            "\u001b[0;31m---------------------------------------------------------------------------\u001b[0m",
            "\u001b[0;31mValueError\u001b[0m                                Traceback (most recent call last)",
            "\u001b[0;32m<ipython-input-18-fbfda7a72729>\u001b[0m in \u001b[0;36m<module>\u001b[0;34m()\u001b[0m\n\u001b[1;32m     52\u001b[0m   \u001b[0;32mif\u001b[0m \u001b[0ma\u001b[0m \u001b[0;34m==\u001b[0m \u001b[0;34m'salir'\u001b[0m\u001b[0;34m:\u001b[0m \u001b[0;32mbreak\u001b[0m\u001b[0;34m\u001b[0m\u001b[0;34m\u001b[0m\u001b[0m\n\u001b[1;32m     53\u001b[0m   \u001b[0ma\u001b[0m \u001b[0;34m=\u001b[0m \u001b[0mleerlinea\u001b[0m\u001b[0;34m(\u001b[0m\u001b[0ma\u001b[0m\u001b[0;34m)\u001b[0m\u001b[0;34m\u001b[0m\u001b[0;34m\u001b[0m\u001b[0m\n\u001b[0;32m---> 54\u001b[0;31m   \u001b[0mprocesar\u001b[0m\u001b[0;34m(\u001b[0m\u001b[0ma\u001b[0m\u001b[0;34m)\u001b[0m\u001b[0;34m\u001b[0m\u001b[0;34m\u001b[0m\u001b[0m\n\u001b[0m",
            "\u001b[0;32m<ipython-input-18-fbfda7a72729>\u001b[0m in \u001b[0;36mprocesar\u001b[0;34m(linea)\u001b[0m\n\u001b[1;32m     28\u001b[0m   \u001b[0;32mif\u001b[0m \u001b[0;34m'='\u001b[0m \u001b[0;32min\u001b[0m \u001b[0mlinea\u001b[0m\u001b[0;34m:\u001b[0m\u001b[0;34m\u001b[0m\u001b[0;34m\u001b[0m\u001b[0m\n\u001b[1;32m     29\u001b[0m     \u001b[0;32mif\u001b[0m \u001b[0;34m'+'\u001b[0m \u001b[0;32min\u001b[0m \u001b[0mlinea\u001b[0m\u001b[0;34m:\u001b[0m \u001b[0;32mpass\u001b[0m\u001b[0;34m\u001b[0m\u001b[0;34m\u001b[0m\u001b[0m\n\u001b[0;32m---> 30\u001b[0;31m     \u001b[0;32melse\u001b[0m\u001b[0;34m:\u001b[0m \u001b[0masignar\u001b[0m\u001b[0;34m(\u001b[0m\u001b[0mlinea\u001b[0m\u001b[0;34m)\u001b[0m\u001b[0;34m\u001b[0m\u001b[0;34m\u001b[0m\u001b[0m\n\u001b[0m\u001b[1;32m     31\u001b[0m   \u001b[0;32melse\u001b[0m\u001b[0;34m:\u001b[0m\u001b[0;34m\u001b[0m\u001b[0;34m\u001b[0m\u001b[0m\n\u001b[1;32m     32\u001b[0m     \u001b[0mprintear\u001b[0m\u001b[0;34m(\u001b[0m\u001b[0mlinea\u001b[0m\u001b[0;34m)\u001b[0m\u001b[0;34m\u001b[0m\u001b[0;34m\u001b[0m\u001b[0m\n",
            "\u001b[0;32m<ipython-input-18-fbfda7a72729>\u001b[0m in \u001b[0;36masignar\u001b[0;34m(linea)\u001b[0m\n\u001b[1;32m     21\u001b[0m       \u001b[0mvalor\u001b[0m \u001b[0;34m+=\u001b[0m \u001b[0mlinea\u001b[0m\u001b[0;34m[\u001b[0m\u001b[0mi\u001b[0m\u001b[0;34m]\u001b[0m\u001b[0;34m\u001b[0m\u001b[0;34m\u001b[0m\u001b[0m\n\u001b[1;32m     22\u001b[0m       \u001b[0mi\u001b[0m \u001b[0;34m+=\u001b[0m \u001b[0;36m1\u001b[0m\u001b[0;34m\u001b[0m\u001b[0;34m\u001b[0m\u001b[0m\n\u001b[0;32m---> 23\u001b[0;31m   \u001b[0mvalor\u001b[0m \u001b[0;34m=\u001b[0m \u001b[0mint\u001b[0m\u001b[0;34m(\u001b[0m\u001b[0mvalor\u001b[0m\u001b[0;34m)\u001b[0m\u001b[0;34m\u001b[0m\u001b[0;34m\u001b[0m\u001b[0m\n\u001b[0m\u001b[1;32m     24\u001b[0m   \u001b[0mdic\u001b[0m\u001b[0;34m[\u001b[0m\u001b[0mnombrevar\u001b[0m\u001b[0;34m]\u001b[0m \u001b[0;34m=\u001b[0m \u001b[0mvalor\u001b[0m\u001b[0;34m\u001b[0m\u001b[0;34m\u001b[0m\u001b[0m\n\u001b[1;32m     25\u001b[0m   \u001b[0;32mreturn\u001b[0m \u001b[0;32mNone\u001b[0m\u001b[0;34m\u001b[0m\u001b[0;34m\u001b[0m\u001b[0m\n",
            "\u001b[0;31mValueError\u001b[0m: invalid literal for int() with base 10: ' '"
          ]
        }
      ]
    }
  ]
}