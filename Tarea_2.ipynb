{
  "nbformat": 4,
  "nbformat_minor": 0,
  "metadata": {
    "colab": {
      "name": "Tarea 2.ipynb",
      "provenance": [],
      "authorship_tag": "ABX9TyP7KGTzEy5zh+KUaupkl+UD",
      "include_colab_link": true
    },
    "kernelspec": {
      "name": "python3",
      "display_name": "Python 3"
    }
  },
  "cells": [
    {
      "cell_type": "markdown",
      "metadata": {
        "id": "view-in-github",
        "colab_type": "text"
      },
      "source": [
        "<a href=\"https://colab.research.google.com/github/DiegoRomanCortes/AED/blob/master/Tarea_2.ipynb\" target=\"_parent\"><img src=\"https://colab.research.google.com/assets/colab-badge.svg\" alt=\"Open In Colab\"/></a>"
      ]
    },
    {
      "cell_type": "markdown",
      "metadata": {
        "id": "DeQZowZ_bvA-",
        "colab_type": "text"
      },
      "source": [
        "[Enunciado](https://www.u-cursos.cl/ingenieria/2020/1/CC3001/1/tareas/r/1_CC3001-Tarea2-Diagrama_de_estados.pdf)"
      ]
    },
    {
      "cell_type": "markdown",
      "metadata": {
        "id": "SdmtyqEobnTN",
        "colab_type": "text"
      },
      "source": [
        "#Introducción\n",
        "Este notebook tiene el objetivo de ilustrar el uso de diagramas de estado en la programación de una calculador simple tipo Maple o Matlab. Las condiciones son restrictivas, lo que facilita la implementación del mismo. Hay dos comandos, o bien asignar en la memoria una variable (incluyendo operaciones matemáticas) o bien imprimir una variable ya registrada en pantalla. Las operaciones permitidas son $+$, $-$, $*$, $/$ y ^. Sólo se operarán números enteros (la división por lo mismo será entera). Las variables pueden partir con una letra e ir seguidas por letras, números o '_'. Además, no habrá paréntesis, por lo que se evalurán las expresiones de izquierda a derecha (a partir del $=$)."
      ]
    },
    {
      "cell_type": "markdown",
      "metadata": {
        "id": "_MfQ8q3Wfi7-",
        "colab_type": "text"
      },
      "source": [
        "#Diagramas de Estado"
      ]
    },
    {
      "cell_type": "markdown",
      "metadata": {
        "id": "cJKOcWCrfVCI",
        "colab_type": "text"
      },
      "source": [
        "El diagrama de estado más simple es el que se dibuja a nivel macro. Existen dos estado que ve el usuario: In (que es cuando se le pide ingresar un comando) y Out (el resultado del comando que ha sido escrito).\n",
        "\n",
        "\n",
        "![Entrada y Salida](https://github.com/DiegoRomanCortes/AED/blob/master/Entrada-Salida.png?raw=true)"
      ]
    },
    {
      "cell_type": "markdown",
      "metadata": {
        "id": "lMt-gCPxdvWR",
        "colab_type": "text"
      },
      "source": [
        "Todo el aparataje está contenido en el estado In, pues Out sólo imprime en pantalla lo procesado por In. Así, el lector comienza a leer el String proporcionado por el usuario. El primer caracter puede ser el inicio de una variable, el inicio de un numero, un espacio u otro caracter. Como el comando tipo es del tipo \n",
        "```\n",
        "variable = expresion\n",
        "``` \n",
        "y si se omite el '=' se entiende que se quiere imprimir en pantalla la variable, se necesita que el primer Estado no Espacio al que ingrese el lector sea Variable, de lo contrario será un error de sintaxis.\n",
        "\n",
        "Acto seguido, el lector debe asegurarse que el siguiente Estado no Espacio sea una Operacion (en concreto, el caracter debe ser '='). Tanto si el comando era de asignación como si era de impresión, cualquier otro Estado debe proporionar un error de sintaxis.\n",
        "\n",
        "Se almacena la variable de la izquierda como\n",
        "```\n",
        "izquierda\n",
        "```\n",
        "A nivel general, el programa funciona almacenando la parte derecha de la igualdad en una variable llamada\n",
        "\n",
        "\n",
        "```\n",
        "derecha\n",
        "```\n",
        "la cual es asignada al haber llegado a un Estado Espacio o a un Estado Operacion (operación incluye las operaciones anteriormente detalladas y '=') y al tener en memoria otra variable llamada \n",
        "\n",
        "```\n",
        "aux\n",
        "```\n",
        "que simboliza el lado derecho de una operación.\n",
        "\n",
        "El lector termina cuando detecta el último Estado Espacio (el programa se asegura de esto concatenando un espacio al String original) y hace la asignación descrita en el párrafo anterior.\n",
        "\n",
        "Finalmente, se añade al diccionario \n",
        "\n",
        "```\n",
        "dic\n",
        "```\n",
        "la variable por definir de la forma:\n",
        "\n",
        "```\n",
        "dic[izquierda] = derecha\n",
        "```\n",
        "Si el comando era de impresión, simplemente se obvia el cálculo de \n",
        "\n",
        "```\n",
        "derecha\n",
        "```\n",
        "y se imprime el valor que ya tenía asignada la variable (que si está mal escrita arroja un error de variable indefinida).\n",
        "\n",
        "\n",
        "\n",
        "![Lector](https://github.com/DiegoRomanCortes/AED/blob/master/DiagramaEstado.png?raw=true)"
      ]
    },
    {
      "cell_type": "markdown",
      "metadata": {
        "id": "yzRzr2Z2phLD",
        "colab_type": "text"
      },
      "source": [
        "Se llega hasta el Estado Variable si el caracter es una letra. No se sale del Estado Variable mientras el caracter no deje de ser un caracter permitido para la escritura de variables (una letra, un número o un guión bajo). Cualquier caracter distinto arrojará un error de sintaxis. Se sale del Estado Variable si el caracter es un espacio (entrado en el Estado Espacio) o si es una operacion. Si \n",
        "\n",
        "```\n",
        "variable\n",
        "```\n",
        "está en memoria, se reemplaza su valor y se añade a \n",
        "\n",
        "```\n",
        "derecha\n",
        "```\n",
        "o a\n",
        "\n",
        "```\n",
        "aux\n",
        "```\n",
        "\n",
        "\n",
        "dependiendo de \n",
        "\n",
        "```\n",
        "operacion\n",
        "```\n",
        "Si no está en memoria, existen dos casos: O es una variable por definir (es decir, se está en el lado izquierdo de la igualdad), o es un error de variable indefinida (si se está en el lado derecho).\n",
        "\n",
        "Para el estado Numero, el proceso es análogo a excepción de que no se arroja el error de variable indefinida ni se guarda en memoria una variable. Esto es, al salir del Estado Número, se reemplaza su valor y se añade dependiendo de la operación.\n",
        "\n",
        "El Estado Error de Sintaxis se activa por descarte de los casos contemplados.\n",
        "\n",
        "El Error de Variable Indefinida detiene de inmediato la ejecución del ciclo e imprime la variable que no se encuentra en memoria.\n",
        "\n"
      ]
    },
    {
      "cell_type": "code",
      "metadata": {
        "id": "z4ALoGyVqJ-M",
        "colab_type": "code",
        "colab": {}
      },
      "source": [
        "dic = {}\n",
        "\n",
        "Enteros = ['0', '1', '2', '3', '4', '5', '6', '7', '8' ,'9']\n",
        "\n",
        "Letras = ['a','b','c','d','e','f','g',\\\n",
        "          'h','i','j','k','l','m','n',\\\n",
        "          'o','p','q','r','s','t','u',\\\n",
        "          'v','w','x','y','z',\\\n",
        "          'A', 'B', 'C', 'D', 'E', 'F',\\\n",
        "          'G', 'H', 'I', 'J', 'K', 'L', \\\n",
        "          'M', 'N', 'O', 'P', 'Q', 'R', \\\n",
        "          'S', 'T', 'U', 'V', 'W', 'X', \\\n",
        "          'Y', 'Z']\n",
        "\n",
        "Operaciones = ['+','-','*','/','^','=']\n",
        "\n",
        "Caracteres = Enteros + Letras + ['_']\n",
        "\n",
        "def pedirEntrada():\n",
        "  Entrada = input()\n",
        "  return Entrada\n",
        "\n",
        "def leerEntrada(entrada):\n",
        "  entrada += ' '\n",
        "\n",
        "  Estado = 'Inicio' #no es importante pero sive para inicializar Estado\n",
        "  Subestado = 'Izq' #a la izquierda de un '='\n",
        "\n",
        "  variable = '' #aquí se almanenarán temporalmente las variables hasta llegar a una operacion\n",
        "  numero = '' #lo mismo pero para numeros enteros\n",
        "  operacion = '' #almacena la última operación leída para operarla después\n",
        "  error = '' #guarda la entrada desde donde se detecta error de sintaxis\n",
        "\n",
        "  izquierda = '' #variable por definir si es que es un comando de asignación, también variable de printeo\n",
        "  derecha = '' #expresion \n",
        "  aux = '' #almacena la parte a la derecha de una operacion\n",
        "\n",
        "  errvarindef = 'ERROR: variable indefinida \"'\n",
        "  errsintaxis = 'ERROR: al procesar \"'\n",
        "  \n",
        "  DeboLeer = True\n",
        "  \n",
        "  for char in entrada: #se procesan los caracter de uno en uno\n",
        "    if Estado == 'ErrorSintaxis':\n",
        "        error += char\n",
        "        continue\n",
        "  #primero analicemos el primer caracter de cada Estado\n",
        "    if char in Letras and variable == '' and Estado in ['Inicio', 'Operacion', 'Espacio'] and DeboLeer: #inicio de una variable\n",
        "      Estado = 'Variable'\n",
        "      variable += char\n",
        "    elif char in Enteros and numero == '' and Estado in ['Operacion', 'Espacio'] and DeboLeer: #inicio de un numero entero\n",
        "      Estado = 'Numero'\n",
        "      numero += char\n",
        "    elif char in Operaciones and Estado in ['Variable', 'Numero', 'Espacio']:\n",
        "      if char == '=' and operacion != '':\n",
        "          Estado = 'ErrorSintaxis'\n",
        "          error += char\n",
        "          continue\n",
        "      Estado = 'Operacion'\n",
        "      DeboLeer = True\n",
        "    elif char == ' ':\n",
        "      Estado = 'Espacio'\n",
        "    #ahora veamos que pasa en cada estado \n",
        "    elif char in Caracteres and Estado == 'Variable':\n",
        "      variable += char\n",
        "    elif char in Enteros and Estado == 'Numero':\n",
        "      numero += char\n",
        "    elif char == ' ' and Estado == 'Espacio':\n",
        "      pass\n",
        "    else:\n",
        "      Estado = 'ErrorSintaxis'\n",
        "      error += char\n",
        "      continue\n",
        "    #ahora, qué pasa al cambiar de estado\n",
        "    if Estado == 'Espacio' or Estado == 'Operacion':\n",
        "      if Subestado == 'Izq':\n",
        "        if char == '=':\n",
        "            Subestado = 'Der'\n",
        "            izquierda = variable\n",
        "            variable = ''\n",
        "            operacion = char\n",
        "        elif Estado == 'Espacio':\n",
        "            pass\n",
        "        else:\n",
        "            Estado = 'ErrorSintaxis'\n",
        "            error += char\n",
        "            continue\n",
        "      else: #Estamos en la derecha\n",
        "        if variable != '':\n",
        "          if variable in dic:\n",
        "            aux = dic[variable]\n",
        "            variable = ''\n",
        "            DeboLeer = False\n",
        "          else:\n",
        "            print(errvarindef, variable, '\"')\n",
        "            return\n",
        "        elif numero != '':\n",
        "          aux = int(numero)\n",
        "          numero = ''\n",
        "          DeboLeer = False\n",
        "        if operacion == '=' and derecha == '':\n",
        "          derecha = aux\n",
        "          aux = ''\n",
        "    if aux != '':\n",
        "        if operacion == '+':\n",
        "            derecha = derecha + aux\n",
        "        elif operacion == '-':\n",
        "            derecha = derecha - aux\n",
        "        elif operacion == '*':\n",
        "            derecha = derecha * aux\n",
        "        elif operacion == '/':\n",
        "            derecha = derecha // aux\n",
        "        elif operacion == '^':\n",
        "            derecha = derecha ** aux\n",
        "        aux = ''\n",
        "    if Estado == 'Operacion' and char != '=':\n",
        "        operacion = char\n",
        "  if Estado == 'ErrorSintaxis':\n",
        "    print(errsintaxis, error, '\"')\n",
        "    return\n",
        "  elif Subestado == 'Der': #asignacion\n",
        "    dic[izquierda] = derecha\n",
        "  else: #no cambio el subestado, por tanto es printeo\n",
        "    izquierda = variable\n",
        "    if variable in dic:\n",
        "      pass\n",
        "    else:\n",
        "      print(errvarindef, izquierda, '\"')\n",
        "      return\n",
        "  print(dic[izquierda])"
      ],
      "execution_count": 0,
      "outputs": []
    },
    {
      "cell_type": "code",
      "metadata": {
        "id": "kr3vRfRIod-r",
        "colab_type": "code",
        "outputId": "500131bc-1138-4536-f5bc-e296188c48a8",
        "colab": {
          "base_uri": "https://localhost:8080/",
          "height": 119
        }
      },
      "source": [
        "print('Esta es una calculadora simple de operaciones entre números enteros')\n",
        "print('Las operaciones permitidas son +, -, *, /, ^')\n",
        "print('Usted puede asignar una variable o imprimir el valor de una almacenada en memoria')\n",
        "print('Para salir, escriba \"salir\" en la entrada\\n')\n",
        "while True:\n",
        "  ent = pedirEntrada()\n",
        "  if ent == 'salir': break\n",
        "  leerEntrada(ent)"
      ],
      "execution_count": 5,
      "outputs": [
        {
          "output_type": "stream",
          "text": [
            "Esta es una calculadora simple de operaciones entre números enteros\n",
            "Las operaciones permitidas son +, -, *, /, ^\n",
            "Usted puede asignar una variable o imprimir el valor de una almacenada en memoria\n",
            "Para salir, escriba \"salir\" en la entrada\n",
            "\n",
            "salir\n"
          ],
          "name": "stdout"
        }
      ]
    }
  ]
}