{
  "nbformat": 4,
  "nbformat_minor": 0,
  "metadata": {
    "colab": {
      "name": "Tarea 2.ipynb",
      "provenance": [],
      "authorship_tag": "ABX9TyNsWIqVRZtPP13stJziSJ1l",
      "include_colab_link": true
    },
    "kernelspec": {
      "name": "python3",
      "display_name": "Python 3"
    }
  },
  "cells": [
    {
      "cell_type": "markdown",
      "metadata": {
        "id": "view-in-github",
        "colab_type": "text"
      },
      "source": [
        "<a href=\"https://colab.research.google.com/github/DiegoRomanCortes/AED/blob/master/Tarea_2.ipynb\" target=\"_parent\"><img src=\"https://colab.research.google.com/assets/colab-badge.svg\" alt=\"Open In Colab\"/></a>"
      ]
    },
    {
      "cell_type": "markdown",
      "metadata": {
        "id": "DeQZowZ_bvA-",
        "colab_type": "text"
      },
      "source": [
        "[Enunciado](https://www.u-cursos.cl/ingenieria/2020/1/CC3001/1/tareas/r/1_CC3001-Tarea2-Diagrama_de_estados.pdf)"
      ]
    },
    {
      "cell_type": "code",
      "metadata": {
        "id": "iBAxoIuXbtVH",
        "colab_type": "code",
        "outputId": "01df2d41-900a-4440-9f92-c8f9a58b9e96",
        "colab": {
          "base_uri": "https://localhost:8080/",
          "height": 357
        }
      },
      "source": [
        "def leercomando():\n",
        "  comando = input()\n",
        "  return comando\n",
        "\n",
        "def procesar(comando, dic):\n",
        "  linea = ''\n",
        "  Estado = 'INICIO'\n",
        "  for char in comando:\n",
        "    if char == '=': #comando es asignacion\n",
        "      Estado = 'ASIGNACION'\n",
        "      asignar(comando, dic) #agrega variable al diccionario\n",
        "    linea += char\n",
        "  if linea in dic and Estado == 'INICIO': #comando es printeo\n",
        "      Estado = 'PRINTEO'\n",
        "      printear(linea, dic) #printea variable ya conocida\n",
        "  elif Estado == 'INICIO': #error de sintaxis\n",
        "    Estado = 'ERROR'\n",
        "    linea = 'ERROR: al procesar \"' + linea + '\"'\n",
        "    print(linea)\n",
        "\n",
        "def asignar(comando, dic): #expresiones del tipo: variable = a + 3 * b ^ 12\n",
        "  var = ''\n",
        "  valor = ''\n",
        "  Estado = 'Izquierda' #se lee de izquierda a derecha\n",
        "  for char in comando:\n",
        "    if Estado == 'Izquierda':\n",
        "      if esAlfa(char) or esInt(char) or char == '_':\n",
        "        var += char\n",
        "      elif char == '=': #separador entre izquierda y derecha\n",
        "        Estado = 'Derecha'\n",
        "    else: #por descarte está en Derecha\n",
        "      if esOp(char):\n",
        "        operar(valor)\n",
        "      valor += char\n",
        "  valor = int(valor)\n",
        "  dic[var] = valor\n",
        "\n",
        "def printear(str, dic):\n",
        "  print(dic[str])\n",
        "\n",
        "def operar(linea):\n",
        "  pass\n",
        "\n",
        "def esInt(char):\n",
        "  Enteros = ['0', '1', '2', '3', '4', '5', '6', '7', '8' ,'9']\n",
        "  b = char in Enteros\n",
        "  return b\n",
        "\n",
        "def esAlfa(char):\n",
        "  Letras = ['a','b','c','d','e','f','g',\\\n",
        "            'h','i','j','k','l','m','n',\\\n",
        "            'o','p','q','r','s','t','u',\\\n",
        "            'v','w','x','y','z',\\\n",
        "            'A', 'B', 'C', 'D', 'E', 'F',\\\n",
        "            'G', 'H', 'I', 'J', 'K', 'L', \\\n",
        "            'M', 'N', 'O', 'P', 'Q', 'R', \\\n",
        "            'S', 'T', 'U', 'V', 'W', 'X', \\\n",
        "            'Y', 'Z']\n",
        "  b = char in Letras\n",
        "  return b\n",
        "\n",
        "def esOp(char):\n",
        "  Operaciones = ['+','-','*','/','^']\n",
        "  b = char in Operaciones\n",
        "  return b\n",
        "\n",
        "dic = {'a':12}\n",
        "while True:\n",
        "  comando = leercomando()\n",
        "  procesar(comando, dic)"
      ],
      "execution_count": 46,
      "outputs": [
        {
          "output_type": "stream",
          "text": [
            "a=a+1\n"
          ],
          "name": "stdout"
        },
        {
          "output_type": "error",
          "ename": "ValueError",
          "evalue": "ignored",
          "traceback": [
            "\u001b[0;31m---------------------------------------------------------------------------\u001b[0m",
            "\u001b[0;31mValueError\u001b[0m                                Traceback (most recent call last)",
            "\u001b[0;32m<ipython-input-46-b09b3f037e4b>\u001b[0m in \u001b[0;36m<module>\u001b[0;34m()\u001b[0m\n\u001b[1;32m     62\u001b[0m \u001b[0;32mwhile\u001b[0m \u001b[0;32mTrue\u001b[0m\u001b[0;34m:\u001b[0m\u001b[0;34m\u001b[0m\u001b[0;34m\u001b[0m\u001b[0m\n\u001b[1;32m     63\u001b[0m   \u001b[0mcomando\u001b[0m \u001b[0;34m=\u001b[0m \u001b[0mleercomando\u001b[0m\u001b[0;34m(\u001b[0m\u001b[0;34m)\u001b[0m\u001b[0;34m\u001b[0m\u001b[0;34m\u001b[0m\u001b[0m\n\u001b[0;32m---> 64\u001b[0;31m   \u001b[0mprocesar\u001b[0m\u001b[0;34m(\u001b[0m\u001b[0mcomando\u001b[0m\u001b[0;34m,\u001b[0m \u001b[0mdic\u001b[0m\u001b[0;34m)\u001b[0m\u001b[0;34m\u001b[0m\u001b[0;34m\u001b[0m\u001b[0m\n\u001b[0m",
            "\u001b[0;32m<ipython-input-46-b09b3f037e4b>\u001b[0m in \u001b[0;36mprocesar\u001b[0;34m(comando, dic)\u001b[0m\n\u001b[1;32m      9\u001b[0m     \u001b[0;32mif\u001b[0m \u001b[0mchar\u001b[0m \u001b[0;34m==\u001b[0m \u001b[0;34m'='\u001b[0m\u001b[0;34m:\u001b[0m \u001b[0;31m#comando es asignacion\u001b[0m\u001b[0;34m\u001b[0m\u001b[0;34m\u001b[0m\u001b[0m\n\u001b[1;32m     10\u001b[0m       \u001b[0mEstado\u001b[0m \u001b[0;34m=\u001b[0m \u001b[0;34m'ASIGNACION'\u001b[0m\u001b[0;34m\u001b[0m\u001b[0;34m\u001b[0m\u001b[0m\n\u001b[0;32m---> 11\u001b[0;31m       \u001b[0masignar\u001b[0m\u001b[0;34m(\u001b[0m\u001b[0mcomando\u001b[0m\u001b[0;34m,\u001b[0m \u001b[0mdic\u001b[0m\u001b[0;34m)\u001b[0m \u001b[0;31m#agrega variable al diccionario\u001b[0m\u001b[0;34m\u001b[0m\u001b[0;34m\u001b[0m\u001b[0m\n\u001b[0m\u001b[1;32m     12\u001b[0m     \u001b[0mlinea\u001b[0m \u001b[0;34m+=\u001b[0m \u001b[0mchar\u001b[0m\u001b[0;34m\u001b[0m\u001b[0;34m\u001b[0m\u001b[0m\n\u001b[1;32m     13\u001b[0m   \u001b[0;32mif\u001b[0m \u001b[0mlinea\u001b[0m \u001b[0;32min\u001b[0m \u001b[0mdic\u001b[0m \u001b[0;32mand\u001b[0m \u001b[0mEstado\u001b[0m \u001b[0;34m==\u001b[0m \u001b[0;34m'INICIO'\u001b[0m\u001b[0;34m:\u001b[0m \u001b[0;31m#comando es printeo\u001b[0m\u001b[0;34m\u001b[0m\u001b[0;34m\u001b[0m\u001b[0m\n",
            "\u001b[0;32m<ipython-input-46-b09b3f037e4b>\u001b[0m in \u001b[0;36masignar\u001b[0;34m(comando, dic)\u001b[0m\n\u001b[1;32m     35\u001b[0m         \u001b[0moperar\u001b[0m\u001b[0;34m(\u001b[0m\u001b[0mvalor\u001b[0m\u001b[0;34m)\u001b[0m\u001b[0;34m\u001b[0m\u001b[0;34m\u001b[0m\u001b[0m\n\u001b[1;32m     36\u001b[0m       \u001b[0mvalor\u001b[0m \u001b[0;34m+=\u001b[0m \u001b[0mchar\u001b[0m\u001b[0;34m\u001b[0m\u001b[0;34m\u001b[0m\u001b[0m\n\u001b[0;32m---> 37\u001b[0;31m   \u001b[0mvalor\u001b[0m \u001b[0;34m=\u001b[0m \u001b[0mint\u001b[0m\u001b[0;34m(\u001b[0m\u001b[0mvalor\u001b[0m\u001b[0;34m)\u001b[0m\u001b[0;34m\u001b[0m\u001b[0;34m\u001b[0m\u001b[0m\n\u001b[0m\u001b[1;32m     38\u001b[0m   \u001b[0mdic\u001b[0m\u001b[0;34m[\u001b[0m\u001b[0mvar\u001b[0m\u001b[0;34m]\u001b[0m \u001b[0;34m=\u001b[0m \u001b[0mvalor\u001b[0m\u001b[0;34m\u001b[0m\u001b[0;34m\u001b[0m\u001b[0m\n\u001b[1;32m     39\u001b[0m \u001b[0;34m\u001b[0m\u001b[0m\n",
            "\u001b[0;31mValueError\u001b[0m: invalid literal for int() with base 10: 'a+1'"
          ]
        }
      ]
    }
  ]
}