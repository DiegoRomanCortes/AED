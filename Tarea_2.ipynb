{
  "nbformat": 4,
  "nbformat_minor": 0,
  "metadata": {
    "colab": {
      "name": "Tarea 2.ipynb",
      "provenance": [],
      "authorship_tag": "ABX9TyOvCog8mqtitL09KlV4s5rm",
      "include_colab_link": true
    },
    "kernelspec": {
      "name": "python3",
      "display_name": "Python 3"
    }
  },
  "cells": [
    {
      "cell_type": "markdown",
      "metadata": {
        "id": "view-in-github",
        "colab_type": "text"
      },
      "source": [
        "<a href=\"https://colab.research.google.com/github/DiegoRomanCortes/AED/blob/master/Tarea_2.ipynb\" target=\"_parent\"><img src=\"https://colab.research.google.com/assets/colab-badge.svg\" alt=\"Open In Colab\"/></a>"
      ]
    },
    {
      "cell_type": "markdown",
      "metadata": {
        "id": "DeQZowZ_bvA-",
        "colab_type": "text"
      },
      "source": [
        "[Enunciado](https://www.u-cursos.cl/ingenieria/2020/1/CC3001/1/tareas/r/1_CC3001-Tarea2-Diagrama_de_estados.pdf)"
      ]
    },
    {
      "cell_type": "code",
      "metadata": {
        "id": "iBAxoIuXbtVH",
        "colab_type": "code",
        "colab": {
          "base_uri": "https://localhost:8080/",
          "height": 51
        },
        "outputId": "3dc133db-d5ee-4f8d-af44-920855c1399e"
      },
      "source": [
        "dic = {}\n",
        "\n",
        "def leerlinea(str):\n",
        "  linea = ''\n",
        "  for char in str:\n",
        "    linea += char\n",
        "  return linea\n",
        "\n",
        "def asignar(str):\n",
        "  linea = leerlinea(str)\n",
        "  nombrevar = ''\n",
        "  valor = ''\n",
        "  i = 0\n",
        "  while i < len(linea):\n",
        "    if linea[i] == '=':\n",
        "      valor = '' \n",
        "      i += 1\n",
        "    elif linea[i] == '_' or esInt(linea[i]) or linea[i].isalpha():\n",
        "      nombrevar += linea[i]\n",
        "      i += 1\n",
        "    else:\n",
        "      valor += linea[i]\n",
        "      i += 1\n",
        "  valor = int(valor)\n",
        "  dic[nombrevar] = valor\n",
        "  return nombrevar\n",
        "\n",
        "def esInt(char):\n",
        "  b = char in [0, 1, 2, 3, 4, 5, 6, 7, 8 ,9]\n",
        "  return b\n",
        "\n",
        "def printear(str):\n",
        "  print(dic[str])\n",
        "\n",
        "while True:\n",
        "  print('Escriba un comando. Escriba salir para cerrar el programa')\n",
        "  a = input()\n",
        "  if a =='salir': break\n",
        "  b = asignar(a)\n",
        "  "
      ],
      "execution_count": 25,
      "outputs": [
        {
          "output_type": "stream",
          "text": [
            "Escriba un comando. Escriba salir para cerrar el programa\n",
            "salir\n"
          ],
          "name": "stdout"
        }
      ]
    }
  ]
}