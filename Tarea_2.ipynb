{
  "nbformat": 4,
  "nbformat_minor": 0,
  "metadata": {
    "colab": {
      "name": "Tarea 2.ipynb",
      "provenance": [],
      "authorship_tag": "ABX9TyP8PPX1ad0tswickTWDQb7z",
      "include_colab_link": true
    },
    "kernelspec": {
      "name": "python3",
      "display_name": "Python 3"
    }
  },
  "cells": [
    {
      "cell_type": "markdown",
      "metadata": {
        "id": "view-in-github",
        "colab_type": "text"
      },
      "source": [
        "<a href=\"https://colab.research.google.com/github/DiegoRomanCortes/AED/blob/master/Tarea_2.ipynb\" target=\"_parent\"><img src=\"https://colab.research.google.com/assets/colab-badge.svg\" alt=\"Open In Colab\"/></a>"
      ]
    },
    {
      "cell_type": "markdown",
      "metadata": {
        "id": "DeQZowZ_bvA-",
        "colab_type": "text"
      },
      "source": [
        "[Enunciado](https://www.u-cursos.cl/ingenieria/2020/1/CC3001/1/tareas/r/1_CC3001-Tarea2-Diagrama_de_estados.pdf)"
      ]
    },
    {
      "cell_type": "markdown",
      "metadata": {
        "id": "SdmtyqEobnTN",
        "colab_type": "text"
      },
      "source": [
        "#Introducción\n",
        "Este notebook tiene el objetivo de ilustrar el uso de diagramas de estado en la programación de una calculador simple tipo Maple o Matlab. Las condiciones son restrictivas, lo que facilita la implementación del mismo. Hay dos comandos, o bien asignar en la memoria una variable (incluyendo operaciones matemáticas) o bien imprimir una variable ya registrada en pantalla. Las operaciones permitidas son $+$, $-$, $*$, $/$ y ^. Sólo se operarán números enteros (la división por lo mismo será entera). Las variables pueden partir con una letra e ir seguidas por letras, números o '_'. Además, no habrá paréntesis, por lo que se evalurán las expresiones de izquierda a derecha (a partir del $=$)."
      ]
    },
    {
      "cell_type": "markdown",
      "metadata": {
        "id": "_MfQ8q3Wfi7-",
        "colab_type": "text"
      },
      "source": [
        "#Diagramas de Estado"
      ]
    },
    {
      "cell_type": "markdown",
      "metadata": {
        "id": "cJKOcWCrfVCI",
        "colab_type": "text"
      },
      "source": [
        "El diagrama de estado más simple es el que se dibuja a nivel macro. Existen dos estado que ve el usuario: In (que es cuando se le pide ingresar un comando) y Out (el resultado del comando que ha sido escrito). En el enunciado no se pide que este ciclo tenga término, por lo que se puede realizar un bucle infinito usando \n",
        "\n",
        "```\n",
        "while True:\n",
        "  In\n",
        "  Out\n",
        "```\n",
        "\n",
        "\n",
        "\n",
        "![Entrada y Salida](https://github.com/DiegoRomanCortes/AED/blob/master/Entrada-Salida.png?raw=true)"
      ]
    },
    {
      "cell_type": "markdown",
      "metadata": {
        "id": "lMt-gCPxdvWR",
        "colab_type": "text"
      },
      "source": [
        "Todo el aparataje está contenido en el estado In, pues Out sólo imprime en pantalla lo procesado por In. Así, el lector comienza a leer el String proporcionado por el usuario. El primer caracter puede ser el inicio de una variable, el inicio de un numero, un espacio u otro caracter (error de sintaxis no expreso en el diagrama). Como el comando tipo es del tipo \n",
        "```\n",
        "variable = expresion\n",
        "``` \n",
        "y si se omite el '=' se entiende que se quiere imprimir en pantalla la variable, se necesita que el primer Estado no Espacio al que ingrese el lector sea Variable, de lo contrario será un error de sintaxis (no expreso en el diagrama).\n",
        "\n",
        "Acto seguido, el lector debe asegurarse que el siguiente Estado no Espacio sea una Operacion (en concreto, el caracter debe ser '='). Tanto si el comando era de asignación como si era de impresión, cualquier otro Estado debe proporionar un error de sintaxis.\n",
        "\n",
        "Se almacena la variable por definir como\n",
        "```\n",
        "variablepd\n",
        "```\n",
        "si el comando es de asignación. Si el comando es de impresión en pantalla de una variable ya definida, se lee como si fuera una variable más (explicado con mayor detalle posteriormente). Otros casos están contemplados en el error de sintaxis.\n",
        "\n",
        "A nivel general, el programa funciona almacenando la parte derecha de la igualdad en una variable llamada\n",
        "\n",
        "\n",
        "```\n",
        "expresion\n",
        "```\n",
        "la cual es asignada al haber llegado a un Estado Espacio o a un Estado Operacion (operación incluye las operaciones anteriormente detalladas y '=') y al tener en memoria otra variable llamada \n",
        "\n",
        "```\n",
        "aux\n",
        "```\n",
        "que simboliza el lado derecho de una operación.\n",
        "\n",
        "El lector termina cuando detecta el último Estado Espacio (el programa se asegura de esto concatenando un espacio al String original) y hace la asignación descrita en el párrafo anterior.\n",
        "\n",
        "Finalmente, se añade al diccionario \n",
        "\n",
        "```\n",
        "dic\n",
        "```\n",
        "la variable por definir de la forma:\n",
        "\n",
        "```\n",
        "dic[variablepd] = expresion\n",
        "```\n",
        "Si el comando era de impresión, simplemente se ignora el cálculo de \n",
        "\n",
        "```\n",
        "expresion\n",
        "```\n",
        "y se imprime el valor que ya tenía asignada la variable (que si está mal escrita arroja un error de sintaxis incorporado en el lector).\n",
        "\n",
        "\n",
        "\n",
        "![Lector](https://github.com/DiegoRomanCortes/AED/blob/master/Lector%20(2).png?raw=true)\n",
        "\n",
        "El comportamiento del programa cuando entra al Estado Variable es el siguiente:\n",
        "![Estado Variable](https://github.com/DiegoRomanCortes/AED/blob/master/Variable.png?raw=true)"
      ]
    },
    {
      "cell_type": "markdown",
      "metadata": {
        "id": "yzRzr2Z2phLD",
        "colab_type": "text"
      },
      "source": [
        "Como se aprecia en el diagrama, se parte desde Inicio (se llega hasta aquí si el caracter es una letra). No se sale del Estado Variable mientras el caracter no deje de ser un caracter permitido para la escritura de variables (una letra, un número o un guión bajo). Cualquier caracter distinto arrojará un error de sintaxis. Se sale del Estado Variable si el caracter es un espacio (entrado en el Estado Espacio) o si es una operacion (entrando en el Estado Operacion cuya flecha no aparece en el diagrama). Si \n",
        "\n",
        "```\n",
        "variable\n",
        "```\n",
        "está en memoria, se reemplaza su valor y se añade a \n",
        "\n",
        "```\n",
        "expresion\n",
        "```\n",
        "o a\n",
        "\n",
        "```\n",
        "aux\n",
        "```\n",
        "\n",
        "\n",
        "dependiendo de \n",
        "\n",
        "```\n",
        "operacion\n",
        "```\n",
        "Si no está en memoria, existen dos casos: O es una variable por definir (es decir, se está en el lado izquierdo de la igualdad), o es un error de variable indefinda (si se está en el lado derecho).\n",
        "\n",
        "Para el estado Numero, el proceso es análogo a excepción de que no se arroja el error de variable indefinida ni se guarda en memoria una variable. Esto es, al salir del Estado Número, se reemplaza su valor y se añade dependiendo de la operación.\n",
        "\n",
        "Cuando hay Error de Sintaxis se activa un booleano que inicia la lectura del error desde donde fue activado.\n",
        "\n",
        "El Error de Variable Indefinida detiene de inmediato la ejecución del ciclo e imprime la variable que no se encuentra en memoria.\n",
        "\n"
      ]
    },
    {
      "cell_type": "code",
      "metadata": {
        "id": "68I537FKQrwo",
        "colab_type": "code",
        "outputId": "6bf1102a-7de2-49bb-bbe6-5f6082fe065c",
        "colab": {
          "base_uri": "https://localhost:8080/",
          "height": 51
        }
      },
      "source": [
        "dic = {}\n",
        "\n",
        "Enteros = ['0', '1', '2', '3', '4', '5', '6', '7', '8' ,'9']\n",
        "\n",
        "Letras = ['a','b','c','d','e','f','g',\\\n",
        "          'h','i','j','k','l','m','n',\\\n",
        "          'o','p','q','r','s','t','u',\\\n",
        "          'v','w','x','y','z',\\\n",
        "          'A', 'B', 'C', 'D', 'E', 'F',\\\n",
        "          'G', 'H', 'I', 'J', 'K', 'L', \\\n",
        "          'M', 'N', 'O', 'P', 'Q', 'R', \\\n",
        "          'S', 'T', 'U', 'V', 'W', 'X', \\\n",
        "          'Y', 'Z']\n",
        "\n",
        "Operaciones = ['+','-','*','/','^','=']\n",
        "\n",
        "Caracteres = Enteros + Letras + ['_']\n",
        "\n",
        "def pedirEntrada():\n",
        "  Entrada = input()\n",
        "  return Entrada\n",
        "\n",
        "def leerEntrada(Entrada):\n",
        "  Entrada += ' '\n",
        "  variablepd = '' #variable por definir\n",
        "  variable = ''\n",
        "  numero = ''\n",
        "  operacion = ''\n",
        "  expresion = '' #todo hasta la izquierda de un operador\n",
        "  aux = '' #guarda el valor a la derecha de una operacion\n",
        "\n",
        "  hayError = False\n",
        "  hayIgual = False\n",
        "  error = ''\n",
        "\n",
        "  for char in Entrada:\n",
        "    if char in Letras and variable == '' and numero == '': #Es el comienzo de una variable\n",
        "      variable += char\n",
        "    elif char in Caracteres and variable != '': #sigue recorriendo una variable\n",
        "      variable += char\n",
        "    elif (char in Operaciones or char == ' ') and (variable != '' or numero != '' or expresion != ''): #termino de recorrer una variable o numero:     \n",
        "      if char == '=' and operacion == '' and variablepd == '': #comando de asignacion\n",
        "        variablepd = variable\n",
        "        variable = '' #ahora se puede leer otra eventual variable\n",
        "        operacion = '=' #si sale de nuevo un = será error definido mas adelante\n",
        "        hayIgual = True\n",
        "      elif char != '=' and variable in dic and variablepd != '': #operar una variable ya definida\n",
        "        aux = dic[variable]\n",
        "        variable = ''\n",
        "      elif numero != '': #acaba de terminar de leer un numero\n",
        "        aux = int(numero)\n",
        "        numero = ''\n",
        "      elif char == '=' and variable in dic:\n",
        "        hayError = True\n",
        "      elif char != '=' and variable not in dic and variable != '' and variablepd != '':\n",
        "        print('ERROR: Variable indefinida \"', variable, '\"', sep = '')\n",
        "        break #Error de variable indefinida\n",
        "      elif char == '=' and operacion != '':\n",
        "        hayError = True\n",
        "      if operacion != '' and (aux != '') and hayIgual: \n",
        "        if operacion == '=':\n",
        "          expresion = aux\n",
        "          aux = ''\n",
        "        elif operacion == '+':\n",
        "          expresion = expresion + aux\n",
        "        elif operacion == '-':\n",
        "          expresion = expresion - aux\n",
        "        elif operacion  == '*':\n",
        "          expresion = expresion * aux\n",
        "        elif operacion == '/':\n",
        "          expresion = expresion//aux\n",
        "        elif operacion == '^':\n",
        "          expresion = expresion**aux\n",
        "        operacion = ''\n",
        "        aux = ''\n",
        "      if char in Operaciones:\n",
        "        if not hayIgual:\n",
        "          hayError=True\n",
        "        operacion = char #es necesario guardar las operaciones anteriores para despues operaralas\n",
        "    elif char in Enteros and variable == '': #recorriendo un numero, no una variable\n",
        "      numero += char\n",
        "    elif char == ' ':\n",
        "      pass\n",
        "    else:\n",
        "      hayError = True\n",
        "    if hayError:\n",
        "      error += char\n",
        "  if hayError:\n",
        "    print('ERROR: al procesar \"', error, '\"', sep='')\n",
        "    return\n",
        "  else:\n",
        "    if not hayIgual: #entonces no hubo = en todo el comando y se interpreta como printeo\n",
        "      if variable not in dic:\n",
        "          print('ERROR: variable indefinida \"', variable, '\"', sep = '')\n",
        "      else:\n",
        "          expresion = dic[variable]\n",
        "    else:\n",
        "      dic[variablepd] = expresion\n",
        "  print(expresion)\n",
        "\n",
        "leerEntrada('a = 4')\n",
        "leerEntrada('a')"
      ],
      "execution_count": 26,
      "outputs": [
        {
          "output_type": "stream",
          "text": [
            "4\n",
            "4\n"
          ],
          "name": "stdout"
        }
      ]
    }
  ]
}