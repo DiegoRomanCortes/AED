{
  "nbformat": 4,
  "nbformat_minor": 0,
  "metadata": {
    "colab": {
      "name": "Auxiliar 1 prim.ipynb",
      "provenance": [],
      "authorship_tag": "ABX9TyNs/V+W0OvqLXL9PXO6Gx1g",
      "include_colab_link": true
    },
    "kernelspec": {
      "name": "python3",
      "display_name": "Python 3"
    }
  },
  "cells": [
    {
      "cell_type": "markdown",
      "metadata": {
        "id": "view-in-github",
        "colab_type": "text"
      },
      "source": [
        "<a href=\"https://colab.research.google.com/github/DiegoRomanCortes/AED/blob/master/Auxiliar_1_prim.ipynb\" target=\"_parent\"><img src=\"https://colab.research.google.com/assets/colab-badge.svg\" alt=\"Open In Colab\"/></a>"
      ]
    },
    {
      "cell_type": "markdown",
      "metadata": {
        "id": "z5yuEbOdGk0h",
        "colab_type": "text"
      },
      "source": [
        "#Pregunta 2\n",
        "En esta pregunta resolveremos varios ejercicios cortos y con dificultad relativamente sencilla\n",
        "que nos muestran cómo trabajar con los arreglos de NumPy.\n",
        "1. Crear un arreglo de enteros de tamaño 11, que sólo contenga ceros. Modificar el primer y el\n",
        "último ítem del arreglo para que contengan ambos un 5.\n",
        "2. Crear una matriz de 3x3 que contenga los números del 5 al 13 e imprimirla.\n",
        "3. Crear una matriz de 5x5 con ceros. Convertir todos los ceros en 2s e imprimir la matriz.\n",
        "4. Crear un arreglo que contenga los números enteros del 32 al 67. Imprimir el arreglo y sus\n",
        "dimensiones. Luego invertirlo utilizando una matriz con unos enteros como matriz auxiliar\n",
        "y volver a imprimirlo. Imprimir también sus dimensiones. Finalmente, convertir el arreglo en\n",
        "una matriz de 6x6 e imprimirla. Imprimir las dimensiones de la matriz.\n",
        "5. Crear un arreglo de Strings de tamaño 5 que soporte cadenas de letras de tamaño máximo 20. Rellenar el primer y el último elemento con cualquier palabra de máximo ese tamaño e\n",
        "imprimir el arreglo.\n",
        "6. Crear un arreglo de 15 decimales y llenarlos de tal forma que el primer elemento contenga\n",
        "un 3.30 y cada elemento siguiente sea mayor que el anterior en 0.3."
      ]
    },
    {
      "cell_type": "code",
      "metadata": {
        "id": "CkRvlO67HcaD",
        "colab_type": "code",
        "colab": {}
      },
      "source": [
        "import numpy as np"
      ],
      "execution_count": 0,
      "outputs": []
    },
    {
      "cell_type": "code",
      "metadata": {
        "id": "hPMnP-TuHgPk",
        "colab_type": "code",
        "colab": {
          "base_uri": "https://localhost:8080/",
          "height": 34
        },
        "outputId": "ade68b6c-a42e-4cf8-e111-d744ed4852d5"
      },
      "source": [
        "a = np.zeros(11)\n",
        "a[0] = 5\n",
        "a[-1] = 5\n",
        "print(a)"
      ],
      "execution_count": 2,
      "outputs": [
        {
          "output_type": "stream",
          "text": [
            "[5. 0. 0. 0. 0. 0. 0. 0. 0. 0. 5.]\n"
          ],
          "name": "stdout"
        }
      ]
    },
    {
      "cell_type": "code",
      "metadata": {
        "id": "4uB4i_hoHr06",
        "colab_type": "code",
        "colab": {
          "base_uri": "https://localhost:8080/",
          "height": 70
        },
        "outputId": "ebea517f-2da9-45e3-a977-6b1864bbca1c"
      },
      "source": [
        "b = np.arange(5,14).reshape(3,3)\n",
        "print(b)"
      ],
      "execution_count": 6,
      "outputs": [
        {
          "output_type": "stream",
          "text": [
            "[[ 5  6  7]\n",
            " [ 8  9 10]\n",
            " [11 12 13]]\n"
          ],
          "name": "stdout"
        }
      ]
    },
    {
      "cell_type": "code",
      "metadata": {
        "id": "frBxwuHgH6mJ",
        "colab_type": "code",
        "colab": {
          "base_uri": "https://localhost:8080/",
          "height": 70
        },
        "outputId": "d953d665-25b6-404f-fc62-7abc639b519e"
      },
      "source": [
        "c = np.zeros((3,3))\n",
        "c[c==0]=2\n",
        "print(c)"
      ],
      "execution_count": 7,
      "outputs": [
        {
          "output_type": "stream",
          "text": [
            "[[2. 2. 2.]\n",
            " [2. 2. 2.]\n",
            " [2. 2. 2.]]\n"
          ],
          "name": "stdout"
        }
      ]
    },
    {
      "cell_type": "code",
      "metadata": {
        "id": "vyh3WlNKIfAz",
        "colab_type": "code",
        "colab": {
          "base_uri": "https://localhost:8080/",
          "height": 194
        },
        "outputId": "b0104b4b-b291-406e-8e4b-d332c75ff1e1"
      },
      "source": [
        "d = np.arange(32,68)\n",
        "print(d, d.shape)\n",
        "\n",
        "aux = np.zeros((len(d),len(d)), dtype = int)\n",
        "i = 0\n",
        "j = 0\n",
        "\n",
        "while i < len(aux):\n",
        "  while j < len(aux[0]):\n",
        "    if i + j == len(aux) - 1:\n",
        "      aux[i][j] = 1\n",
        "    j += 1\n",
        "  j = 0  \n",
        "  i += 1\n",
        "\n",
        "d = d @ aux\n",
        "print(d, d.shape)\n",
        "\n",
        "d = d.reshape(6,6)\n",
        "print(d)"
      ],
      "execution_count": 34,
      "outputs": [
        {
          "output_type": "stream",
          "text": [
            "[32 33 34 35 36 37 38 39 40 41 42 43 44 45 46 47 48 49 50 51 52 53 54 55\n",
            " 56 57 58 59 60 61 62 63 64 65 66 67] (36,)\n",
            "[67 66 65 64 63 62 61 60 59 58 57 56 55 54 53 52 51 50 49 48 47 46 45 44\n",
            " 43 42 41 40 39 38 37 36 35 34 33 32] (36,)\n",
            "[[67 66 65 64 63 62]\n",
            " [61 60 59 58 57 56]\n",
            " [55 54 53 52 51 50]\n",
            " [49 48 47 46 45 44]\n",
            " [43 42 41 40 39 38]\n",
            " [37 36 35 34 33 32]]\n"
          ],
          "name": "stdout"
        }
      ]
    },
    {
      "cell_type": "code",
      "metadata": {
        "id": "76sBSIAOQRuY",
        "colab_type": "code",
        "colab": {
          "base_uri": "https://localhost:8080/",
          "height": 52
        },
        "outputId": "7aedbd6f-89ee-4354-cdc6-97099a1fb75b"
      },
      "source": [
        "array_e = np.empty(5, dtype='U20')\n",
        "array_e[0] = \"Hola amig@\"\n",
        "array_e[4] = \"Adiós amig@\"\n",
        "print(array_e, \"\\n\")"
      ],
      "execution_count": 39,
      "outputs": [
        {
          "output_type": "stream",
          "text": [
            "['Hola amig@' '' '' '' 'Adiós amig@'] \n",
            "\n"
          ],
          "name": "stdout"
        }
      ]
    },
    {
      "cell_type": "markdown",
      "metadata": {
        "id": "488anpYrG7QL",
        "colab_type": "text"
      },
      "source": [
        "#Pregunta 3\n",
        "En esta pregunta recordaremos lo que es la recursión, contenido que se vio en el curso de Introducción a la Programación. Imprimiremos todos los cursos que son requisitos para poder tomar\n",
        "Mecánica, curso que es de tercer semestre.\n",
        "\n",
        "Primero, modelaremos la clase Curso. Un curso debe tener un String con su nombre, un String\n",
        "con su código de curso, un entero con su cantidad de UDs, un entero con el semestre al que\n",
        "corresponde y un arreglo que contenga los cursos que son requisitos para poder cursarlo. El único método que dicha clase debe tener es uno que imprima toda la información del curso en pantalla.\n",
        "Luego crearemos instancias de los cursos con los ramos que son necesarios para cursar FI2001\n",
        "Mecánica. \n",
        "\n",
        "Los requisitos de Mecánica son:\n",
        "* FI1002 Sistemas Newtonianos\n",
        "* MA1002 Cálculo Diferencial e Integral\n",
        "* MA1102 Álgebra Lineal\n",
        "\n",
        "Para poder cursar Sistemas Newtonianos se requiere haber cursado:\n",
        "* CC1001 Herramientas Computacionales\n",
        "* FI1001 Introducción a la Física.\n",
        "\n",
        "Para poder cursar Álgebra Lineal y Cálculo Diferencial e Integral es necesario haber cursado:\n",
        "* MA1001 Introducción al Cálculo y\n",
        "* MA1101 Introducción al Álgebra.\n",
        "\n",
        "Una vez creadas todas las instancias, imprimiremos los cursos que son requisitos para haber\n",
        "cursado Mecánica de forma recursiva, utilizando el método que creamos para ello. Asumiremos que\n",
        "los requisitos simultáneos son requisitos estrictos y no nos importará imprimir más de una vez un\n",
        "curso."
      ]
    },
    {
      "cell_type": "code",
      "metadata": {
        "id": "wRSgOSDoQgMF",
        "colab_type": "code",
        "colab": {
          "base_uri": "https://localhost:8080/",
          "height": 1000
        },
        "outputId": "a0676c7e-93ed-4baa-b931-bfec7bea98e4"
      },
      "source": [
        "class Curso:\n",
        "  def __init__(self, nombre, codigo, SCTs, semestre, requisitos):\n",
        "    self.nombre = nombre\n",
        "    self.codigo = codigo\n",
        "    self.SCTs = SCTs\n",
        "    self.semestre = semestre\n",
        "    self.requisitos = requisitos\n",
        "\n",
        "  def mostrarInfo(self):\n",
        "    print(\"Nombre: \", self.nombre)\n",
        "    print(\"Código: \", self.codigo)\n",
        "    print(\"Créditos: \", self.SCTs)\n",
        "    print(\"Semestre: \", self.semestre, \"\\n\")\n",
        "\n",
        "  def mostrarRequisitos(self, req = []):\n",
        "    if self.requisitos == None:\n",
        "      return None\n",
        "    else:\n",
        "      for curso in self.requisitos:\n",
        "        if curso not in req:\n",
        "          req.append(curso)\n",
        "          curso.mostrarInfo()\n",
        "        curso.mostrarRequisitos(req)\n",
        "\n",
        "calc = Curso(\"Introducción al Cálculo\", \"MA1001\", 6, 1, None)\n",
        "alg = Curso(\"Introducción al Álgebra\", \"MA1101\", 6, 1, None)\n",
        "herr = Curso(\"Herramientas Computacionales\", \"CC1000\", 6, 1, None)\n",
        "fis = Curso(\"Introducción a la Física Newtoniana\", \"FI1001\", 6, 1, None)\n",
        "ingI = Curso(\"Introducción a la Ingeniería I\", \"EI1101\", 6, 1, None)\n",
        "quim = Curso(\"Química\", \"CM1001\", 6, 1, None)\n",
        "\n",
        "lineal = Curso(\"Álgebra Lineal\", \"MA1102\", 6, 2, [calc, alg])\n",
        "diff = Curso(\"Cálculo Diferencial e Integral\",\"MA1002\",  6, 2, [calc, alg])\n",
        "sist = Curso(\"Sistemas Newtonianos\", \"FI1002\", 6, 2, [herr, fis])\n",
        "progr = Curso(\"Introducción a la Programación\", \"CC1002\", 6, 2, None)\n",
        "ingII = Curso(\"Introducción a la Ingienería II\",\"EI1102\", 6, 2, [ingI])\n",
        "\n",
        "meca = Curso(\"Mecánica\", \"FI2001\", 6, 3, [sist, diff, lineal])\n",
        "cvv = Curso(\"Cálculo en Varias Variables\", \"MA2001\",6, 3, [lineal, diff])\n",
        "edo = Curso(\"Ecuaciones Diferenciales Ordinarias\", \"MA2601\", 6, 3, [diff, lineal])\n",
        "taller = Curso(\"Taller de Proyecto\", \"EI2001\", 3, 3, [cvv])\n",
        "\n",
        "caa = Curso(\"Cálculo Avanzado y Aplicaciones\", \"MA2002\", 6,4,[cvv, edo])\n",
        "electro = Curso(\"Electromagnetismo\", \"FI2002\", 6, 4, [meca, edo, cvv])\n",
        "metexp = Curso(\"Métodos Experimentales\", \"FI2003\", 6, 4, [ingII, quim, meca, cvv, edo])\n",
        "termo = Curso(\"Termodinámica\", \"FI2004\", 6, 4, [quim, cvv, meca])\n",
        "\n",
        "vibra = Curso(\"Vibraciones y Ondas\", \"FI3001\", 6, 5, [meca, caa])\n",
        "mmf = Curso(\"Métodos Matemáticos para la Física\", \"FI3002\", 6, 5, [cvv, electro])\n",
        "fisexpI = Curso(\"Física Experimental I\", \"FI3003\", 6, 5, [electro, metexp])\n",
        "probayesta = Curso(\"Probabilidades y Estadística\", \"MA3403\", 6, 5, [cvv])\n",
        "\n",
        "meclas = Curso(\"Mecánica Clásica\", \"FI3101\", 6, 6, [vibra])\n",
        "fismod = Curso(\"Física Moderna\", \"FI3102\", 6, 6, [vibra, electro])\n",
        "metnum = Curso(\"Métodos Numéricos para la Ciencia e Ingenieria\", \"FI3104\", 6, 6, [caa, termo])\n",
        "fisexpII = Curso(\"Física Experimental II\",\"FI4003\", 6, 6, [fisexpI])\n",
        "\n",
        "elecdin = Curso(\"Electrodinámica\", \"FI4004\", 9, 7, [electro, mmf])\n",
        "mecuant = Curso(\"Mecánica Cuántica\", \"FI4001\", 9, 7, [fismod, mmf])\n",
        "\n",
        "mecest = Curso(\"Mecánica Estadística\", \"FI4104\", 9, 8, [meclas, probayesta, fismod, termo])\n",
        "introfissol = Curso(\"Introduciión a la Física del Sólido\", \"FI4101\", 6, 8, [mecuant, termo])\n",
        "\n",
        "introfissol.mostrarRequisitos()"
      ],
      "execution_count": 77,
      "outputs": [
        {
          "output_type": "stream",
          "text": [
            "Nombre:  Mecánica Cuántica\n",
            "Código:  FI4001\n",
            "Créditos:  9\n",
            "Semestre:  7 \n",
            "\n",
            "Nombre:  Física Moderna\n",
            "Código:  FI3102\n",
            "Créditos:  6\n",
            "Semestre:  6 \n",
            "\n",
            "Nombre:  Vibraciones y Ondas\n",
            "Código:  FI3001\n",
            "Créditos:  6\n",
            "Semestre:  5 \n",
            "\n",
            "Nombre:  Mecánica\n",
            "Código:  FI2001\n",
            "Créditos:  6\n",
            "Semestre:  3 \n",
            "\n",
            "Nombre:  Sistemas Newtonianos\n",
            "Código:  FI1002\n",
            "Créditos:  6\n",
            "Semestre:  2 \n",
            "\n",
            "Nombre:  Herramientas Computacionales\n",
            "Código:  CC1000\n",
            "Créditos:  6\n",
            "Semestre:  1 \n",
            "\n",
            "Nombre:  Introducción a la Física Newtoniana\n",
            "Código:  FI1001\n",
            "Créditos:  6\n",
            "Semestre:  1 \n",
            "\n",
            "Nombre:  Cálculo Diferencial e Integral\n",
            "Código:  MA1002\n",
            "Créditos:  6\n",
            "Semestre:  2 \n",
            "\n",
            "Nombre:  Introducción al Cálculo\n",
            "Código:  MA1001\n",
            "Créditos:  6\n",
            "Semestre:  1 \n",
            "\n",
            "Nombre:  Introducción al Álgebra\n",
            "Código:  MA1101\n",
            "Créditos:  6\n",
            "Semestre:  1 \n",
            "\n",
            "Nombre:  Álgebra Lineal\n",
            "Código:  MA1102\n",
            "Créditos:  6\n",
            "Semestre:  2 \n",
            "\n",
            "Nombre:  Cálculo Avanzado y Aplicaciones\n",
            "Código:  MA2002\n",
            "Créditos:  6\n",
            "Semestre:  4 \n",
            "\n",
            "Nombre:  Cálculo en Varias Variables\n",
            "Código:  MA2001\n",
            "Créditos:  6\n",
            "Semestre:  3 \n",
            "\n",
            "Nombre:  Ecuaciones Diferenciales Ordinarias\n",
            "Código:  MA2601\n",
            "Créditos:  6\n",
            "Semestre:  3 \n",
            "\n",
            "Nombre:  Electromagnetismo\n",
            "Código:  FI2002\n",
            "Créditos:  6\n",
            "Semestre:  4 \n",
            "\n",
            "Nombre:  Métodos Matemáticos para la Física\n",
            "Código:  FI3002\n",
            "Créditos:  6\n",
            "Semestre:  5 \n",
            "\n",
            "Nombre:  Termodinámica\n",
            "Código:  FI2004\n",
            "Créditos:  6\n",
            "Semestre:  4 \n",
            "\n",
            "Nombre:  Química\n",
            "Código:  CM1001\n",
            "Créditos:  6\n",
            "Semestre:  1 \n",
            "\n"
          ],
          "name": "stdout"
        }
      ]
    }
  ]
}