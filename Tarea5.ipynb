{
  "nbformat": 4,
  "nbformat_minor": 0,
  "metadata": {
    "kernelspec": {
      "display_name": "Python 3",
      "language": "python",
      "name": "python3"
    },
    "language_info": {
      "codemirror_mode": {
        "name": "ipython",
        "version": 3
      },
      "file_extension": ".py",
      "mimetype": "text/x-python",
      "name": "python",
      "nbconvert_exporter": "python",
      "pygments_lexer": "ipython3",
      "version": "3.7.1"
    },
    "colab": {
      "name": "Copy of Tarea5.ipynb",
      "provenance": [],
      "include_colab_link": true
    }
  },
  "cells": [
    {
      "cell_type": "markdown",
      "metadata": {
        "id": "view-in-github",
        "colab_type": "text"
      },
      "source": [
        "<a href=\"https://colab.research.google.com/github/DiegoRomanCortes/AED/blob/pr%2F1/Tarea5.ipynb\" target=\"_parent\"><img src=\"https://colab.research.google.com/assets/colab-badge.svg\" alt=\"Open In Colab\"/></a>"
      ]
    },
    {
      "cell_type": "markdown",
      "metadata": {
        "id": "qR6cOXGX_I6Y",
        "colab_type": "text"
      },
      "source": [
        "# CC3001 Otoño 2020 Tarea 5\n",
        "# Simulación con Colas y Colas de Prioridad\n",
        "\n",
        "Nombre: Diego Román\n",
        "\n",
        "Profesores: Sección 1 Patricio Poblete / Sección 2 Nelson Baloian\n",
        "\n",
        "Plazo: Lunes 22 de junio de 2020 a las 23:59"
      ]
    },
    {
      "cell_type": "markdown",
      "metadata": {
        "id": "cEaguEDP_I6h",
        "colab_type": "text"
      },
      "source": [
        "El objetivo de esta tarea es aprender a escribir programas de simulación sencillos, haciendo uso de colas y de colas de prioridad.\n",
        "\n",
        "En primer lugar, consideremos una caja a la que van llegando clientes en instantes aleatorios, separados por intervalos de tamaño promedio $t_a$. Cada cliente que llega se pone al final de la cola, espera su turno, y cuando llega a la cabeza de la cola lo empiezan a atender. La atención dura también un tiempo aleatorio de tamaño promedio $t_s$. Cuando completa su atención, sale del sistema, y en la caja se empieza a atender al siguiente cliente de la cola, en caso de que haya alguien.\n",
        "\n",
        "![colaT5](https://github.com/ppoblete/Tareas-CC3001-2020-1/blob/master/colaT5.png?raw=1)\n",
        "\n",
        "Los tiempos entre llegadas y el tiempo de atención se modelan con distribuciones exponenciales, lo cual es la suposición usual en este tipo de simulaciones.\n",
        "\n",
        "A continuación veremos un programa que simula este proceso para un número dado de clientes y calcula el largo promedio de la cola y la demora total promedio de los clientes.\n",
        "\n",
        "El programa lleva un reloj simulado, que comienza en cero y va  avanzando monótonamente, al siguiente instante en que un cliente llega al sistema o al siguiente instante en que un cliente sale del sistema, lo que sea que ocurra primero.\n",
        "\n",
        "Como hay solo dos tipos posible de eventos de interés, tendremos una variable para cada uno de ellos (``evento_llegada`` y ``evento_salida``), que almacenan los respectivos tiempos. Si en este momento no hay nadie que deba salir del sistema, ``evento_salida`` es ``None``, lo cual ocurre cada vez que la cola de espera queda vacía. En cambio, ``evento_llegada`` solo es ``None``cuando ya han llegado todos los clientes que debían llegar.\n",
        "\n",
        "Nótese que no es necesario tener generados los tiempos de todas las llegadas futuras, basta con tener el tiempo de la próxima llegada, y cuando ella se cumple se genera la siguiente.\n",
        "\n",
        "En cada elemento que está en la cola de espera anotamos solo la hora a la que llegó ese cliente, que es lo único que necesitamos saber para poder calcular, en el momento en que sale, cuánto tiempo demoró en el sistema.\n",
        "\n",
        "Estudie con atención este programa y la bitácora que él genera."
      ]
    },
    {
      "cell_type": "code",
      "metadata": {
        "id": "pQdaEcML_I6i",
        "colab_type": "code",
        "colab": {}
      },
      "source": [
        "import numpy as np\n",
        "class Cola:\n",
        "    def __init__(self):\n",
        "        self.q=[]\n",
        "    def enq(self,x):\n",
        "        self.q.insert(0,x)\n",
        "    def deq(self):\n",
        "        assert len(self.q)>0\n",
        "        return self.q.pop()\n",
        "    def is_empty(self):\n",
        "        return len(self.q)==0\n",
        "    def size(self):\n",
        "        return len(self.q)\n",
        "\n",
        "def print_list(L):\n",
        "    for x in L:\n",
        "        print(x)\n",
        "\n",
        "def simula(maxclientes,ta,ts,debug=False):\n",
        "    # simula el paso de maxclientes clientes por el sistema,\n",
        "    # ta = tiempo promedio entre llegadas (arrivals)\n",
        "    # ts = tiempo promedio de servicio\n",
        "    # maxclientes = número maximo de clientes para la simulacion\n",
        "    # debug = True => genera bitácora y usa secuencia aleatoria reproducible\n",
        "    # retorna (largo promedio de la cola, tiempo promedio en el sistema)\n",
        "\n",
        "    if debug:\n",
        "        np.random.seed(1234)\n",
        "    ahora=0 # tiempo simulado\n",
        "    nclientes=0 # número de clientes que han llegado\n",
        "    c=Cola()\n",
        "    evento_llegada=np.random.exponential(ta)\n",
        "    evento_salida=None\n",
        "    acum_largo_cola=0 # acumula largo de la cola para sacar promedio al final\n",
        "    acum_tiempo_en_sistema=0 # acumula tiempos en el sistema para sacar promedio al final\n",
        "    bitacora=[] # En caso que se pida debug\n",
        "    \n",
        "    while evento_llegada is not None or evento_salida is not None:\n",
        "        # Ver si el próximo evento que toca que ocurra es la llegada o la salida de un cliente\n",
        "        if (evento_salida is None) or (evento_llegada is not None and (evento_llegada<=evento_salida)):\n",
        "            # Llega un cliente, avanzamos el tiempo simulado a la hora en que llega\n",
        "            ahora=evento_llegada\n",
        "            nclientes+=1\n",
        "            \n",
        "            if debug:\n",
        "                bitacora.append(\"T=\"+str(ahora)+\n",
        "                                \" evento_llegada=\"+str(evento_llegada)+\" evento_salida=\"+str(evento_salida)+\n",
        "                                \" => LLEGADA\"+\n",
        "                                \"\\n\\tcola=\"+str(c.q))\n",
        "            # El cliente que acaba de llegar se pone a la cola\n",
        "            c.enq(ahora) # Basta anotar su hora de llegada\n",
        "            acum_largo_cola+=c.size()\n",
        "            \n",
        "            if c.size()==1: # la cola estaba vacía, lo empezamos a atender de inmediato\n",
        "                evento_salida=ahora+np.random.exponential(ts) # programamos su hora de salida\n",
        "            \n",
        "            if nclientes<maxclientes: # programamos la hora de llegada del siguiente cliente\n",
        "                evento_llegada=ahora+np.random.exponential(ta)\n",
        "            else:\n",
        "                evento_llegada=None\n",
        "        else:               \n",
        "            # Termina de atenderse un cliente, avanzamos el tiempo simulado a la hora en que sale\n",
        "            ahora=evento_salida\n",
        "            if debug:\n",
        "                bitacora.append(\"T=\"+str(ahora)+\n",
        "                                \" evento_llegada=\"+str(evento_llegada)+\" evento_salida=\"+str(evento_salida)+\n",
        "                                \" => SALIDA\"+\n",
        "                                \"\\n\\tcola=\"+str(c.q))\n",
        "            tllegada=c.deq() # sacamos al cliente de la cola\n",
        "            acum_tiempo_en_sistema+=(ahora-tllegada)\n",
        "            \n",
        "            if c.is_empty(): # no hay nadie en la cola\n",
        "                evento_salida=None\n",
        "            else: # Hay un cliente esperando, empezamos a atenderlo\n",
        "                evento_salida=ahora+np.random.exponential(ts) # programamos su hora de salida\n",
        "    \n",
        "    return (acum_largo_cola/maxclientes,acum_tiempo_en_sistema/maxclientes,bitacora)            "
      ],
      "execution_count": 0,
      "outputs": []
    },
    {
      "cell_type": "code",
      "metadata": {
        "id": "xV5bLtjo_I6p",
        "colab_type": "code",
        "outputId": "6ecfe72f-0481-4600-c429-37df11fa4d07",
        "colab": {
          "base_uri": "https://localhost:8080/",
          "height": 34
        }
      },
      "source": [
        "(cola,demora,bitacora)=simula(10,100,75,debug=True)\n",
        "print(\"Largo promedio de la cola=\",cola,\" Tiempo promedio en el sistema=\",demora)"
      ],
      "execution_count": 115,
      "outputs": [
        {
          "output_type": "stream",
          "text": [
            "Largo promedio de la cola= 1.9  Tiempo promedio en el sistema= 138.02762271192722\n"
          ],
          "name": "stdout"
        }
      ]
    },
    {
      "cell_type": "code",
      "metadata": {
        "id": "qdfsh7AM_I6v",
        "colab_type": "code",
        "outputId": "9287d3a7-b5d5-456b-9771-b0739523a176",
        "colab": {
          "base_uri": "https://localhost:8080/",
          "height": 697
        }
      },
      "source": [
        "print_list(bitacora)"
      ],
      "execution_count": 116,
      "outputs": [
        {
          "output_type": "stream",
          "text": [
            "T=21.25986576184801 evento_llegada=21.25986576184801 evento_salida=None => LLEGADA\n",
            "\tcola=[]\n",
            "T=78.83677538497456 evento_llegada=78.83677538497456 evento_salida=94.24603167524747 => LLEGADA\n",
            "\tcola=[21.25986576184801]\n",
            "T=94.24603167524747 evento_llegada=232.71542283099382 evento_salida=94.24603167524747 => SALIDA\n",
            "\tcola=[78.83677538497456, 21.25986576184801]\n",
            "T=207.7973648436669 evento_llegada=232.71542283099382 evento_salida=207.7973648436669 => SALIDA\n",
            "\tcola=[78.83677538497456]\n",
            "T=232.71542283099382 evento_llegada=232.71542283099382 evento_salida=None => LLEGADA\n",
            "\tcola=[]\n",
            "T=256.5855663702635 evento_llegada=265.07595569718336 evento_salida=256.5855663702635 => SALIDA\n",
            "\tcola=[232.71542283099382]\n",
            "T=265.07595569718336 evento_llegada=265.07595569718336 evento_salida=None => LLEGADA\n",
            "\tcola=[]\n",
            "T=386.489172340086 evento_llegada=582.4168679105603 evento_salida=386.489172340086 => SALIDA\n",
            "\tcola=[265.07595569718336]\n",
            "T=582.4168679105603 evento_llegada=582.4168679105603 evento_salida=None => LLEGADA\n",
            "\tcola=[]\n",
            "T=626.7051068662289 evento_llegada=626.7051068662289 evento_salida=738.9366623619304 => LLEGADA\n",
            "\tcola=[582.4168679105603]\n",
            "T=696.2190483450556 evento_llegada=696.2190483450556 evento_salida=738.9366623619304 => LLEGADA\n",
            "\tcola=[626.7051068662289, 582.4168679105603]\n",
            "T=738.9366623619304 evento_llegada=811.2505419244258 evento_salida=738.9366623619304 => SALIDA\n",
            "\tcola=[696.2190483450556, 626.7051068662289, 582.4168679105603]\n",
            "T=811.2505419244258 evento_llegada=811.2505419244258 evento_salida=832.4793149848136 => LLEGADA\n",
            "\tcola=[696.2190483450556, 626.7051068662289]\n",
            "T=832.4793149848136 evento_llegada=857.4938981550002 evento_salida=832.4793149848136 => SALIDA\n",
            "\tcola=[811.2505419244258, 696.2190483450556, 626.7051068662289]\n",
            "T=857.4938981550002 evento_llegada=857.4938981550002 evento_salida=894.2570294009206 => LLEGADA\n",
            "\tcola=[811.2505419244258, 696.2190483450556]\n",
            "T=894.2570294009206 evento_llegada=927.427158306087 evento_salida=894.2570294009206 => SALIDA\n",
            "\tcola=[857.4938981550002, 811.2505419244258, 696.2190483450556]\n",
            "T=895.296837936396 evento_llegada=927.427158306087 evento_salida=895.296837936396 => SALIDA\n",
            "\tcola=[857.4938981550002, 811.2505419244258]\n",
            "T=927.427158306087 evento_llegada=927.427158306087 evento_salida=1006.4499708056504 => LLEGADA\n",
            "\tcola=[857.4938981550002]\n",
            "T=1006.4499708056504 evento_llegada=None evento_salida=1006.4499708056504 => SALIDA\n",
            "\tcola=[927.427158306087, 857.4938981550002]\n",
            "T=1167.1389175826548 evento_llegada=None evento_salida=1167.1389175826548 => SALIDA\n",
            "\tcola=[927.427158306087]\n"
          ],
          "name": "stdout"
        }
      ]
    },
    {
      "cell_type": "markdown",
      "metadata": {
        "id": "4RX6EIbo_I6y",
        "colab_type": "text"
      },
      "source": [
        "## Lo que usted tiene que hacer"
      ]
    },
    {
      "cell_type": "markdown",
      "metadata": {
        "id": "7PVZ1Smo_I6z",
        "colab_type": "text"
      },
      "source": [
        "### 1. Mejorar este programa introduciendo una cola de prioridad\n",
        "\n",
        "El programa está escrito sabiendo que puede haber dos tipos de eventos por ocurrir (LLEGADA y SALIDA) y que en todo momento puede haber a lo más solo uno de cada tipo.\n",
        "\n",
        "En una situación más general, podría haber eventos de muchos tipos programados para ocurrir, en muchos instantes distintos. En ese caso, la implementación presentada es demasiado limitada, y se requiere un mecanismo más general para administrar esa lista de eventos futuros. Una *cola de prioridad* (usando el tiempo como prioridad, y en que el mínimo tiempo equivale a mejor prioridad) es la estructura adecuada, porque en esa lista de eventos futuros siempre vamos extrayendo el primero que debe ocurrir (el mínimo), y durante la ejecución se pueden generar nuevos elementos programados para ocurrir en el futuro (inserciones).\n",
        "\n",
        "En preparación a poder simular modelos más complejos, lo que usted tiene que hacer es implementar una lista de eventos futuros mediante uan cola de prioridad, en la cual se almacenen pares de la forma\n",
        "\n",
        "$$\n",
        "(\\text{tiempo},\\text{tipo de evento})\n",
        "$$\n",
        "\n",
        "y modificar el programa para que utilice esa cola de prioridad en lugar de las variables ``evento_salida`` y ``evento_llegada``. Implemente la cola de prioridad en base al código para heaps que aparece en el apunte.\n",
        "\n",
        "Sugerencias: Antes del while, encolar el primer evento de llegada, luego en cada iteración sacar un evento de la cola de prioridad y procesarlo, y cuando en el programa original se generaba un evento nuevo y se asignaba a la variable respectiva, ahora hay que insertar un nuevo evento del tipo correspondiente en la cola de prioridad.\n",
        "\n",
        "El programa resultante debiera ser más simple, porque varias cosas se unifican al verlas de esta manera.\n",
        "\n",
        "Ejecute ambos programas en modo ``debug`` y asegúrese que en las bitácoras resultantes los eventos que ocurren y sus tiempos sean idénticos."
      ]
    },
    {
      "cell_type": "code",
      "metadata": {
        "id": "PP8puZq4se3p",
        "colab_type": "code",
        "colab": {}
      },
      "source": [
        "import numpy as np\n",
        "#modificadas para que puedan comparar los tiempos de los pares (tiempo, tipo de evento)\n",
        "def trepar(a,j): # El elemento a[j] trepa hasta su nivel de prioridad \n",
        "    while j>=1 and a[j]>a[(j-1)//2]:\n",
        "        (a[j][0],a[(j-1)//2][0])=(a[(j-1)//2][0],a[j][0]) # intercambiamos con el padre\n",
        "        j=(j-1)//2 # subimos al lugar del padre\n",
        "        \n",
        "def hundir(a,j,n): # El elemento a[j] se hunde hasta su nivel de prioridad\n",
        "    while 2*j+1<n: # mientras tenga al menos 1 hijo\n",
        "        k=2*j+1 # el hijo izquierdo\n",
        "        if k+1<n and a[k+1][0]>a[k][0]: # el hijo derecho existe y es mayor\n",
        "            k+=1\n",
        "        if a[j][0]>=a[k][0]: # tiene mejor prioridad que ambos hijos\n",
        "            break\n",
        "        (a[j],a[k])=(a[k],a[j]) # se intercambia con el mayor de los hijos\n",
        "        j=k # bajamos al lugar del mayor de los hijos\n",
        "    \n",
        "class Heap:\n",
        "    def __init__(self,maxn=100):\n",
        "        self.a=np.zeros(maxn, dtype='float, str')\n",
        "        self.n=0\n",
        "    def insert(self,x):\n",
        "        assert self.n<len(self.a)\n",
        "        self.a[self.n]=x    \n",
        "        trepar(self.a,self.n)\n",
        "        self.n+=1       \n",
        "    def extract_max(self):\n",
        "        x=self.a[0] # esta variable lleva el máximo, el casillero 0 queda vacante\n",
        "        self.n-=1   # achicamos el heap\n",
        "        self.a[0]=self.a[self.n] # movemos el elemento sobrante hacia el casillero vacante\n",
        "        hundir(self.a,0,self.n)\n",
        "        return x\n",
        "    def extract_min(self):\n",
        "        print(self.n-1)\n",
        "\n",
        "        x=self.a[self.n-1] #mínima prioridad del heap\n",
        "        self.n-=1\n",
        "        self.a[self.n]=self.a[0]\n",
        "        trepar(self.a,self.n)\n",
        "        return x\n",
        "    def imprimir(self):\n",
        "        print(self.a[0:self.n])\n",
        "\n",
        "def print_list(L):\n",
        "    for x in L:\n",
        "        print(x)\n",
        "\n",
        "def simula(maxclientes,ta,ts,debug=False):\n",
        "    # simula el paso de maxclientes clientes por el sistema,\n",
        "    # ta = tiempo promedio entre llegadas (arrivals)\n",
        "    # ts = tiempo promedio de servicio\n",
        "    # maxclientes = número maximo de clientes para la simulacion\n",
        "    # debug = True => genera bitácora y usa secuencia aleatoria reproducible\n",
        "    # retorna (largo promedio de la cola, tiempo promedio en el sistema)\n",
        "\n",
        "    if debug:\n",
        "        np.random.seed(1234)\n",
        "    ahora=0 # tiempo simulado\n",
        "    nclientes=0 # número de clientes que han llegado\n",
        "    c=Heap(maxn=maxclientes)\n",
        "    tiempo_llegada=np.random.exponential(ta)\n",
        "    acum_largo_cola=0 # acumula largo de la cola para sacar promedio al final\n",
        "    acum_tiempo_en_sistema=0 # acumula tiempos en el sistema para sacar promedio al final\n",
        "    bitacora=[] # En caso que se pida debug\n",
        "    \n",
        "    primer_evento_llegada = (tiempo_llegada, 'llegada')\n",
        "    c.insert(primer_evento_llegada)\n",
        "\n",
        "    #variables usadas solo para debug\n",
        "    evento_llegada = tiempo_llegada\n",
        "    evento_salida = None\n",
        "    \n",
        "    while c is not None: #ahora no representa la fila, sino las operaciones a realizar\n",
        "        c.imprimir()\n",
        "        #Atender siempre a la máxima prioridad (es decir, extraer el mínimo del Heap)\n",
        "        evento_actual = c.extract_min()\n",
        "        # ¿Toca procesar una salida de la cola o la entrada de alguien?\n",
        "        print('ev =',evento_actual[1], evento_actual[1]== 'llegada')\n",
        "        if evento_actual[1] == 'llegada':\n",
        "            #llegó un cliente\n",
        "            ahora = evento_actual[0] #estaba programado que ocurriese ahí\n",
        "            nclientes += 1 \n",
        "\n",
        "            #programar hora de salida\n",
        "            tiempo_salida = ahora + np.random.exponential(ts)\n",
        "            c.insert((tiempo_salida, 'salida'))\n",
        "            \n",
        "            evento_salida = tiempo_salida if evento_salida is None else evento_salida + tiempo_salida \n",
        "            #debug \n",
        "            if debug:\n",
        "                bitacora.append(\"T=\"+str(ahora)+\n",
        "                                \" evento_llegada=\"+str(ahora)+\" evento_salida=\"+str(evento_salida)+\n",
        "                                \" => LLEGADA\"+\n",
        "                                \"\\n\\tcola=\"+str(c.a))           \n",
        "\n",
        "            if nclientes < maxclientes: #se genera una nueva entrada\n",
        "                tiempo_nueva_entrada = ahora + np.random.exponential(ta)\n",
        "                c.insert((tiempo_nueva_entrada, 'llegada'))\n",
        "            else:\n",
        "                evento_llegada = None #no debe llegar nadie más\n",
        "        elif evento_actual[1] == 'salida':\n",
        "            #se va un cliente\n",
        "            ahora = evento_actual[0]\n",
        "            if debug:\n",
        "                bitacora.append(\"T=\"+str(ahora)+\n",
        "                                \" evento_llegada=\"+str(evento_llegada)+\" evento_salida=\"+str(ahora)+\n",
        "                                \" => SALIDA\"+\n",
        "                                \"\\n\\tcola=\"+str(c.a))\n",
        "            acum_tiempo_en_sistema+=ahora\n",
        "\n",
        "    return (acum_largo_cola/maxclientes,acum_tiempo_en_sistema/maxclientes,bitacora)            "
      ],
      "execution_count": 0,
      "outputs": []
    },
    {
      "cell_type": "code",
      "metadata": {
        "id": "b9a6MBZhxNfk",
        "colab_type": "code",
        "colab": {
          "base_uri": "https://localhost:8080/",
          "height": 1000
        },
        "outputId": "3c831042-d8f6-433c-ce90-bc0145e46f05"
      },
      "source": [
        "(cola,demora,bitacora)=simula(10,100,75,debug=True)\n",
        "print(\"Largo promedio de la cola=\",cola,\" Tiempo promedio en el sistema=\",demora)"
      ],
      "execution_count": 118,
      "outputs": [
        {
          "output_type": "stream",
          "text": [
            "[(21.25986576, '')]\n",
            "0\n",
            "ev =  False\n",
            "[]\n",
            "-1\n",
            "ev =  False\n",
            "[(21.25986576, '') ( 0.        , '') ( 0.        , '') ( 0.        , '')\n",
            " ( 0.        , '') ( 0.        , '') ( 0.        , '') ( 0.        , '')\n",
            " ( 0.        , '')]\n",
            "-2\n",
            "ev =  False\n",
            "[(21.25986576, '') ( 0.        , '') ( 0.        , '') ( 0.        , '')\n",
            " ( 0.        , '') ( 0.        , '') ( 0.        , '') ( 0.        , '')]\n",
            "-3\n",
            "ev =  False\n",
            "[(21.25986576, '') ( 0.        , '') ( 0.        , '') ( 0.        , '')\n",
            " ( 0.        , '') ( 0.        , '') ( 0.        , '')]\n",
            "-4\n",
            "ev =  False\n",
            "[(21.25986576, '') ( 0.        , '') ( 0.        , '') ( 0.        , '')\n",
            " ( 0.        , '') ( 0.        , '')]\n",
            "-5\n",
            "ev =  False\n",
            "[(21.25986576, '') ( 0.        , '') ( 0.        , '') ( 0.        , '')\n",
            " ( 0.        , '')]\n",
            "-6\n",
            "ev =  False\n",
            "[(21.25986576, '') ( 0.        , '') ( 0.        , '') ( 0.        , '')]\n",
            "-7\n",
            "ev =  False\n",
            "[(21.25986576, '') ( 0.        , '') ( 0.        , '')]\n",
            "-8\n",
            "ev =  False\n",
            "[(21.25986576, '') ( 0.        , '')]\n",
            "-9\n",
            "ev =  False\n",
            "[(21.25986576, '')]\n",
            "-10\n",
            "ev =  False\n",
            "[]\n",
            "-11\n"
          ],
          "name": "stdout"
        },
        {
          "output_type": "error",
          "ename": "IndexError",
          "evalue": "ignored",
          "traceback": [
            "\u001b[0;31m---------------------------------------------------------------------------\u001b[0m",
            "\u001b[0;31mIndexError\u001b[0m                                Traceback (most recent call last)",
            "\u001b[0;32m<ipython-input-118-28135559b5df>\u001b[0m in \u001b[0;36m<module>\u001b[0;34m()\u001b[0m\n\u001b[0;32m----> 1\u001b[0;31m \u001b[0;34m(\u001b[0m\u001b[0mcola\u001b[0m\u001b[0;34m,\u001b[0m\u001b[0mdemora\u001b[0m\u001b[0;34m,\u001b[0m\u001b[0mbitacora\u001b[0m\u001b[0;34m)\u001b[0m\u001b[0;34m=\u001b[0m\u001b[0msimula\u001b[0m\u001b[0;34m(\u001b[0m\u001b[0;36m10\u001b[0m\u001b[0;34m,\u001b[0m\u001b[0;36m100\u001b[0m\u001b[0;34m,\u001b[0m\u001b[0;36m75\u001b[0m\u001b[0;34m,\u001b[0m\u001b[0mdebug\u001b[0m\u001b[0;34m=\u001b[0m\u001b[0;32mTrue\u001b[0m\u001b[0;34m)\u001b[0m\u001b[0;34m\u001b[0m\u001b[0;34m\u001b[0m\u001b[0m\n\u001b[0m\u001b[1;32m      2\u001b[0m \u001b[0mprint\u001b[0m\u001b[0;34m(\u001b[0m\u001b[0;34m\"Largo promedio de la cola=\"\u001b[0m\u001b[0;34m,\u001b[0m\u001b[0mcola\u001b[0m\u001b[0;34m,\u001b[0m\u001b[0;34m\" Tiempo promedio en el sistema=\"\u001b[0m\u001b[0;34m,\u001b[0m\u001b[0mdemora\u001b[0m\u001b[0;34m)\u001b[0m\u001b[0;34m\u001b[0m\u001b[0;34m\u001b[0m\u001b[0m\n",
            "\u001b[0;32m<ipython-input-117-4c246c79401e>\u001b[0m in \u001b[0;36msimula\u001b[0;34m(maxclientes, ta, ts, debug)\u001b[0m\n\u001b[1;32m     74\u001b[0m         \u001b[0mc\u001b[0m\u001b[0;34m.\u001b[0m\u001b[0mimprimir\u001b[0m\u001b[0;34m(\u001b[0m\u001b[0;34m)\u001b[0m\u001b[0;34m\u001b[0m\u001b[0;34m\u001b[0m\u001b[0m\n\u001b[1;32m     75\u001b[0m         \u001b[0;31m#Atender siempre a la máxima prioridad (es decir, extraer el mínimo del Heap)\u001b[0m\u001b[0;34m\u001b[0m\u001b[0;34m\u001b[0m\u001b[0;34m\u001b[0m\u001b[0m\n\u001b[0;32m---> 76\u001b[0;31m         \u001b[0mevento_actual\u001b[0m \u001b[0;34m=\u001b[0m \u001b[0mc\u001b[0m\u001b[0;34m.\u001b[0m\u001b[0mextract_min\u001b[0m\u001b[0;34m(\u001b[0m\u001b[0;34m)\u001b[0m\u001b[0;34m\u001b[0m\u001b[0;34m\u001b[0m\u001b[0m\n\u001b[0m\u001b[1;32m     77\u001b[0m         \u001b[0;31m# ¿Toca procesar una salida de la cola o la entrada de alguien?\u001b[0m\u001b[0;34m\u001b[0m\u001b[0;34m\u001b[0m\u001b[0;34m\u001b[0m\u001b[0m\n\u001b[1;32m     78\u001b[0m         \u001b[0mprint\u001b[0m\u001b[0;34m(\u001b[0m\u001b[0;34m'ev ='\u001b[0m\u001b[0;34m,\u001b[0m\u001b[0mevento_actual\u001b[0m\u001b[0;34m[\u001b[0m\u001b[0;36m1\u001b[0m\u001b[0;34m]\u001b[0m\u001b[0;34m,\u001b[0m \u001b[0mevento_actual\u001b[0m\u001b[0;34m[\u001b[0m\u001b[0;36m1\u001b[0m\u001b[0;34m]\u001b[0m\u001b[0;34m==\u001b[0m \u001b[0;34m'llegada'\u001b[0m\u001b[0;34m)\u001b[0m\u001b[0;34m\u001b[0m\u001b[0;34m\u001b[0m\u001b[0m\n",
            "\u001b[0;32m<ipython-input-117-4c246c79401e>\u001b[0m in \u001b[0;36mextract_min\u001b[0;34m(self)\u001b[0m\n\u001b[1;32m     34\u001b[0m         \u001b[0mprint\u001b[0m\u001b[0;34m(\u001b[0m\u001b[0mself\u001b[0m\u001b[0;34m.\u001b[0m\u001b[0mn\u001b[0m\u001b[0;34m-\u001b[0m\u001b[0;36m1\u001b[0m\u001b[0;34m)\u001b[0m\u001b[0;34m\u001b[0m\u001b[0;34m\u001b[0m\u001b[0m\n\u001b[1;32m     35\u001b[0m \u001b[0;34m\u001b[0m\u001b[0m\n\u001b[0;32m---> 36\u001b[0;31m         \u001b[0mx\u001b[0m\u001b[0;34m=\u001b[0m\u001b[0mself\u001b[0m\u001b[0;34m.\u001b[0m\u001b[0ma\u001b[0m\u001b[0;34m[\u001b[0m\u001b[0mself\u001b[0m\u001b[0;34m.\u001b[0m\u001b[0mn\u001b[0m\u001b[0;34m-\u001b[0m\u001b[0;36m1\u001b[0m\u001b[0;34m]\u001b[0m \u001b[0;31m#mínima prioridad del heap\u001b[0m\u001b[0;34m\u001b[0m\u001b[0;34m\u001b[0m\u001b[0m\n\u001b[0m\u001b[1;32m     37\u001b[0m         \u001b[0mself\u001b[0m\u001b[0;34m.\u001b[0m\u001b[0mn\u001b[0m\u001b[0;34m-=\u001b[0m\u001b[0;36m1\u001b[0m\u001b[0;34m\u001b[0m\u001b[0;34m\u001b[0m\u001b[0m\n\u001b[1;32m     38\u001b[0m         \u001b[0mself\u001b[0m\u001b[0;34m.\u001b[0m\u001b[0ma\u001b[0m\u001b[0;34m[\u001b[0m\u001b[0mself\u001b[0m\u001b[0;34m.\u001b[0m\u001b[0mn\u001b[0m\u001b[0;34m]\u001b[0m\u001b[0;34m=\u001b[0m\u001b[0mself\u001b[0m\u001b[0;34m.\u001b[0m\u001b[0ma\u001b[0m\u001b[0;34m[\u001b[0m\u001b[0;36m0\u001b[0m\u001b[0;34m]\u001b[0m\u001b[0;34m\u001b[0m\u001b[0;34m\u001b[0m\u001b[0m\n",
            "\u001b[0;31mIndexError\u001b[0m: index -11 is out of bounds for axis 0 with size 10"
          ]
        }
      ]
    },
    {
      "cell_type": "code",
      "metadata": {
        "id": "bTqivvA2xN4N",
        "colab_type": "code",
        "colab": {}
      },
      "source": [
        "print_list(bitacora)"
      ],
      "execution_count": 0,
      "outputs": []
    },
    {
      "cell_type": "markdown",
      "metadata": {
        "id": "EiFVF2jZ_I6z",
        "colab_type": "text"
      },
      "source": [
        "## 2. Modificar el modelo para introducir un tiempo comprando\n",
        "\n",
        "A continuación, introduciremos un elemento adicional en el modelo, y usted debe modificar su programa para incluirlo.\n",
        "\n",
        "Supondremos que una vez que un cliente llega, en lugar de ponerse a la cola de inmediato, pasa un rato en la tienda comprando, y una vez que termina (después de transcurrido un tiempo aleatorio de duración promedio $t_c$), en ese momento recién se pone a la cola para pagar en la caja.\n",
        "\n",
        "![cola2T5](https://github.com/ppoblete/Tareas-CC3001-2020-1/blob/master/cola2T5.png?raw=1)\n",
        "\n",
        "Observe que, como puede haber muchos clientes en la tienda que aún no terminan de comprar, en la lista de eventos futuros ahora puede haber muchos eventos de un nuevo tipo (FINCOMPRA), lo que justifica el haber introducido la cola de prioridad.\n",
        "\n",
        "Ejecute su programa en modo ``debug`` agregando un parámetro $t_c=300$ e imprima el largo promedio de la cola, la demora total promedio de los clientes y la bitácora."
      ]
    },
    {
      "cell_type": "markdown",
      "metadata": {
        "id": "fc5Rru6W_I60",
        "colab_type": "text"
      },
      "source": [
        "## 3. ¿Qué hay que entregar?\n",
        "\n",
        "Usted debe entregar este mismo archivo, modificado de acuerdo a lo que se pide. Haga todos los cambios necesarios para explicar y documentar adecuadamente su código. No olvide poner su nombre."
      ]
    }
  ]
}