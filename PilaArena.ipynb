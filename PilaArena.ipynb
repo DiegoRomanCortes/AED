{
  "nbformat": 4,
  "nbformat_minor": 0,
  "metadata": {
    "colab": {
      "name": "PilaArena.ipynb",
      "provenance": [],
      "authorship_tag": "ABX9TyNubnL8nsRv62flqgCpZLt5",
      "include_colab_link": true
    },
    "kernelspec": {
      "name": "python3",
      "display_name": "Python 3"
    }
  },
  "cells": [
    {
      "cell_type": "markdown",
      "metadata": {
        "id": "view-in-github",
        "colab_type": "text"
      },
      "source": [
        "<a href=\"https://colab.research.google.com/github/DiegoRomanCortes/AED/blob/master/PilaArena.ipynb\" target=\"_parent\"><img src=\"https://colab.research.google.com/assets/colab-badge.svg\" alt=\"Open In Colab\"/></a>"
      ]
    },
    {
      "cell_type": "markdown",
      "metadata": {
        "id": "xKIVHPV1Mdby",
        "colab_type": "text"
      },
      "source": [
        "#Introducción\n",
        "\n",
        "Este notebook tiene por objetivo modelar de manera simplificada el derrumbe de una torre de arena. Para ello, se utiliza una matriz que simula los espacios que usaría cada montón de granitos, poniendo la pila inicial en el centro de la misma. La regla es que si la pila tiene 4 o más granitos, éstos sean traspazados de forma equitativa a las posiciones cardinales adyacentes."
      ]
    },
    {
      "cell_type": "markdown",
      "metadata": {
        "id": "X7gdI5YXNqu4",
        "colab_type": "text"
      },
      "source": [
        "#Parte 1"
      ]
    },
    {
      "cell_type": "markdown",
      "metadata": {
        "id": "TtTD_XybN3vX",
        "colab_type": "text"
      },
      "source": [
        "Primero se importan las librerías para manejar arreglos y para graficar."
      ]
    },
    {
      "cell_type": "code",
      "metadata": {
        "id": "xp_sygnmi_EL",
        "colab_type": "code",
        "colab": {}
      },
      "source": [
        "from matplotlib import pyplot as plt\n",
        "import numpy as np"
      ],
      "execution_count": 0,
      "outputs": []
    },
    {
      "cell_type": "markdown",
      "metadata": {
        "id": "CwyDx2y-OHdP",
        "colab_type": "text"
      },
      "source": [
        "Luego se le pide la cantidad inicial de arena al usuario."
      ]
    },
    {
      "cell_type": "code",
      "metadata": {
        "id": "MC7v0aNupqho",
        "colab_type": "code",
        "colab": {}
      },
      "source": [
        "N = input(\"Inserte número de granitos de arena a apilar: \")"
      ],
      "execution_count": 0,
      "outputs": []
    },
    {
      "cell_type": "markdown",
      "metadata": {
        "id": "beybY1B9OKmP",
        "colab_type": "text"
      },
      "source": [
        "El número $N$ ingresado se convirtirá a `int`, pues originalmente era un `String`. La matriz deberá ser de $L$ x $L$ idealmente para que el número total de elementos en la matriz sea precisamente $N$. El valor de $L$ será el del diámetro de un círculo que contiene en promedio $2$ granitos de arena por posición, es decir $L = 2 * \\sqrt{\\frac{\\frac{N}{\\pi}}{2}}$. Como $L$ no es necesariamente entero, se castea como tal con int(L).\n",
        "\n"
      ]
    },
    {
      "cell_type": "code",
      "metadata": {
        "id": "-Bf7dR48qTBd",
        "colab_type": "code",
        "colab": {}
      },
      "source": [
        "N = int(N)\n",
        "L = 2*np.sqrt(N/np.pi/2)\n",
        "L = int(L)"
      ],
      "execution_count": 0,
      "outputs": []
    },
    {
      "cell_type": "markdown",
      "metadata": {
        "id": "K0yIeulPPGkK",
        "colab_type": "text"
      },
      "source": [
        "Naturalmente, es conveniente inicializar una matriz de ceros $M$ con la forma que se vió anteriormente. La posición mediana está en $M_{\\frac{L}{2},\\frac{L}{2}}$, por lo que allí será asignado el valor $N$ ingresado."
      ]
    },
    {
      "cell_type": "code",
      "metadata": {
        "id": "e_zIRXrYFxXn",
        "colab_type": "code",
        "colab": {}
      },
      "source": [
        "mat = np.zeros((L,L))\n",
        "mat[L//2][L//2] = N"
      ],
      "execution_count": 0,
      "outputs": []
    },
    {
      "cell_type": "markdown",
      "metadata": {
        "id": "PRX7p9mgQQYR",
        "colab_type": "text"
      },
      "source": [
        "El algoritmo más fácil de programar es el de fuerza bruta. Éste recorre la matriz $N$ veces, haciendo la repartición equitativa cada vez que se detecte algún valor $M_{i,j} >= 4$. También se contará las veces que se aplica la regla de derrumbe."
      ]
    },
    {
      "cell_type": "code",
      "metadata": {
        "id": "4Zm2NaNTrOa3",
        "colab_type": "code",
        "colab": {}
      },
      "source": [
        "ciclo_1 = 0 \n",
        "for n in range(N):\n",
        "  for i in range(len(mat)):\n",
        "    for j in range(len(mat[0])):\n",
        "      if mat[i][j] >= 4: #regla\n",
        "        ciclo_1 += 1\n",
        "        mat[i][j] -= 4\n",
        "        mat[i-1][j] += 1\n",
        "        mat[i+1][j] += 1\n",
        "        mat[i][j-1] += 1\n",
        "        mat[i][j+1] += 1"
      ],
      "execution_count": 0,
      "outputs": []
    },
    {
      "cell_type": "code",
      "metadata": {
        "id": "LChIylDvthee",
        "colab_type": "code",
        "outputId": "2b104923-4eae-4885-81dd-e8a8d1cfdbbd",
        "colab": {
          "base_uri": "https://localhost:8080/",
          "height": 282
        }
      },
      "source": [
        "print(\"Número de veces que se aplicó la regla: \", ciclo_1)\n",
        "plt.matshow(mat)\n",
        "plt.colorbar()\n",
        "plt.show()"
      ],
      "execution_count": 11,
      "outputs": [
        {
          "output_type": "stream",
          "text": [
            "Número de veces que se aplicó la regla:  18226\n"
          ],
          "name": "stdout"
        },
        {
          "output_type": "display_data",
          "data": {
            "image/png": "[encoded data removed]",
            "text/plain": [
              "<Figure size 288x288 with 2 Axes>"
            ]
          },
          "metadata": {
            "tags": []
          }
        }
      ]
    },
    {
      "cell_type": "markdown",
      "metadata": {
        "id": "mJZhlLWde9PK",
        "colab_type": "text"
      },
      "source": [
        "#Parte 2\n",
        "Notemos que el algoritmo anterior admite una pequeña optimización, pues reparte los granos de arena de a 4 unidades. Se implementará por tanto una porción de código que reparta todo lo que se pueda (mayor múltiplo de 4) a sus vecinos cardinales. "
      ]
    },
    {
      "cell_type": "code",
      "metadata": {
        "id": "X-f7c1PEQ_in",
        "colab_type": "code",
        "colab": {
          "base_uri": "https://localhost:8080/",
          "height": 34
        },
        "outputId": "9afb793e-eace-476a-9382-0a4b6975d360"
      },
      "source": [
        "N = input(\"Inserte número de granitos de arena a apilar: \")\n",
        "N = int(N)\n",
        "L = 2*np.sqrt(N/np.pi/2)\n",
        "L = int(L)"
      ],
      "execution_count": 105,
      "outputs": [
        {
          "output_type": "stream",
          "text": [
            "Inserte número de granitos de arena a apilar: 25000\n"
          ],
          "name": "stdout"
        }
      ]
    },
    {
      "cell_type": "code",
      "metadata": {
        "id": "8NzP4DzV1I4y",
        "colab_type": "code",
        "colab": {}
      },
      "source": [
        "mat = np.zeros((L,L))\n",
        "mat[L//2][L//2] = N"
      ],
      "execution_count": 0,
      "outputs": []
    },
    {
      "cell_type": "markdown",
      "metadata": {
        "id": "uRylr6R3fpNq",
        "colab_type": "text"
      },
      "source": [
        "Nuevamente, se guarda la cantidad de veces en las que se aplica la regla. "
      ]
    },
    {
      "cell_type": "code",
      "metadata": {
        "id": "8Z3IemoPzn74",
        "colab_type": "code",
        "colab": {}
      },
      "source": [
        "ciclo_2 = 0\n",
        "for n in range(N):\n",
        "  for i in range(len(mat)):\n",
        "    for j in range(len(mat[0])):\n",
        "      if mat[i][j] >= 4:\n",
        "        ciclo_2 += 1\n",
        "        granitos = mat[i][j] - mat[i][j] % 4 #notar que si granitos == 4 recuperamos programa anterior\n",
        "        mat[i][j] -= granitos\n",
        "        mat[i-1][j] += granitos / 4\n",
        "        mat[i+1][j] += granitos / 4\n",
        "        mat[i][j-1] += granitos / 4\n",
        "        mat[i][j+1] += granitos / 4"
      ],
      "execution_count": 0,
      "outputs": []
    },
    {
      "cell_type": "code",
      "metadata": {
        "id": "jLtL7XpL0rXA",
        "colab_type": "code",
        "outputId": "d6b25aea-2c47-4150-a8f7-65435e61362b",
        "colab": {
          "base_uri": "https://localhost:8080/",
          "height": 282
        }
      },
      "source": [
        "print(\"Número de veces que se aplicó la regla: \", ciclo_2)\n",
        "plt.matshow(mat)\n",
        "plt.colorbar()\n",
        "plt.show()"
      ],
      "execution_count": 108,
      "outputs": [
        {
          "output_type": "stream",
          "text": [
            "Número de veces que se aplicó la regla:  7365295\n"
          ],
          "name": "stdout"
        },
        {
          "output_type": "display_data",
          "data": {
            "image/png": "[encoded data removed]",
            "text/plain": [
              "<Figure size 288x288 with 2 Axes>"
            ]
          },
          "metadata": {
            "tags": []
          }
        }
      ]
    },
    {
      "cell_type": "markdown",
      "metadata": {
        "id": "m73onBdtq4UC",
        "colab_type": "text"
      },
      "source": [
        "#Parte 3\n",
        "Se ejecutarán ahora ambos algoritmos para distintos valores de $N$. El gráfico resultante permitirá comparar ambos métodos."
      ]
    },
    {
      "cell_type": "markdown",
      "metadata": {
        "id": "pdYPVplq4Dlu",
        "colab_type": "text"
      },
      "source": [
        "Estado final para $N = 128$\n",
        "\n",
        "![128](https://github.com/DiegoRomanCortes/AED/blob/master/128.png?raw=true)\n",
        "\n",
        "Estado final para $N = 25000$\n",
        "\n",
        "![25000](https://github.com/DiegoRomanCortes/AED/blob/master/25000.png?raw=true)"
      ]
    },
    {
      "cell_type": "code",
      "metadata": {
        "id": "z8GCZ2xWtWHy",
        "colab_type": "code",
        "colab": {}
      },
      "source": [
        "def alg_1(N, mat):\n",
        "  ciclo_1 = 0 \n",
        "  for n in range(N):\n",
        "    for i in range(len(mat)):\n",
        "      for j in range(len(mat[0])):\n",
        "        if mat[i][j] >= 4: #regla\n",
        "          ciclo_1 += 1\n",
        "          mat[i][j] -= 4\n",
        "          mat[i-1][j] += 1\n",
        "          mat[i+1][j] += 1\n",
        "          mat[i][j-1] += 1\n",
        "          mat[i][j+1] += 1\n",
        "  return(mat, ciclo_1)\n",
        "\n",
        "def alg_2(N, mat):\n",
        "  ciclo_2 = 0\n",
        "  for n in range(N):\n",
        "    for i in range(len(mat)):\n",
        "      for j in range(len(mat[0])):\n",
        "        if mat[i][j] >= 4:\n",
        "          ciclo_2 += 1\n",
        "          granitos = mat[i][j] - mat[i][j] % 4 #notar que si granitos == 4 recuperamos programa anterior\n",
        "          mat[i][j] -= granitos\n",
        "          mat[i-1][j] += granitos / 4\n",
        "          mat[i+1][j] += granitos / 4\n",
        "          mat[i][j-1] += granitos / 4\n",
        "          mat[i][j+1] += granitos / 4\n",
        "  return(mat, ciclo_2)\n",
        "\n",
        "def corre(alg, N):\n",
        "  N = int(N)\n",
        "  L = 2*np.sqrt(N/np.pi/2) #aquí me di cuenta que en promedio cada casilla debería tener 1.5 granitos\n",
        "  L = int(L) + 2\n",
        "  mat = np.zeros((L,L))\n",
        "  mat[L//2][L//2] = N\n",
        "  res = alg(N, mat)\n",
        "  return res"
      ],
      "execution_count": 0,
      "outputs": []
    },
    {
      "cell_type": "code",
      "metadata": {
        "id": "nK7k2mOG1hBl",
        "colab_type": "code",
        "colab": {}
      },
      "source": [
        "enes = np.linspace(128,25000,dtype = int)\n",
        "res_1 = np.zeros(len(enes), dtype = int) \n",
        "res_2 = np.zeros(len(enes), dtype = int)\n",
        "\n",
        "i = 0\n",
        "while i < len(enes):\n",
        "  res_1[i] = corre(alg_1, enes[i])[1]\n",
        "  res_2[i] = corre(alg_2, enes[i])[1]\n",
        "  i += 1"
      ],
      "execution_count": 0,
      "outputs": []
    },
    {
      "cell_type": "code",
      "metadata": {
        "id": "0SdSHn6o1iQh",
        "colab_type": "code",
        "outputId": "bb99c0eb-abf0-47ae-d709-b371f59cf46b",
        "colab": {
          "base_uri": "https://localhost:8080/",
          "height": 342
        }
      },
      "source": [
        "plt.figure(figsize=[12,5])\n",
        "\n",
        "plt.plot(enes, res_1, 'r', label = \"Algoritmo Parte 1\")\n",
        "plt.plot(enes, res_2, 'b', label = 'Algoritmo Parte 2')\n",
        "\n",
        "escalar = res_1/res_2\n",
        "e = escalar.mean()\n",
        "e = 10*e//1/10 \n",
        "print(\"El algoritmo 1 ejecuta en promedio \",e, \"veces más la regla de derrumbe que el algoritmo 2\")\n",
        "\n",
        "\n",
        "plt.legend()\n",
        "\n",
        "plt.xticks(ticks = [])\n",
        "\n",
        "plt.table(cellText=[res_1,res_2],rowLabels=[\"Algoritmo 1\",\"Algoritmo 2\"], colLabels = enes)\n",
        "plt.subplots_adjust(left=0.2, bottom=0.2)\n",
        "\n",
        "plt.title(\"Compración entre ambos algoritmos\")\n",
        "#plt.xlabel(\"Número de granitos de arena\")\n",
        "plt.ylabel(\"Veces totales de repartición de granitos\")\n",
        "plt.show()"
      ],
      "execution_count": 111,
      "outputs": [
        {
          "output_type": "stream",
          "text": [
            "El algoritmo 1 ejecuta en promedio  1.5 veces más la regla de derrumbe que el algoritmo 2\n"
          ],
          "name": "stdout"
        },
        {
          "output_type": "display_data",
          "data": {
            "image/png": "[encoded data removed]",
            "text/plain": [
              "<Figure size 864x360 with 1 Axes>"
            ]
          },
          "metadata": {
            "tags": []
          }
        }
      ]
    },
    {
      "cell_type": "markdown",
      "metadata": {
        "id": "UeLQMArD4jQj",
        "colab_type": "text"
      },
      "source": [
        "![texto alternativo](https://github.com/DiegoRomanCortes/AED/blob/master/hasta%205000.png?raw=true)\n",
        "\n",
        "![texto alternativo](https://github.com/DiegoRomanCortes/AED/blob/master/5000-10000.png?raw=true)"
      ]
    }
  ]
}