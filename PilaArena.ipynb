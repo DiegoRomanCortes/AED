{
  "nbformat": 4,
  "nbformat_minor": 0,
  "metadata": {
    "colab": {
      "name": "PilaArena.ipynb",
      "provenance": [],
      "authorship_tag": "ABX9TyNmSVpLODS1IyjTPyjMbWA4",
      "include_colab_link": true
    },
    "kernelspec": {
      "name": "python3",
      "display_name": "Python 3"
    }
  },
  "cells": [
    {
      "cell_type": "markdown",
      "metadata": {
        "id": "view-in-github",
        "colab_type": "text"
      },
      "source": [
        "<a href=\"https://colab.research.google.com/github/DiegoRomanCortes/AED/blob/master/PilaArena.ipynb\" target=\"_parent\"><img src=\"https://colab.research.google.com/assets/colab-badge.svg\" alt=\"Open In Colab\"/></a>"
      ]
    },
    {
      "cell_type": "markdown",
      "metadata": {
        "id": "xKIVHPV1Mdby",
        "colab_type": "text"
      },
      "source": [
        "#Introducción\n",
        "\n",
        "Este notebook tiene por objetivo modelar de manera simplificada el derrumbe de una torre de arena. Para ello, se utiliza una matriz que simula los espacios que usaría cada montón de granitos, poniendo la pila inicial en el centro de la misma. La regla es que si la pila tiene 4 o más granitos, éstos sean traspazados de forma equitativa a las posiciones cardinales adyacentes."
      ]
    },
    {
      "cell_type": "markdown",
      "metadata": {
        "id": "X7gdI5YXNqu4",
        "colab_type": "text"
      },
      "source": [
        "#Parte 1"
      ]
    },
    {
      "cell_type": "markdown",
      "metadata": {
        "id": "TtTD_XybN3vX",
        "colab_type": "text"
      },
      "source": [
        "Primero se importan las librerías para manejar arreglos y para graficar."
      ]
    },
    {
      "cell_type": "code",
      "metadata": {
        "id": "xp_sygnmi_EL",
        "colab_type": "code",
        "colab": {}
      },
      "source": [
        "from matplotlib import pyplot as plt\n",
        "import numpy as np"
      ],
      "execution_count": 0,
      "outputs": []
    },
    {
      "cell_type": "markdown",
      "metadata": {
        "id": "CwyDx2y-OHdP",
        "colab_type": "text"
      },
      "source": [
        "Luego se le pide la cantidad inicial de arena al usuario."
      ]
    },
    {
      "cell_type": "code",
      "metadata": {
        "id": "MC7v0aNupqho",
        "colab_type": "code",
        "colab": {}
      },
      "source": [
        "#N = input(\"Inserte número de granitos de arena a apilar: \")\n",
        "N = 128"
      ],
      "execution_count": 0,
      "outputs": []
    },
    {
      "cell_type": "markdown",
      "metadata": {
        "id": "beybY1B9OKmP",
        "colab_type": "text"
      },
      "source": [
        "El número $N$ ingresado se convirtirá a `int`, pues originalmente era un `String`. La matriz deberá ser de $\\sqrt{N}$ x $\\sqrt{N}$ idealmente para que el número total de elementos en la matriz sea precisamente $N$ (el peor escenario es que los granitos se repartan por todo el espacio). Como $\\sqrt{N}$ no retorna necesariamente enteros y éstos son necearios para crear la matriz, se borra su posible parte decimal casteándolo como entero. "
      ]
    },
    {
      "cell_type": "code",
      "metadata": {
        "id": "-Bf7dR48qTBd",
        "colab_type": "code",
        "colab": {}
      },
      "source": [
        "N = int(N)\n",
        "L = np.sqrt(N)\n",
        "L = int(L)"
      ],
      "execution_count": 0,
      "outputs": []
    },
    {
      "cell_type": "markdown",
      "metadata": {
        "id": "K0yIeulPPGkK",
        "colab_type": "text"
      },
      "source": [
        "Naturalmente, es conveniente inicializar una matriz de ceros $M$ con la forma que se vió anteriormente. La posición mediana está en $M_{\\frac{N}{2},\\frac{N}{2}}$, por lo que allí será asignado el valor $N$ ingresado."
      ]
    },
    {
      "cell_type": "code",
      "metadata": {
        "id": "e_zIRXrYFxXn",
        "colab_type": "code",
        "colab": {}
      },
      "source": [
        "mat = np.zeros((L,L))\n",
        "mat[L//2][L//2] = N"
      ],
      "execution_count": 0,
      "outputs": []
    },
    {
      "cell_type": "markdown",
      "metadata": {
        "id": "PRX7p9mgQQYR",
        "colab_type": "text"
      },
      "source": [
        "El algoritmo más fácil de programar es el de fuerza bruta. Éste recorre la matriz $N$ veces, haciendo la repartición equitativa cada vez que se detecte algún valor $M_{i,j} >= 4$. También se contará las veces que se aplica la regla de derrumbe."
      ]
    },
    {
      "cell_type": "code",
      "metadata": {
        "id": "4Zm2NaNTrOa3",
        "colab_type": "code",
        "colab": {}
      },
      "source": [
        "ciclo_1 = 0 \n",
        "for n in range(N):\n",
        "  for i in range(len(mat)):\n",
        "    for j in range(len(mat[0])):\n",
        "      if mat[i][j] >= 4: #regla\n",
        "        ciclo_1 += 1\n",
        "        mat[i][j] -= 4\n",
        "        mat[i-1][j] += 1\n",
        "        mat[i+1][j] += 1\n",
        "        mat[i][j-1] += 1\n",
        "        mat[i][j+1] += 1"
      ],
      "execution_count": 0,
      "outputs": []
    },
    {
      "cell_type": "code",
      "metadata": {
        "id": "LChIylDvthee",
        "colab_type": "code",
        "outputId": "c201f7a7-ab0d-4229-e457-c3bea8793993",
        "colab": {
          "base_uri": "https://localhost:8080/",
          "height": 282
        }
      },
      "source": [
        "print(\"Número de veces que se aplicó la regla: \", ciclo_1)\n",
        "plt.matshow(mat)\n",
        "plt.colorbar()\n",
        "plt.show()"
      ],
      "execution_count": 7,
      "outputs": [
        {
          "output_type": "stream",
          "text": [
            "Número de veces que se aplicó la regla:  342\n"
          ],
          "name": "stdout"
        },
        {
          "output_type": "display_data",
          "data": {
            "image/png": "[encoded data removed]",
            "text/plain": [
              "<Figure size 288x288 with 2 Axes>"
            ]
          },
          "metadata": {
            "tags": []
          }
        }
      ]
    },
    {
      "cell_type": "markdown",
      "metadata": {
        "id": "mJZhlLWde9PK",
        "colab_type": "text"
      },
      "source": [
        "#Parte 2\n",
        "Notemos que el algoritmo anterior admite una pequeña optimización, pues reparte los granos de arena de a 4 unidades. Se implementará por tanto una porción de código que reparta todo lo que se pueda (mayor múltiplo de 4) a sus vecinos cardinales. "
      ]
    },
    {
      "cell_type": "code",
      "metadata": {
        "id": "8NzP4DzV1I4y",
        "colab_type": "code",
        "colab": {}
      },
      "source": [
        "mat = np.zeros((L,L))\n",
        "mat[L//2][L//2] = N"
      ],
      "execution_count": 0,
      "outputs": []
    },
    {
      "cell_type": "markdown",
      "metadata": {
        "id": "uRylr6R3fpNq",
        "colab_type": "text"
      },
      "source": [
        "Nuevamente, se guarda la cantidad de veces en las que se aplica la regla. "
      ]
    },
    {
      "cell_type": "code",
      "metadata": {
        "id": "8Z3IemoPzn74",
        "colab_type": "code",
        "colab": {}
      },
      "source": [
        "ciclo_2 = 0\n",
        "for n in range(N):\n",
        "  for i in range(len(mat)):\n",
        "    for j in range(len(mat[0])):\n",
        "      if mat[i][j] >= 4:\n",
        "        ciclo_2 += 1\n",
        "        granitos = mat[i][j] - mat[i][j] % 4 #notar que si granitos == 4 recuperamos programa anterior\n",
        "        mat[i][j] -= granitos\n",
        "        mat[i-1][j] += granitos / 4\n",
        "        mat[i+1][j] += granitos / 4\n",
        "        mat[i][j-1] += granitos / 4\n",
        "        mat[i][j+1] += granitos / 4"
      ],
      "execution_count": 0,
      "outputs": []
    },
    {
      "cell_type": "code",
      "metadata": {
        "id": "jLtL7XpL0rXA",
        "colab_type": "code",
        "outputId": "42cd6b22-8d7f-45c1-d23f-782b36ef054e",
        "colab": {
          "base_uri": "https://localhost:8080/",
          "height": 282
        }
      },
      "source": [
        "print(\"Número de veces que se aplicó la regla: \", ciclo_2)\n",
        "plt.matshow(mat)\n",
        "plt.colorbar()\n",
        "plt.show()"
      ],
      "execution_count": 10,
      "outputs": [
        {
          "output_type": "stream",
          "text": [
            "Número de veces que se aplicó la regla:  227\n"
          ],
          "name": "stdout"
        },
        {
          "output_type": "display_data",
          "data": {
            "image/png": "[encoded data removed]",
            "text/plain": [
              "<Figure size 288x288 with 2 Axes>"
            ]
          },
          "metadata": {
            "tags": []
          }
        }
      ]
    },
    {
      "cell_type": "markdown",
      "metadata": {
        "id": "m73onBdtq4UC",
        "colab_type": "text"
      },
      "source": [
        "#Parte 3\n",
        "Se ejecutarán ahora ambos algoritmos para distintos valores de $N$. El gráfico resultante permitirá comparar ambos métodos."
      ]
    },
    {
      "cell_type": "markdown",
      "metadata": {
        "id": "pdYPVplq4Dlu",
        "colab_type": "text"
      },
      "source": [
        "Estado final para $N = 128$\n",
        "\n",
        "![128](https://github.com/DiegoRomanCortes/AED/blob/master/128.png?raw=true)"
      ]
    },
    {
      "cell_type": "code",
      "metadata": {
        "id": "z8GCZ2xWtWHy",
        "colab_type": "code",
        "colab": {}
      },
      "source": [
        "def alg_1(N, mat):\n",
        "  ciclo_1 = 0 \n",
        "  for n in range(N):\n",
        "    for i in range(len(mat)):\n",
        "      for j in range(len(mat[0])):\n",
        "        if mat[i][j] >= 4:\n",
        "          ciclo_1 += 1\n",
        "          mat[i][j] -= 4\n",
        "          mat[i-1][j] += 1\n",
        "          mat[i+1][j] += 1\n",
        "          mat[i][j-1] += 1\n",
        "          mat[i][j+1] += 1\n",
        "  return(mat, ciclo_1)\n",
        "\n",
        "def alg_2(N, mat):\n",
        "  ciclo_2 = 0\n",
        "  for n in range(N):\n",
        "    for i in range(len(mat)):\n",
        "      for j in range(len(mat[0])):\n",
        "        if mat[i][j] >= 4:\n",
        "          ciclo_2 += 1\n",
        "          granitos = mat[i][j] - mat[i][j] % 4 #notar que si granitos == 4 recuperamos programa anterior\n",
        "          mat[i][j] -= granitos\n",
        "          mat[i-1][j] += granitos / 4\n",
        "          mat[i+1][j] += granitos / 4\n",
        "          mat[i][j-1] += granitos / 4\n",
        "          mat[i][j+1] += granitos / 4\n",
        "  return(mat, ciclo_2)\n",
        "\n",
        "def corre(alg, N):\n",
        "  N = int(N)\n",
        "  L = np.sqrt(N/1.5) #aquí me di cuenta que en promedio cada casilla debería tener 1.5 granitos\n",
        "  L = np.sqrt(N)\n",
        "  L = int(L)\n",
        "  mat = np.zeros((L,L))\n",
        "  mat[L//2][L//2] = N\n",
        "  res = alg(N, mat)\n",
        "  return res"
      ],
      "execution_count": 0,
      "outputs": []
    },
    {
      "cell_type": "code",
      "metadata": {
        "id": "nK7k2mOG1hBl",
        "colab_type": "code",
        "colab": {}
      },
      "source": [
        "enes = np.linspace(128,1000)\n",
        "res_1 = np.zeros(len(enes)) \n",
        "res_2 = np.zeros(len(enes))\n",
        "\n",
        "i = 0\n",
        "while i < len(enes):\n",
        "  res_1[i] = corre(alg_1, enes[i])[1]\n",
        "  res_2[i] = corre(alg_2, enes[i])[1]\n",
        "  i += 1"
      ],
      "execution_count": 0,
      "outputs": []
    },
    {
      "cell_type": "code",
      "metadata": {
        "id": "0SdSHn6o1iQh",
        "colab_type": "code",
        "colab": {}
      },
      "source": [
        "plt.plot(enes, res_1, 'r', label = \"Algoritmo Parte 1\")\n",
        "plt.plot(enes, res_2, 'b', label = 'Algoritmo Parte 2')\n",
        "\n",
        "plt.title(\"Compración entre ambos algoritmos\")\n",
        "plt.xlabel(\"Número de granitos de arena\")\n",
        "plt.ylabel(\"Veces totales de repartición de granitos\")\n",
        "plt.legend()\n",
        "\n",
        "plt.show()"
      ],
      "execution_count": 0,
      "outputs": []
    },
    {
      "cell_type": "markdown",
      "metadata": {
        "id": "UeLQMArD4jQj",
        "colab_type": "text"
      },
      "source": [
        "![texto alternativo](https://github.com/DiegoRomanCortes/AED/blob/master/hasta%205000.png?raw=true)\n",
        "\n",
        "![texto alternativo](https://github.com/DiegoRomanCortes/AED/blob/master/5000-10000.png?raw=true)"
      ]
    }
  ]
}