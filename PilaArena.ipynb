{
  "nbformat": 4,
  "nbformat_minor": 0,
  "metadata": {
    "colab": {
      "name": "PilaArena.ipynb",
      "provenance": [],
      "authorship_tag": "ABX9TyPMCVZFGsswHrCZjNrL/MBH",
      "include_colab_link": true
    },
    "kernelspec": {
      "name": "python3",
      "display_name": "Python 3"
    }
  },
  "cells": [
    {
      "cell_type": "markdown",
      "metadata": {
        "id": "view-in-github",
        "colab_type": "text"
      },
      "source": [
        "<a href=\"https://colab.research.google.com/github/DiegoRomanCortes/AED/blob/master/PilaArena.ipynb\" target=\"_parent\"><img src=\"https://colab.research.google.com/assets/colab-badge.svg\" alt=\"Open In Colab\"/></a>"
      ]
    },
    {
      "cell_type": "markdown",
      "metadata": {
        "id": "FMVJ69HOEuMH",
        "colab_type": "text"
      },
      "source": [
        "##Enunciado\n",
        "[Tarea 1](https://www.u-cursos.cl/ingenieria/2020/1/CC3001/1/tareas/r/CC3001-Tarea1.pdf)"
      ]
    },
    {
      "cell_type": "markdown",
      "metadata": {
        "id": "xKIVHPV1Mdby",
        "colab_type": "text"
      },
      "source": [
        "#Introducción\n",
        "\n",
        "Este notebook tiene por objetivo modelar de manera simplificada el derrumbe de una torre de arena. Para ello, se utiliza una matriz que simula los espacios que usaría cada montón de granitos, poniendo la pila inicial en el centro de la misma. La regla es que si la pila tiene 4 o más granitos, éstos sean traspazados de forma equitativa a las posiciones cardinales adyacentes."
      ]
    },
    {
      "cell_type": "markdown",
      "metadata": {
        "id": "X7gdI5YXNqu4",
        "colab_type": "text"
      },
      "source": [
        "#Parte 1"
      ]
    },
    {
      "cell_type": "markdown",
      "metadata": {
        "id": "TtTD_XybN3vX",
        "colab_type": "text"
      },
      "source": [
        "Primero se importan las librerías para manejar arreglos y para graficar."
      ]
    },
    {
      "cell_type": "code",
      "metadata": {
        "id": "xp_sygnmi_EL",
        "colab_type": "code",
        "colab": {}
      },
      "source": [
        "from matplotlib import pyplot as plt\n",
        "import numpy as np"
      ],
      "execution_count": 0,
      "outputs": []
    },
    {
      "cell_type": "markdown",
      "metadata": {
        "id": "CwyDx2y-OHdP",
        "colab_type": "text"
      },
      "source": [
        "Luego se le pide la cantidad inicial de arena al usuario."
      ]
    },
    {
      "cell_type": "code",
      "metadata": {
        "id": "MC7v0aNupqho",
        "colab_type": "code",
        "outputId": "d7ecd721-a04b-4545-9742-ef11b1720d80",
        "colab": {
          "base_uri": "https://localhost:8080/",
          "height": 34
        }
      },
      "source": [
        "N = input(\"Inserte número de granitos de arena a apilar: \")"
      ],
      "execution_count": 2,
      "outputs": [
        {
          "output_type": "stream",
          "text": [
            "Inserte número de granitos de arena a apilar: 128\n"
          ],
          "name": "stdout"
        }
      ]
    },
    {
      "cell_type": "markdown",
      "metadata": {
        "id": "beybY1B9OKmP",
        "colab_type": "text"
      },
      "source": [
        "El número $N$ ingresado se convirtirá a `int`, pues originalmente era un `String`. La matriz deberá ser de $L$ x $L$ idealmente para que el número total de elementos en la matriz sea precisamente $N$. El valor de $L$ será el del diámetro de un círculo que contiene en promedio $2$ granitos de arena por posición, es decir $L = 2 * \\sqrt{\\frac{\\frac{N}{\\pi}}{2}}$. Como $L$ no es necesariamente entero, se castea como tal con int(L). \n",
        "\n",
        "Importante es notar que notar que la figura se puede modelar como un círculo se ha hecho a posteriori. En un principio, $L = \\sqrt{N}$, lo que permitió observar luego la forma circular resultante del problema.\n",
        "\n"
      ]
    },
    {
      "cell_type": "code",
      "metadata": {
        "id": "-Bf7dR48qTBd",
        "colab_type": "code",
        "colab": {}
      },
      "source": [
        "N = int(N)\n",
        "L = 2*np.sqrt(N/np.pi/2)\n",
        "L = int(L)"
      ],
      "execution_count": 0,
      "outputs": []
    },
    {
      "cell_type": "markdown",
      "metadata": {
        "id": "K0yIeulPPGkK",
        "colab_type": "text"
      },
      "source": [
        "Naturalmente, es conveniente inicializar una matriz de ceros $M$ con la forma que se vió anteriormente. La posición mediana está en $M_{\\frac{L}{2},\\frac{L}{2}}$, por lo que allí será asignado el valor $N$ ingresado."
      ]
    },
    {
      "cell_type": "code",
      "metadata": {
        "id": "e_zIRXrYFxXn",
        "colab_type": "code",
        "colab": {}
      },
      "source": [
        "mat = np.zeros((L,L))\n",
        "mat[L//2][L//2] = N"
      ],
      "execution_count": 0,
      "outputs": []
    },
    {
      "cell_type": "markdown",
      "metadata": {
        "id": "PRX7p9mgQQYR",
        "colab_type": "text"
      },
      "source": [
        "El algoritmo más fácil de programar es el de fuerza bruta. Éste recorre la matriz $N$ veces, haciendo la repartición equitativa cada vez que se detecte algún valor $M_{i,j} >= 4$. También se contará las veces que se aplica la regla de derrumbe."
      ]
    },
    {
      "cell_type": "code",
      "metadata": {
        "id": "4Zm2NaNTrOa3",
        "colab_type": "code",
        "colab": {}
      },
      "source": [
        "ciclo_1 = 0 \n",
        "for n in range(N):\n",
        "  for i in range(len(mat)):\n",
        "    for j in range(len(mat[0])):\n",
        "      if mat[i][j] >= 4: #regla\n",
        "        ciclo_1 += 1\n",
        "        mat[i][j] -= 4\n",
        "        mat[i-1][j] += 1\n",
        "        mat[i+1][j] += 1\n",
        "        mat[i][j-1] += 1\n",
        "        mat[i][j+1] += 1"
      ],
      "execution_count": 0,
      "outputs": []
    },
    {
      "cell_type": "code",
      "metadata": {
        "id": "LChIylDvthee",
        "colab_type": "code",
        "outputId": "8c3d6a4d-3858-491b-f1ac-135c3744a680",
        "colab": {
          "base_uri": "https://localhost:8080/",
          "height": 281
        }
      },
      "source": [
        "print(\"Número de veces que se aplicó la regla: \", ciclo_1)\n",
        "plt.matshow(mat)\n",
        "plt.colorbar()\n",
        "plt.show()"
      ],
      "execution_count": 6,
      "outputs": [
        {
          "output_type": "stream",
          "text": [
            "Número de veces que se aplicó la regla:  342\n"
          ],
          "name": "stdout"
        },
        {
          "output_type": "display_data",
          "data": {
            "image/png": "[encoded data removed]",
            "text/plain": [
              "<Figure size 288x288 with 2 Axes>"
            ]
          },
          "metadata": {
            "tags": []
          }
        }
      ]
    },
    {
      "cell_type": "markdown",
      "metadata": {
        "id": "mJZhlLWde9PK",
        "colab_type": "text"
      },
      "source": [
        "#Parte 2\n",
        "Notemos que el algoritmo anterior admite una pequeña optimización, pues reparte los granos de arena de a 4 unidades. Se implementará por tanto una porción de código que reparta todo lo que se pueda (mayor múltiplo de 4) a sus vecinos cardinales. "
      ]
    },
    {
      "cell_type": "code",
      "metadata": {
        "id": "X-f7c1PEQ_in",
        "colab_type": "code",
        "outputId": "4ad442c2-8b5c-44bb-ddd8-6775f3eccfc9",
        "colab": {
          "base_uri": "https://localhost:8080/",
          "height": 34
        }
      },
      "source": [
        "N = input(\"Inserte número de granitos de arena a apilar: \")\n",
        "N = int(N)\n",
        "L = 2*np.sqrt(N/np.pi/2)\n",
        "L = int(L)"
      ],
      "execution_count": 3,
      "outputs": [
        {
          "output_type": "stream",
          "text": [
            "Inserte número de granitos de arena a apilar: 10000\n"
          ],
          "name": "stdout"
        }
      ]
    },
    {
      "cell_type": "code",
      "metadata": {
        "id": "8NzP4DzV1I4y",
        "colab_type": "code",
        "colab": {}
      },
      "source": [
        "mat = np.zeros((L,L))\n",
        "mat[L//2][L//2] = N"
      ],
      "execution_count": 0,
      "outputs": []
    },
    {
      "cell_type": "markdown",
      "metadata": {
        "id": "uRylr6R3fpNq",
        "colab_type": "text"
      },
      "source": [
        "Nuevamente, se guarda la cantidad de veces en las que se aplica la regla. "
      ]
    },
    {
      "cell_type": "code",
      "metadata": {
        "id": "8Z3IemoPzn74",
        "colab_type": "code",
        "colab": {}
      },
      "source": [
        "ciclo_2 = 0\n",
        "for n in range(N):\n",
        "  for i in range(len(mat)):\n",
        "    for j in range(len(mat[0])):\n",
        "      if mat[i][j] >= 4:\n",
        "        ciclo_2 += 1\n",
        "        granitos = mat[i][j] - mat[i][j] % 4 #notar que si granitos == 4 recuperamos programa anterior\n",
        "        mat[i][j] -= granitos\n",
        "        mat[i-1][j] += granitos / 4\n",
        "        mat[i+1][j] += granitos / 4\n",
        "        mat[i][j-1] += granitos / 4\n",
        "        mat[i][j+1] += granitos / 4"
      ],
      "execution_count": 0,
      "outputs": []
    },
    {
      "cell_type": "code",
      "metadata": {
        "id": "jLtL7XpL0rXA",
        "colab_type": "code",
        "outputId": "afd9b338-03b5-47a0-f33c-1700567adf9e",
        "colab": {
          "base_uri": "https://localhost:8080/",
          "height": 281
        }
      },
      "source": [
        "print(\"Número de veces que se aplicó la regla: \", ciclo_2)\n",
        "plt.matshow(mat)\n",
        "plt.colorbar()\n",
        "plt.show()"
      ],
      "execution_count": 6,
      "outputs": [
        {
          "output_type": "stream",
          "text": [
            "Número de veces que se aplicó la regla:  1196817\n"
          ],
          "name": "stdout"
        },
        {
          "output_type": "display_data",
          "data": {
            "image/png": "[encoded data removed]",
            "text/plain": [
              "<Figure size 288x288 with 2 Axes>"
            ]
          },
          "metadata": {
            "tags": []
          }
        }
      ]
    },
    {
      "cell_type": "markdown",
      "metadata": {
        "id": "m73onBdtq4UC",
        "colab_type": "text"
      },
      "source": [
        "#Parte 3\n",
        "Se ejecutarán ahora ambos algoritmos para distintos valores de $N$. El gráfico resultante permitirá comparar ambos métodos."
      ]
    },
    {
      "cell_type": "markdown",
      "metadata": {
        "id": "pdYPVplq4Dlu",
        "colab_type": "text"
      },
      "source": [
        "Estado final para $N = 128$\n",
        "\n",
        "![128](https://github.com/DiegoRomanCortes/AED/blob/master/128.png?raw=true)\n",
        "\n",
        "Estado final para $N = 25000$\n",
        "\n",
        "![25000](https://github.com/DiegoRomanCortes/AED/blob/master/25000.png?raw=true)"
      ]
    },
    {
      "cell_type": "markdown",
      "metadata": {
        "id": "UeLQMArD4jQj",
        "colab_type": "text"
      },
      "source": [
        "![texto alternativo](https://github.com/DiegoRomanCortes/AED/blob/master/alg25000.png?raw=true)"
      ]
    },
    {
      "cell_type": "markdown",
      "metadata": {
        "id": "0ZFZnE_w0AR9",
        "colab_type": "text"
      },
      "source": [
        "##Código para leer tabla"
      ]
    },
    {
      "cell_type": "code",
      "metadata": {
        "id": "k3IFfyJ0y1eQ",
        "colab_type": "code",
        "outputId": "ec5ec227-0b00-45c5-a2f0-323be28b76e4",
        "colab": {
          "base_uri": "https://localhost:8080/",
          "height": 1156
        }
      },
      "source": [
        "import pandas as pd\n",
        "from google.colab import data_table #así se despliega completamente el DataFrame (sacado de los fragmento de código de colab)\n",
        "\n",
        "archivo = \"https://github.com/DiegoRomanCortes/AED/blob/master/alg25000.csv?raw=true\"\n",
        "df = pd.read_csv(archivo)\n",
        "df = df.drop(\"Unnamed: 0\", axis = 1) #al guardarla, lo hace con los índices\n",
        "\n",
        "razon = df['Algoritmo 1']/df['Algoritmo 2']\n",
        "razon = razon.mean()\n",
        "razon = razon*100//1/100\n",
        "print(\"El algoritmo 1 ejecuta en promedio\", razon, \"veces más la regla de derrumbe que el algoritmo 2\")\n",
        "\n",
        "data_table.DataTable(df, include_index=False, num_rows_per_page=50)"
      ],
      "execution_count": 7,
      "outputs": [
        {
          "output_type": "stream",
          "text": [
            "El algoritmo 1 ejecuta en promedio 1.53 veces más la regla de derrumbe que el algoritmo 2\n"
          ],
          "name": "stdout"
        },
        {
          "output_type": "execute_result",
          "data": {
            "application/vnd.google.colaboratory.module+javascript": "\n      import \"https://ssl.gstatic.com/colaboratory/data_table/84ef27dae82052e3/data_table.js\";\n\n      window.createDataTable({\n        data: [[{\n            'v': 128,\n            'f': \"128\",\n        },\n{\n            'v': 342,\n            'f': \"342\",\n        },\n{\n            'v': 227,\n            'f': \"227\",\n        }],\n [{\n            'v': 635,\n            'f': \"635\",\n        },\n{\n            'v': 7487,\n            'f': \"7487\",\n        },\n{\n            'v': 4793,\n            'f': \"4793\",\n        }],\n [{\n            'v': 1143,\n            'f': \"1143\",\n        },\n{\n            'v': 24458,\n            'f': \"24458\",\n        },\n{\n            'v': 16078,\n            'f': \"16078\",\n        }],\n [{\n            'v': 1650,\n            'f': \"1650\",\n        },\n{\n            'v': 49881,\n            'f': \"49881\",\n        },\n{\n            'v': 32492,\n            'f': \"32492\",\n        }],\n [{\n            'v': 2158,\n            'f': \"2158\",\n        },\n{\n            'v': 82730,\n            'f': \"82730\",\n        },\n{\n            'v': 53135,\n            'f': \"53135\",\n        }],\n [{\n            'v': 2665,\n            'f': \"2665\",\n        },\n{\n            'v': 133789,\n            'f': \"133789\",\n        },\n{\n            'v': 87992,\n            'f': \"87992\",\n        }],\n [{\n            'v': 3173,\n            'f': \"3173\",\n        },\n{\n            'v': 186435,\n            'f': \"186435\",\n        },\n{\n            'v': 122485,\n            'f': \"122485\",\n        }],\n [{\n            'v': 3681,\n            'f': \"3681\",\n        },\n{\n            'v': 254326,\n            'f': \"254326\",\n        },\n{\n            'v': 167636,\n            'f': \"167636\",\n        }],\n [{\n            'v': 4188,\n            'f': \"4188\",\n        },\n{\n            'v': 326938,\n            'f': \"326938\",\n        },\n{\n            'v': 214903,\n            'f': \"214903\",\n        }],\n [{\n            'v': 4696,\n            'f': \"4696\",\n        },\n{\n            'v': 401556,\n            'f': \"401556\",\n        },\n{\n            'v': 262137,\n            'f': \"262137\",\n        }],\n [{\n            'v': 5203,\n            'f': \"5203\",\n        },\n{\n            'v': 493764,\n            'f': \"493764\",\n        },\n{\n            'v': 321864,\n            'f': \"321864\",\n        }],\n [{\n            'v': 5711,\n            'f': \"5711\",\n        },\n{\n            'v': 591864,\n            'f': \"591864\",\n        },\n{\n            'v': 385438,\n            'f': \"385438\",\n        }],\n [{\n            'v': 6219,\n            'f': \"6219\",\n        },\n{\n            'v': 710489,\n            'f': \"710489\",\n        },\n{\n            'v': 466231,\n            'f': \"466231\",\n        }],\n [{\n            'v': 6726,\n            'f': \"6726\",\n        },\n{\n            'v': 847730,\n            'f': \"847730\",\n        },\n{\n            'v': 559952,\n            'f': \"559952\",\n        }],\n [{\n            'v': 7234,\n            'f': \"7234\",\n        },\n{\n            'v': 967174,\n            'f': \"967174\",\n        },\n{\n            'v': 633936,\n            'f': \"633936\",\n        }],\n [{\n            'v': 7741,\n            'f': \"7741\",\n        },\n{\n            'v': 1087951,\n            'f': \"1087951\",\n        },\n{\n            'v': 709311,\n            'f': \"709311\",\n        }],\n [{\n            'v': 8249,\n            'f': \"8249\",\n        },\n{\n            'v': 1237126,\n            'f': \"1237126\",\n        },\n{\n            'v': 808172,\n            'f': \"808172\",\n        }],\n [{\n            'v': 8757,\n            'f': \"8757\",\n        },\n{\n            'v': 1413691,\n            'f': \"1413691\",\n        },\n{\n            'v': 928341,\n            'f': \"928341\",\n        }],\n [{\n            'v': 9264,\n            'f': \"9264\",\n        },\n{\n            'v': 1582694,\n            'f': \"1582694\",\n        },\n{\n            'v': 1036091,\n            'f': \"1036091\",\n        }],\n [{\n            'v': 9772,\n            'f': \"9772\",\n        },\n{\n            'v': 1757442,\n            'f': \"1757442\",\n        },\n{\n            'v': 1154079,\n            'f': \"1154079\",\n        }],\n [{\n            'v': 10279,\n            'f': \"10279\",\n        },\n{\n            'v': 1914919,\n            'f': \"1914919\",\n        },\n{\n            'v': 1246342,\n            'f': \"1246342\",\n        }],\n [{\n            'v': 10787,\n            'f': \"10787\",\n        },\n{\n            'v': 2094821,\n            'f': \"2094821\",\n        },\n{\n            'v': 1363012,\n            'f': \"1363012\",\n        }],\n [{\n            'v': 11295,\n            'f': \"11295\",\n        },\n{\n            'v': 2330178,\n            'f': \"2330178\",\n        },\n{\n            'v': 1521444,\n            'f': \"1521444\",\n        }],\n [{\n            'v': 11802,\n            'f': \"11802\",\n        },\n{\n            'v': 2566766,\n            'f': \"2566766\",\n        },\n{\n            'v': 1682519,\n            'f': \"1682519\",\n        }],\n [{\n            'v': 12310,\n            'f': \"12310\",\n        },\n{\n            'v': 2771217,\n            'f': \"2771217\",\n        },\n{\n            'v': 1811492,\n            'f': \"1811492\",\n        }],\n [{\n            'v': 12817,\n            'f': \"12817\",\n        },\n{\n            'v': 2985416,\n            'f': \"2985416\",\n        },\n{\n            'v': 1949000,\n            'f': \"1949000\",\n        }],\n [{\n            'v': 13325,\n            'f': \"13325\",\n        },\n{\n            'v': 3235033,\n            'f': \"3235033\",\n        },\n{\n            'v': 2110156,\n            'f': \"2110156\",\n        }],\n [{\n            'v': 13832,\n            'f': \"13832\",\n        },\n{\n            'v': 3506817,\n            'f': \"3506817\",\n        },\n{\n            'v': 2294220,\n            'f': \"2294220\",\n        }],\n [{\n            'v': 14340,\n            'f': \"14340\",\n        },\n{\n            'v': 3714265,\n            'f': \"3714265\",\n        },\n{\n            'v': 2415880,\n            'f': \"2415880\",\n        }],\n [{\n            'v': 14848,\n            'f': \"14848\",\n        },\n{\n            'v': 3997312,\n            'f': \"3997312\",\n        },\n{\n            'v': 2601199,\n            'f': \"2601199\",\n        }],\n [{\n            'v': 15355,\n            'f': \"15355\",\n        },\n{\n            'v': 4310481,\n            'f': \"4310481\",\n        },\n{\n            'v': 2818909,\n            'f': \"2818909\",\n        }],\n [{\n            'v': 15863,\n            'f': \"15863\",\n        },\n{\n            'v': 4545866,\n            'f': \"4545866\",\n        },\n{\n            'v': 2951120,\n            'f': \"2951120\",\n        }],\n [{\n            'v': 16370,\n            'f': \"16370\",\n        },\n{\n            'v': 4899528,\n            'f': \"4899528\",\n        },\n{\n            'v': 3204166,\n            'f': \"3204166\",\n        }],\n [{\n            'v': 16878,\n            'f': \"16878\",\n        },\n{\n            'v': 5154156,\n            'f': \"5154156\",\n        },\n{\n            'v': 3353381,\n            'f': \"3353381\",\n        }],\n [{\n            'v': 17386,\n            'f': \"17386\",\n        },\n{\n            'v': 5500737,\n            'f': \"5500737\",\n        },\n{\n            'v': 3584337,\n            'f': \"3584337\",\n        }],\n [{\n            'v': 17893,\n            'f': \"17893\",\n        },\n{\n            'v': 5763082,\n            'f': \"5763082\",\n        },\n{\n            'v': 3739356,\n            'f': \"3739356\",\n        }],\n [{\n            'v': 18401,\n            'f': \"18401\",\n        },\n{\n            'v': 6132437,\n            'f': \"6132437\",\n        },\n{\n            'v': 3990149,\n            'f': \"3990149\",\n        }],\n [{\n            'v': 18908,\n            'f': \"18908\",\n        },\n{\n            'v': 6488309,\n            'f': \"6488309\",\n        },\n{\n            'v': 4230647,\n            'f': \"4230647\",\n        }],\n [{\n            'v': 19416,\n            'f': \"19416\",\n        },\n{\n            'v': 6848133,\n            'f': \"6848133\",\n        },\n{\n            'v': 4464852,\n            'f': \"4464852\",\n        }],\n [{\n            'v': 19924,\n            'f': \"19924\",\n        },\n{\n            'v': 7272652,\n            'f': \"7272652\",\n        },\n{\n            'v': 4754319,\n            'f': \"4754319\",\n        }],\n [{\n            'v': 20431,\n            'f': \"20431\",\n        },\n{\n            'v': 7551497,\n            'f': \"7551497\",\n        },\n{\n            'v': 4912500,\n            'f': \"4912500\",\n        }],\n [{\n            'v': 20939,\n            'f': \"20939\",\n        },\n{\n            'v': 7898792,\n            'f': \"7898792\",\n        },\n{\n            'v': 5121781,\n            'f': \"5121781\",\n        }],\n [{\n            'v': 21446,\n            'f': \"21446\",\n        },\n{\n            'v': 8352054,\n            'f': \"8352054\",\n        },\n{\n            'v': 5444313,\n            'f': \"5444313\",\n        }],\n [{\n            'v': 21954,\n            'f': \"21954\",\n        },\n{\n            'v': 8700362,\n            'f': \"8700362\",\n        },\n{\n            'v': 5658355,\n            'f': \"5658355\",\n        }],\n [{\n            'v': 22462,\n            'f': \"22462\",\n        },\n{\n            'v': 9184113,\n            'f': \"9184113\",\n        },\n{\n            'v': 5988538,\n            'f': \"5988538\",\n        }],\n [{\n            'v': 22969,\n            'f': \"22969\",\n        },\n{\n            'v': 9571919,\n            'f': \"9571919\",\n        },\n{\n            'v': 6227014,\n            'f': \"6227014\",\n        }],\n [{\n            'v': 23477,\n            'f': \"23477\",\n        },\n{\n            'v': 9948510,\n            'f': \"9948510\",\n        },\n{\n            'v': 6462816,\n            'f': \"6462816\",\n        }],\n [{\n            'v': 23984,\n            'f': \"23984\",\n        },\n{\n            'v': 10474973,\n            'f': \"10474973\",\n        },\n{\n            'v': 6830937,\n            'f': \"6830937\",\n        }],\n [{\n            'v': 24492,\n            'f': \"24492\",\n        },\n{\n            'v': 10857010,\n            'f': \"10857010\",\n        },\n{\n            'v': 7068120,\n            'f': \"7068120\",\n        }],\n [{\n            'v': 25000,\n            'f': \"25000\",\n        },\n{\n            'v': 11323826,\n            'f': \"11323826\",\n        },\n{\n            'v': 7365295,\n            'f': \"7365295\",\n        }]],\n        columns: [[\"number\", \"N\\u00famero de granos de arena\"], [\"number\", \"Algoritmo 1\"], [\"number\", \"Algoritmo 2\"]],\n        columnOptions: [],\n        rowsPerPage: 50,\n        helpUrl: \"https://colab.research.google.com/notebooks/data_table.ipynb\",\n        suppressOutputScrolling: true,\n      });\n    ",
            "text/plain": [
              "<google.colab.data_table.DataTable object>"
            ],
            "text/html": [
              "<div>\n",
              "<style scoped>\n",
              "    .dataframe tbody tr th:only-of-type {\n",
              "        vertical-align: middle;\n",
              "    }\n",
              "\n",
              "    .dataframe tbody tr th {\n",
              "        vertical-align: top;\n",
              "    }\n",
              "\n",
              "    .dataframe thead th {\n",
              "        text-align: right;\n",
              "    }\n",
              "</style>\n",
              "<table border=\"1\" class=\"dataframe\">\n",
              "  <thead>\n",
              "    <tr style=\"text-align: right;\">\n",
              "      <th></th>\n",
              "      <th>Número de granos de arena</th>\n",
              "      <th>Algoritmo 1</th>\n",
              "      <th>Algoritmo 2</th>\n",
              "    </tr>\n",
              "  </thead>\n",
              "  <tbody>\n",
              "    <tr>\n",
              "      <th>0</th>\n",
              "      <td>128</td>\n",
              "      <td>342</td>\n",
              "      <td>227</td>\n",
              "    </tr>\n",
              "    <tr>\n",
              "      <th>1</th>\n",
              "      <td>635</td>\n",
              "      <td>7487</td>\n",
              "      <td>4793</td>\n",
              "    </tr>\n",
              "    <tr>\n",
              "      <th>2</th>\n",
              "      <td>1143</td>\n",
              "      <td>24458</td>\n",
              "      <td>16078</td>\n",
              "    </tr>\n",
              "    <tr>\n",
              "      <th>3</th>\n",
              "      <td>1650</td>\n",
              "      <td>49881</td>\n",
              "      <td>32492</td>\n",
              "    </tr>\n",
              "    <tr>\n",
              "      <th>4</th>\n",
              "      <td>2158</td>\n",
              "      <td>82730</td>\n",
              "      <td>53135</td>\n",
              "    </tr>\n",
              "    <tr>\n",
              "      <th>5</th>\n",
              "      <td>2665</td>\n",
              "      <td>133789</td>\n",
              "      <td>87992</td>\n",
              "    </tr>\n",
              "    <tr>\n",
              "      <th>6</th>\n",
              "      <td>3173</td>\n",
              "      <td>186435</td>\n",
              "      <td>122485</td>\n",
              "    </tr>\n",
              "    <tr>\n",
              "      <th>7</th>\n",
              "      <td>3681</td>\n",
              "      <td>254326</td>\n",
              "      <td>167636</td>\n",
              "    </tr>\n",
              "    <tr>\n",
              "      <th>8</th>\n",
              "      <td>4188</td>\n",
              "      <td>326938</td>\n",
              "      <td>214903</td>\n",
              "    </tr>\n",
              "    <tr>\n",
              "      <th>9</th>\n",
              "      <td>4696</td>\n",
              "      <td>401556</td>\n",
              "      <td>262137</td>\n",
              "    </tr>\n",
              "    <tr>\n",
              "      <th>10</th>\n",
              "      <td>5203</td>\n",
              "      <td>493764</td>\n",
              "      <td>321864</td>\n",
              "    </tr>\n",
              "    <tr>\n",
              "      <th>11</th>\n",
              "      <td>5711</td>\n",
              "      <td>591864</td>\n",
              "      <td>385438</td>\n",
              "    </tr>\n",
              "    <tr>\n",
              "      <th>12</th>\n",
              "      <td>6219</td>\n",
              "      <td>710489</td>\n",
              "      <td>466231</td>\n",
              "    </tr>\n",
              "    <tr>\n",
              "      <th>13</th>\n",
              "      <td>6726</td>\n",
              "      <td>847730</td>\n",
              "      <td>559952</td>\n",
              "    </tr>\n",
              "    <tr>\n",
              "      <th>14</th>\n",
              "      <td>7234</td>\n",
              "      <td>967174</td>\n",
              "      <td>633936</td>\n",
              "    </tr>\n",
              "    <tr>\n",
              "      <th>15</th>\n",
              "      <td>7741</td>\n",
              "      <td>1087951</td>\n",
              "      <td>709311</td>\n",
              "    </tr>\n",
              "    <tr>\n",
              "      <th>16</th>\n",
              "      <td>8249</td>\n",
              "      <td>1237126</td>\n",
              "      <td>808172</td>\n",
              "    </tr>\n",
              "    <tr>\n",
              "      <th>17</th>\n",
              "      <td>8757</td>\n",
              "      <td>1413691</td>\n",
              "      <td>928341</td>\n",
              "    </tr>\n",
              "    <tr>\n",
              "      <th>18</th>\n",
              "      <td>9264</td>\n",
              "      <td>1582694</td>\n",
              "      <td>1036091</td>\n",
              "    </tr>\n",
              "    <tr>\n",
              "      <th>19</th>\n",
              "      <td>9772</td>\n",
              "      <td>1757442</td>\n",
              "      <td>1154079</td>\n",
              "    </tr>\n",
              "    <tr>\n",
              "      <th>20</th>\n",
              "      <td>10279</td>\n",
              "      <td>1914919</td>\n",
              "      <td>1246342</td>\n",
              "    </tr>\n",
              "    <tr>\n",
              "      <th>21</th>\n",
              "      <td>10787</td>\n",
              "      <td>2094821</td>\n",
              "      <td>1363012</td>\n",
              "    </tr>\n",
              "    <tr>\n",
              "      <th>22</th>\n",
              "      <td>11295</td>\n",
              "      <td>2330178</td>\n",
              "      <td>1521444</td>\n",
              "    </tr>\n",
              "    <tr>\n",
              "      <th>23</th>\n",
              "      <td>11802</td>\n",
              "      <td>2566766</td>\n",
              "      <td>1682519</td>\n",
              "    </tr>\n",
              "    <tr>\n",
              "      <th>24</th>\n",
              "      <td>12310</td>\n",
              "      <td>2771217</td>\n",
              "      <td>1811492</td>\n",
              "    </tr>\n",
              "    <tr>\n",
              "      <th>25</th>\n",
              "      <td>12817</td>\n",
              "      <td>2985416</td>\n",
              "      <td>1949000</td>\n",
              "    </tr>\n",
              "    <tr>\n",
              "      <th>26</th>\n",
              "      <td>13325</td>\n",
              "      <td>3235033</td>\n",
              "      <td>2110156</td>\n",
              "    </tr>\n",
              "    <tr>\n",
              "      <th>27</th>\n",
              "      <td>13832</td>\n",
              "      <td>3506817</td>\n",
              "      <td>2294220</td>\n",
              "    </tr>\n",
              "    <tr>\n",
              "      <th>28</th>\n",
              "      <td>14340</td>\n",
              "      <td>3714265</td>\n",
              "      <td>2415880</td>\n",
              "    </tr>\n",
              "    <tr>\n",
              "      <th>29</th>\n",
              "      <td>14848</td>\n",
              "      <td>3997312</td>\n",
              "      <td>2601199</td>\n",
              "    </tr>\n",
              "    <tr>\n",
              "      <th>30</th>\n",
              "      <td>15355</td>\n",
              "      <td>4310481</td>\n",
              "      <td>2818909</td>\n",
              "    </tr>\n",
              "    <tr>\n",
              "      <th>31</th>\n",
              "      <td>15863</td>\n",
              "      <td>4545866</td>\n",
              "      <td>2951120</td>\n",
              "    </tr>\n",
              "    <tr>\n",
              "      <th>32</th>\n",
              "      <td>16370</td>\n",
              "      <td>4899528</td>\n",
              "      <td>3204166</td>\n",
              "    </tr>\n",
              "    <tr>\n",
              "      <th>33</th>\n",
              "      <td>16878</td>\n",
              "      <td>5154156</td>\n",
              "      <td>3353381</td>\n",
              "    </tr>\n",
              "    <tr>\n",
              "      <th>34</th>\n",
              "      <td>17386</td>\n",
              "      <td>5500737</td>\n",
              "      <td>3584337</td>\n",
              "    </tr>\n",
              "    <tr>\n",
              "      <th>35</th>\n",
              "      <td>17893</td>\n",
              "      <td>5763082</td>\n",
              "      <td>3739356</td>\n",
              "    </tr>\n",
              "    <tr>\n",
              "      <th>36</th>\n",
              "      <td>18401</td>\n",
              "      <td>6132437</td>\n",
              "      <td>3990149</td>\n",
              "    </tr>\n",
              "    <tr>\n",
              "      <th>37</th>\n",
              "      <td>18908</td>\n",
              "      <td>6488309</td>\n",
              "      <td>4230647</td>\n",
              "    </tr>\n",
              "    <tr>\n",
              "      <th>38</th>\n",
              "      <td>19416</td>\n",
              "      <td>6848133</td>\n",
              "      <td>4464852</td>\n",
              "    </tr>\n",
              "    <tr>\n",
              "      <th>39</th>\n",
              "      <td>19924</td>\n",
              "      <td>7272652</td>\n",
              "      <td>4754319</td>\n",
              "    </tr>\n",
              "    <tr>\n",
              "      <th>40</th>\n",
              "      <td>20431</td>\n",
              "      <td>7551497</td>\n",
              "      <td>4912500</td>\n",
              "    </tr>\n",
              "    <tr>\n",
              "      <th>41</th>\n",
              "      <td>20939</td>\n",
              "      <td>7898792</td>\n",
              "      <td>5121781</td>\n",
              "    </tr>\n",
              "    <tr>\n",
              "      <th>42</th>\n",
              "      <td>21446</td>\n",
              "      <td>8352054</td>\n",
              "      <td>5444313</td>\n",
              "    </tr>\n",
              "    <tr>\n",
              "      <th>43</th>\n",
              "      <td>21954</td>\n",
              "      <td>8700362</td>\n",
              "      <td>5658355</td>\n",
              "    </tr>\n",
              "    <tr>\n",
              "      <th>44</th>\n",
              "      <td>22462</td>\n",
              "      <td>9184113</td>\n",
              "      <td>5988538</td>\n",
              "    </tr>\n",
              "    <tr>\n",
              "      <th>45</th>\n",
              "      <td>22969</td>\n",
              "      <td>9571919</td>\n",
              "      <td>6227014</td>\n",
              "    </tr>\n",
              "    <tr>\n",
              "      <th>46</th>\n",
              "      <td>23477</td>\n",
              "      <td>9948510</td>\n",
              "      <td>6462816</td>\n",
              "    </tr>\n",
              "    <tr>\n",
              "      <th>47</th>\n",
              "      <td>23984</td>\n",
              "      <td>10474973</td>\n",
              "      <td>6830937</td>\n",
              "    </tr>\n",
              "    <tr>\n",
              "      <th>48</th>\n",
              "      <td>24492</td>\n",
              "      <td>10857010</td>\n",
              "      <td>7068120</td>\n",
              "    </tr>\n",
              "    <tr>\n",
              "      <th>49</th>\n",
              "      <td>25000</td>\n",
              "      <td>11323826</td>\n",
              "      <td>7365295</td>\n",
              "    </tr>\n",
              "  </tbody>\n",
              "</table>\n",
              "</div>"
            ]
          },
          "metadata": {
            "tags": []
          },
          "execution_count": 7
        }
      ]
    },
    {
      "cell_type": "markdown",
      "metadata": {
        "id": "1SQK4J3UzxZn",
        "colab_type": "text"
      },
      "source": [
        "##Código para graficar"
      ]
    },
    {
      "cell_type": "code",
      "metadata": {
        "id": "z8GCZ2xWtWHy",
        "colab_type": "code",
        "colab": {}
      },
      "source": [
        "def alg_1(N, mat):\n",
        "  ciclo_1 = 0 \n",
        "  for n in range(N):\n",
        "    for i in range(len(mat)):\n",
        "      for j in range(len(mat[0])):\n",
        "        if mat[i][j] >= 4: #regla\n",
        "          ciclo_1 += 1\n",
        "          mat[i][j] -= 4\n",
        "          mat[i-1][j] += 1\n",
        "          mat[i+1][j] += 1\n",
        "          mat[i][j-1] += 1\n",
        "          mat[i][j+1] += 1\n",
        "  return(mat, ciclo_1)\n",
        "\n",
        "def alg_2(N, mat):\n",
        "  ciclo_2 = 0\n",
        "  for n in range(N):\n",
        "    for i in range(len(mat)):\n",
        "      for j in range(len(mat[0])):\n",
        "        if mat[i][j] >= 4:\n",
        "          ciclo_2 += 1\n",
        "          granitos = mat[i][j] - mat[i][j] % 4 #notar que si granitos == 4 recuperamos programa anterior\n",
        "          mat[i][j] -= granitos\n",
        "          mat[i-1][j] += granitos / 4\n",
        "          mat[i+1][j] += granitos / 4\n",
        "          mat[i][j-1] += granitos / 4\n",
        "          mat[i][j+1] += granitos / 4\n",
        "  return(mat, ciclo_2)\n",
        "\n",
        "def corre(alg, N):\n",
        "  N = int(N)\n",
        "  L = 2*np.sqrt(N/np.pi/2) #aquí me di cuenta que en promedio cada casilla debería tener 2 granitos\n",
        "  L = int(L) + 2\n",
        "  mat = np.zeros((L,L))\n",
        "  mat[L//2][L//2] = N\n",
        "  res = alg(N, mat)\n",
        "  return res"
      ],
      "execution_count": 0,
      "outputs": []
    },
    {
      "cell_type": "code",
      "metadata": {
        "id": "nK7k2mOG1hBl",
        "colab_type": "code",
        "colab": {}
      },
      "source": [
        "enes = np.linspace(128,1000,dtype = int) #para graficar de 128 a 25000 demoró toda una tarde, se cambió el valor final para una posterior ejecucución\n",
        "res_1 = np.zeros(len(enes), dtype = int) \n",
        "res_2 = np.zeros(len(enes), dtype = int)\n",
        "\n",
        "i = 0\n",
        "while i < len(enes):\n",
        "  res_1[i] = corre(alg_1, enes[i])[1]\n",
        "  res_2[i] = corre(alg_2, enes[i])[1]\n",
        "  i += 1"
      ],
      "execution_count": 0,
      "outputs": []
    },
    {
      "cell_type": "code",
      "metadata": {
        "id": "0SdSHn6o1iQh",
        "colab_type": "code",
        "outputId": "acb92a5a-083a-4d54-e7ae-b23c2aa39d4b",
        "colab": {
          "base_uri": "https://localhost:8080/",
          "height": 313
        }
      },
      "source": [
        "plt.figure()\n",
        "\n",
        "plt.plot(enes, res_1, 'r', label = \"Algoritmo Parte 1\")\n",
        "plt.plot(enes, res_2, 'b', label = 'Algoritmo Parte 2')\n",
        "\n",
        "escalar = res_1/res_2\n",
        "e = escalar.mean()\n",
        "e = 100*e//1/100\n",
        "print(\"El algoritmo 1 ejecuta en promedio \",e, \"veces más la regla de derrumbe que el algoritmo 2\")\n",
        "\n",
        "plt.legend()\n",
        "\n",
        "plt.title(\"Compración entre ambos algoritmos\")\n",
        "plt.xlabel(\"Número de granitos de arena\")\n",
        "plt.ylabel(\"Veces totales de repartición de granitos\")\n",
        "plt.show()"
      ],
      "execution_count": 10,
      "outputs": [
        {
          "output_type": "stream",
          "text": [
            "El algoritmo 1 ejecuta en promedio  1.53 veces más la regla de derrumbe que el algoritmo 2\n"
          ],
          "name": "stdout"
        },
        {
          "output_type": "display_data",
          "data": {
            "image/png": "[encoded data removed]",
            "text/plain": [
              "<Figure size 432x288 with 1 Axes>"
            ]
          },
          "metadata": {
            "tags": []
          }
        }
      ]
    },
    {
      "cell_type": "markdown",
      "metadata": {
        "id": "QcpAljdGz5tN",
        "colab_type": "text"
      },
      "source": [
        "##Código para guardar tabla"
      ]
    },
    {
      "cell_type": "markdown",
      "metadata": {
        "id": "ZyreqswOGRDc",
        "colab_type": "text"
      },
      "source": [
        "Este es el código usado para generar el archivo que se lee más arriba. Está comentado para que no interfiera en la ejecución final (revisión de la tarea)."
      ]
    },
    {
      "cell_type": "code",
      "metadata": {
        "id": "tVqusnOupGn_",
        "colab_type": "code",
        "colab": {}
      },
      "source": [
        "#import pandas as pd\n",
        "#datos = np.array([enes, res_1, res_2])\n",
        "#print(datos)\n",
        "#np.savetxt('algoritmoshasta25000.txt', datos) \n",
        "#from google.colab import files\n",
        "#df = pd.DataFrame({\"Número de granos de arena\":enes,\"Algoritmo 1\":res_1, \"Algoritmo 2\":res_2})\n",
        "\n",
        "#df.to_csv(\"alg25000.csv\")\n",
        "#files.download('alg25000.csv')"
      ],
      "execution_count": 0,
      "outputs": []
    },
    {
      "cell_type": "markdown",
      "metadata": {
        "id": "vJGjHqKOH7SE",
        "colab_type": "text"
      },
      "source": [
        "#Discusiones\n",
        "Al algoritmo 2 se le ha modificado la regla, de modo que reparta todo su exceso a sus vecinos cardinales (en lugar de hacerlo cada 4 granitos). Esta mejora pretendía reducir considerablemente el tiempo de ejecución, pues se parte con un montón de $N$ granitos de arena en el centro cuya repartición en el primer algoritmo se hacía cada vez que se iniciaba un nuevo ciclo de repartición. \n",
        "\n",
        "Dados los datos graficados de ambos algoritmos, se puede extraer que la implementación de la pequeña optimización redujo la cantidad de veces que la regla era aplicada (el primer algoritmo aplica la regla 1.5 veces más que el segundo). Sin embargo, aquella optimización es despreciable considerando que no se ha cambiado el orden del algoritmo (sigue siendo $O(N^2)$).\n",
        "\n",
        "Una posible optimización puede considerar una nueva forma de recorrer la matriz, de modo que aproveche la distribución simétrica del tablero. Así mismo, el tamaño del tablero no es siempre el mínimo posible, lo que ocasiona búsquedas innecesarias."
      ]
    },
    {
      "cell_type": "markdown",
      "metadata": {
        "id": "bJlD0FmRH-jI",
        "colab_type": "text"
      },
      "source": [
        "#Conclusión\n",
        "\n",
        "El objetivo de este trabjo era simular el derrumbe de una pila de granos de arena a través de una regla simplificada. Si bien no tiene símil con la realidad, los algoritmos programados permiten notar la eficiencia que puede adquirir un programa si el problema a resolver se analiza cuidadosamente de forma tal que se ocupe todo elemento favorable a una mejor ejecución. El cambio entre la Parte 1 y la 2 permitió reducir la aplicación de la regla de derrumbe en un $67 \\%$."
      ]
    }
  ]
}