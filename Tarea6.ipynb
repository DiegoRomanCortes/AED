{
  "nbformat": 4,
  "nbformat_minor": 0,
  "metadata": {
    "kernelspec": {
      "display_name": "Python 3",
      "language": "python",
      "name": "python3"
    },
    "language_info": {
      "codemirror_mode": {
        "name": "ipython",
        "version": 3
      },
      "file_extension": ".py",
      "mimetype": "text/x-python",
      "name": "python",
      "nbconvert_exporter": "python",
      "pygments_lexer": "ipython3",
      "version": "3.7.1"
    },
    "colab": {
      "name": "Copy of Tarea6.ipynb",
      "provenance": [],
      "include_colab_link": true
    }
  },
  "cells": [
    {
      "cell_type": "markdown",
      "metadata": {
        "id": "view-in-github",
        "colab_type": "text"
      },
      "source": [
        "<a href=\"https://colab.research.google.com/github/DiegoRomanCortes/AED/blob/pr%2F1/Tarea6.ipynb\" target=\"_parent\"><img src=\"https://colab.research.google.com/assets/colab-badge.svg\" alt=\"Open In Colab\"/></a>"
      ]
    },
    {
      "cell_type": "markdown",
      "metadata": {
        "id": "oI4yT_8ERcDK",
        "colab_type": "text"
      },
      "source": [
        "# CC3001 Otoño 2020 Tarea 6\n",
        "\n",
        "## Árboles 2-3\n",
        "\n",
        "Nombre: Diego Román\n",
        "\n",
        "Profesores: Sección 1 Patricio Poblete / Sección 2 Nelson Baloian\n",
        "\n",
        "Plazo: Lunes 20 de julio de 2020 a las 23:59"
      ]
    },
    {
      "cell_type": "markdown",
      "metadata": {
        "id": "U-xBuiMRRcDN",
        "colab_type": "text"
      },
      "source": [
        "El objetivo de esta tarea es que usted implemente árboles 2-3. Si ve en el apunte, para los árboles AVL aparece la implementación, pero no así para los árboles 2-3. Usted debe ayudar a completar el apunte y si lo hace bien, es posible que en el futuro aparezca su código en este capítulo.\n",
        "\n",
        "A continuación aparece algo de código para ayudarlo a partir. Hay dos tipos de nodos internos (``Nodo2`` y ``Nodo3``), según si ese nodo es binario o ternario, y un tipo de nodo externo u hoja (``Nodoe``). Además, está la clase ``Arbol23``, que es el punto de partida. Las operaciones que usted tiene que implementar son ``insert`` y ``search``.\n",
        "\n",
        "En varias partes se ha rellenado con código provisorio, para que compile. Usted debe reemplazar y completar todo lo que sea necesario para que todo funcione.\n",
        "\n",
        "El código esbozado más abajo está orientado a una implementación recursiva, la que podemos describir de la siguiente manera:\n",
        "\n",
        "* Si se inserta una llave en un nodo binario, hay que insertarla recursivamente en el hijo izquierdo o en el derecho, según corresponda. Si esto no produce un *split* del hijo, el resultado es un puntero al nodo resultante (que puede ser binario o ternario), lo cual se anota en el lugar respectivo y se retorna un puntero al nodo resultante. Pero si el hijo se divide, se recibe el resultado que es una tupla que contiene el árbol izquierdo, el árbol derecho, y la llave que los separa. Con esto este nodo tiene la información para mutar a ternario y retornar el resultado.\n",
        "\n",
        "* Si se inserta una llave en un nodo ternario hay que insertarla recursivamente en el hijo izquierdo, en el del medio o en el derecho, según corresponda. Si esto no produce un *split* del hijo, el resultado es un puntero al nodo resultante (que puede ser binario o ternario), lo cual se anota en el lugar respectivo y se retorna un puntero al nodo resultante. Pero si el hijo se divide, se recibe el resultado que es una tupla que contiene el árbol izquierdo, el árbol derecho, y la llave que los separa. Con esto este nodo tiene la información para a su vez dividirse y retornar la tupla resultante.\n",
        "\n",
        "* Lo anterior permite modelar de la misma manera la inserción en una hoja: al recibir una llave, se divide en dos hojas, y la llave entrante las separa. Esto se retorna hacia arriba en la forma de una tupla y se la da el mismo tratamiento anterior.\n",
        "\n",
        "* En la clase ``Arbol23`` hay que estar preparado para recibir una tupla como resultado de la inserción, lo cual indicaría que la raíz se dividió. En ese caso, hay que crear nodo binario para que sea la nueva raíz.\n",
        "\n",
        "La operación de búsqueda (``search``) debe retornar un puntero al nodo que contiene la llave buscada, en caso de ser exitosa, o ``None`` si es infructuosa."
      ]
    },
    {
      "cell_type": "code",
      "metadata": {
        "id": "nxsGXBsERcDP",
        "colab_type": "code",
        "colab": {}
      },
      "source": [
        "class Nodo2:\n",
        "    def __init__(self, izq, info, der):\n",
        "        self.izq=izq\n",
        "        self.info=info\n",
        "        self.der=der\n",
        "        \n",
        "    def insert(self,x):\n",
        "        assert x != self.info #asegurarse que no haya elementos repetidos\n",
        "        if x < self.info:\n",
        "            p = self.izq.insert(x) #insertamos recursivamente donde corresponda\n",
        "            if type(p) == tuple: #si es una tupla quiere decir que se produjo un split en la llamada recursiva\n",
        "                (izq_new, info_new, der_new) = p\n",
        "                return Nodo3(izq_new, info_new, der_new, self.info, self.der) #el nodo2 se convierte en nodo3 con los parámetros que recibe\n",
        "            else: #caso sin split\n",
        "                self.izq = p #se actualiza el hijo acorde a los cambios debidos a la insercion\n",
        "                return self #se retorna el puntero\n",
        "        else: #analogo\n",
        "            p = self.der.insert(x)\n",
        "            if type(p) == tuple:\n",
        "                (izq_new, info_new, der_new) = p\n",
        "                return Nodo3(self.izq, self.info, izq_new, info_new, der_new)\n",
        "            else:\n",
        "                self.der = p\n",
        "                return self\n",
        "\n",
        "    def search(self,x):\n",
        "        if x == self.info: #encontramos x en el arbol\n",
        "          return self #retornamos el puntero al nodo que lo contenía\n",
        "        elif x < self.info: #debe estar en el hijo izquierdo\n",
        "          return self.izq.search(x) #llamada recursiva\n",
        "        else: #debe estar en el hijo derecho\n",
        "          return self.der.search(x) #análogo\n",
        "        \n",
        "    def string(self):\n",
        "        return (\"(\"+self.izq.string()\n",
        "                +str(self.info)\n",
        "                +self.der.string()+\")\")\n",
        "\n",
        "class Nodo3:\n",
        "    def __init__(self, izq, info1, med, info2, der):\n",
        "        self.izq=izq\n",
        "        self.info1=info1\n",
        "        self.med=med\n",
        "        self.info2=info2\n",
        "        self.der=der\n",
        "        \n",
        "    def insert(self,x):\n",
        "        assert x != self.info1 and x != self.info2\n",
        "        if x < self.info1:\n",
        "          p = self.izq.insert(x)\n",
        "          if type(p) == tuple:\n",
        "                (izq_new, info_new, der_new) = p\n",
        "                izq_new = Nodo2(izq_new, info_new, der_new)\n",
        "                der_new = Nodo2(self.med, self.info2, self.der)\n",
        "                return (izq_new, self.info1, der_new) #se devuelve una tuple para 'avisar' que hubo un split\n",
        "          else:\n",
        "                self.izq = p\n",
        "                return self\n",
        "        elif x > self.info1 and x < self.info2:\n",
        "          p = self.med.insert(x)\n",
        "          if type(p) == tuple:\n",
        "                (izq_new, info_new, der_new) = p\n",
        "                izq_new = Nodo2(self.izq, self.info1, izq_new)\n",
        "                der_new = Nodo2(der_new, self.info2 ,self.der)\n",
        "                return (izq_new, info_new, der_new)\n",
        "          else:\n",
        "                self.med = p\n",
        "                return self\n",
        "        else: #x > self.info2\n",
        "          p = self.der.insert(x)\n",
        "          if type(p) == tuple:\n",
        "                (izq_new, info_new, der_new) = p\n",
        "                der_new = Nodo2(izq_new, info_new, der_new)\n",
        "                izq_new = Nodo2(self.izq, self.info1, self.med)\n",
        "                return (izq_new, self.info2, der_new)\n",
        "          else:\n",
        "                self.der = p\n",
        "                return self\n",
        "\n",
        "    def search(self,x):\n",
        "        #mismo razonamiento que para Nodo2, solo que hay más casos\n",
        "        if x == self.info1 or x == self.info2:\n",
        "          return self\n",
        "        elif x < self.info1:\n",
        "          return self.izq.search(x)\n",
        "        elif x > self.info1 and x < self.info2:\n",
        "          return self.med.search(x)\n",
        "        else: #x > self.info2\n",
        "          return self.der.search(x)\n",
        "\n",
        "    def string(self):\n",
        "        return (\"(\"+self.izq.string()\n",
        "                +str(self.info1)\n",
        "                +self.med.string()\n",
        "                +str(self.info2)\n",
        "                +self.der.string()+\")\")    \n",
        "    \n",
        "class Nodoe:\n",
        "    def __init__(self):\n",
        "        pass\n",
        "\n",
        "    def search(self, x):\n",
        "        return None #Caso base crucial en las llamadas recursivas de Nodo2 y Nodo3\n",
        "\n",
        "    def insert(self,x):\n",
        "        #por defecto se produce un split de nodoe al tratar de insertar un elemento aquí\n",
        "        #esto sirve de caso base para las llamadas recursivas\n",
        "        return (Nodoe(), x, Nodoe()) \n",
        "\n",
        "    def string(self):\n",
        "        return\"☐\"\n",
        "\n",
        "class Arbol23:\n",
        "    def __init__(self,raiz=Nodoe()):\n",
        "        self.raiz=raiz     \n",
        "        \n",
        "    def insert(self,x):\n",
        "        self.raiz = self.raiz.insert(x)\n",
        "        #split de Nodo3\n",
        "        if type(self.raiz) == tuple:\n",
        "          (izq, info, der) = self.raiz\n",
        "          self.raiz = Nodo2(izq, info, der)\n",
        "        \n",
        "    def search(self,x):\n",
        "        return self.raiz.search(x)\n",
        "    \n",
        "    def imprimir(self):        \n",
        "        print(self.raiz.string())"
      ],
      "execution_count": 100,
      "outputs": []
    },
    {
      "cell_type": "markdown",
      "metadata": {
        "id": "DiLEIGrGRcDX",
        "colab_type": "text"
      },
      "source": [
        "Para probar este código, vamos a construir \"a mano\" el árbol 2-3 que aparece en el apunte, y luego imprimirlo:"
      ]
    },
    {
      "cell_type": "code",
      "metadata": {
        "id": "ihrbFTNsRcDY",
        "colab_type": "code",
        "colab": {}
      },
      "source": [
        "a=Nodo3(Nodo2(Nodoe(),10,Nodoe()),25,Nodo3(Nodoe(),32,Nodoe(),48,Nodoe()),57,Nodo2(Nodoe(),74,Nodoe()))"
      ],
      "execution_count": 101,
      "outputs": []
    },
    {
      "cell_type": "code",
      "metadata": {
        "id": "92guaCaLRcDj",
        "colab_type": "code",
        "colab": {
          "base_uri": "https://localhost:8080/",
          "height": 34
        },
        "outputId": "d0604615-b9d6-4833-e47f-60037f7a5c80"
      },
      "source": [
        "print(a.string())"
      ],
      "execution_count": 102,
      "outputs": [
        {
          "output_type": "stream",
          "text": [
            "((☐10☐)25(☐32☐48☐)57(☐74☐))\n"
          ],
          "name": "stdout"
        }
      ]
    },
    {
      "cell_type": "markdown",
      "metadata": {
        "id": "elWj8HAQRcDu",
        "colab_type": "text"
      },
      "source": [
        "Pruebe su código comenzando con un árbol vacío e insertando la siguiente secuencia de llaves:\n",
        "\n",
        "```\n",
        "3, 1, 4, 5, 9, 6, 2\n",
        "```\n",
        "\n",
        "Imprima el árbol resultante después de cada inserción. A continuación, busque \"2\", busque \"3\" y busque \"7\"."
      ]
    },
    {
      "cell_type": "code",
      "metadata": {
        "id": "T591r3Nl3xGs",
        "colab_type": "code",
        "colab": {
          "base_uri": "https://localhost:8080/",
          "height": 136
        },
        "outputId": "dec2007b-06be-48c9-818a-4f5bdaac1298"
      },
      "source": [
        "arbol23 = Arbol23()\n",
        "\n",
        "arbol23.insert(3)\n",
        "arbol23.imprimir()\n",
        "\n",
        "arbol23.insert(1)\n",
        "arbol23.imprimir()\n",
        "\n",
        "arbol23.insert(4)\n",
        "arbol23.imprimir()\n",
        "\n",
        "arbol23.insert(5)\n",
        "arbol23.imprimir()\n",
        "\n",
        "arbol23.insert(9)\n",
        "arbol23.imprimir()\n",
        "\n",
        "arbol23.insert(6)\n",
        "arbol23.imprimir()\n",
        "\n",
        "arbol23.insert(2)\n",
        "arbol23.imprimir()"
      ],
      "execution_count": 103,
      "outputs": [
        {
          "output_type": "stream",
          "text": [
            "(☐3☐)\n",
            "(☐1☐3☐)\n",
            "((☐1☐)3(☐4☐))\n",
            "((☐1☐)3(☐4☐5☐))\n",
            "((☐1☐)3(☐4☐)5(☐9☐))\n",
            "((☐1☐)3(☐4☐)5(☐6☐9☐))\n",
            "((☐1☐2☐)3(☐4☐)5(☐6☐9☐))\n"
          ],
          "name": "stdout"
        }
      ]
    },
    {
      "cell_type": "code",
      "metadata": {
        "id": "ArrhTmCqOQHm",
        "colab_type": "code",
        "colab": {
          "base_uri": "https://localhost:8080/",
          "height": 68
        },
        "outputId": "c3101df1-7c68-42f5-ec37-4a066c256f97"
      },
      "source": [
        "dos = arbol23.search(2)\n",
        "tres = arbol23.search(3)\n",
        "siete = arbol23.search(7)\n",
        "\n",
        "print(dos.string())\n",
        "print(tres.string())\n",
        "print(siete) #no está en el arbol23 por lo que debe ser None (no tiene método string())"
      ],
      "execution_count": 104,
      "outputs": [
        {
          "output_type": "stream",
          "text": [
            "(☐1☐2☐)\n",
            "((☐1☐2☐)3(☐4☐)5(☐6☐9☐))\n",
            "None\n"
          ],
          "name": "stdout"
        }
      ]
    },
    {
      "cell_type": "markdown",
      "metadata": {
        "id": "RxhfwsDfRcDx",
        "colab_type": "text"
      },
      "source": [
        "## ¿Qué hay que entregar?\n",
        "\n",
        "Usted debe entregar este mismo archivo, modificado de acuerdo a lo que se pide. Haga todos los cambios necesarios para explicar y documentar adecuadamente su código. No olvide poner su nombre."
      ]
    }
  ]
}