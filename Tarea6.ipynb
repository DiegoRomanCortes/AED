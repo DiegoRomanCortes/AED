{
  "nbformat": 4,
  "nbformat_minor": 0,
  "metadata": {
    "kernelspec": {
      "display_name": "Python 3",
      "language": "python",
      "name": "python3"
    },
    "language_info": {
      "codemirror_mode": {
        "name": "ipython",
        "version": 3
      },
      "file_extension": ".py",
      "mimetype": "text/x-python",
      "name": "python",
      "nbconvert_exporter": "python",
      "pygments_lexer": "ipython3",
      "version": "3.7.1"
    },
    "colab": {
      "name": "Copy of Tarea6.ipynb",
      "provenance": [],
      "include_colab_link": true
    }
  },
  "cells": [
    {
      "cell_type": "markdown",
      "metadata": {
        "id": "view-in-github",
        "colab_type": "text"
      },
      "source": [
        "<a href=\"https://colab.research.google.com/github/DiegoRomanCortes/AED/blob/pr%2F1/Tarea6.ipynb\" target=\"_parent\"><img src=\"https://colab.research.google.com/assets/colab-badge.svg\" alt=\"Open In Colab\"/></a>"
      ]
    },
    {
      "cell_type": "markdown",
      "metadata": {
        "id": "oI4yT_8ERcDK",
        "colab_type": "text"
      },
      "source": [
        "# CC3001 Otoño 2020 Tarea 6\n",
        "\n",
        "## Árboles 2-3\n",
        "\n",
        "Nombre: Diego Román\n",
        "\n",
        "Profesores: Sección 1 Patricio Poblete / Sección 2 Nelson Baloian\n",
        "\n",
        "Plazo: Lunes 20 de julio de 2020 a las 23:59"
      ]
    },
    {
      "cell_type": "markdown",
      "metadata": {
        "id": "U-xBuiMRRcDN",
        "colab_type": "text"
      },
      "source": [
        "El objetivo de esta tarea es que usted implemente árboles 2-3. Si ve en el apunte, para los árboles AVL aparece la implementación, pero no así para los árboles 2-3. Usted debe ayudar a completar el apunte y si lo hace bien, es posible que en el futuro aparezca su código en este capítulo.\n",
        "\n",
        "A continuación aparece algo de código para ayudarlo a partir. Hay dos tipos de nodos internos (``Nodo2`` y ``Nodo3``), según si ese nodo es binario o ternario, y un tipo de nodo externo u hoja (``Nodoe``). Además, está la clase ``Arbol23``, que es el punto de partida. Las operaciones que usted tiene que implementar son ``insert`` y ``search``.\n",
        "\n",
        "En varias partes se ha rellenado con código provisorio, para que compile. Usted debe reemplazar y completar todo lo que sea necesario para que todo funcione.\n",
        "\n",
        "El código esbozado más abajo está orientado a una implementación recursiva, la que podemos describir de la siguiente manera:\n",
        "\n",
        "* Si se inserta una llave en un nodo binario, hay que insertarla recursivamente en el hijo izquierdo o en el derecho, según corresponda. Si esto no produce un *split* del hijo, el resultado es un puntero al nodo resultante (que puede ser binario o ternario), lo cual se anota en el lugar respectivo y se retorna un puntero al nodo resultante. Pero si el hijo se divide, se recibe el resultado que es una tupla que contiene el árbol izquierdo, el árbol derecho, y la llave que los separa. Con esto este nodo tiene la información para mutar a ternario y retornar el resultado.\n",
        "\n",
        "* Si se inserta una llave en un nodo ternario hay que insertarla recursivamente en el hijo izquierdo, en el del medio o en el derecho, según corresponda. Si esto no produce un *split* del hijo, el resultado es un puntero al nodo resultante (que puede ser binario o ternario), lo cual se anota en el lugar respectivo y se retorna un puntero al nodo resultante. Pero si el hijo se divide, se recibe el resultado que es una tupla que contiene el árbol izquierdo, el árbol derecho, y la llave que los separa. Con esto este nodo tiene la información para a su vez dividirse y retornar la tupla resultante.\n",
        "\n",
        "* Lo anterior permite modelar de la misma manera la inserción en una hoja: al recibir una llave, se divide en dos hojas, y la llave entrante las separa. Esto se retorna hacia arriba en la forma de una tupla y se la da el mismo tratamiento anterior.\n",
        "\n",
        "* En la clase ``Arbol23`` hay que estar preparado para recibir una tupla como resultado de la inserción, lo cual indicaría que la raíz se dividió. En ese caso, hay que crear nodo binario para que sea la nueva raíz.\n",
        "\n",
        "La operación de búsqueda (``search``) debe retornar un puntero al nodo que contiene la llave buscada, en caso de ser exitosa, o ``None`` si es infructuosa."
      ]
    },
    {
      "cell_type": "code",
      "metadata": {
        "id": "nxsGXBsERcDP",
        "colab_type": "code",
        "colab": {}
      },
      "source": [
        "class Nodo2:\n",
        "    def __init__(self, izq, info, der):\n",
        "        self.izq=izq\n",
        "        self.info=info\n",
        "        self.der=der\n",
        "        \n",
        "    def insert(self,x):\n",
        "        if x < self.info:\n",
        "            p = self.izq.insert(x)\n",
        "            if type(p) == tuple:\n",
        "                (izq1, info1, der1) = p\n",
        "                return Nodo3(izq1, info1, der1, self.info, self.der)\n",
        "        else:\n",
        "            p = self.der.insert(x)\n",
        "            if type(p) == tuple:\n",
        "                (izq1, info1, der1) = p\n",
        "                return Nodo3(self.izq, self.info, izq1, info1, der1)\n",
        "\n",
        "    def search(self,x):\n",
        "        if x == self.info:\n",
        "          return self\n",
        "        elif x < self.info:\n",
        "          return self.izq.search(x)\n",
        "        else:\n",
        "          return self.der.search(x)\n",
        "        \n",
        "    def string(self):\n",
        "        return (\"(\"+self.izq.string()\n",
        "                +str(self.info)\n",
        "                +self.der.string()+\")\")\n",
        "\n",
        "class Nodo3:\n",
        "    def __init__(self, izq, info1, med, info2, der):\n",
        "        self.izq=izq\n",
        "        self.info1=info1\n",
        "        self.med=med\n",
        "        self.info2=info2\n",
        "        self.der=der\n",
        "        \n",
        "    def insert(self,x):\n",
        "        if x < self.info1:\n",
        "          p = self.izq.insert(x)\n",
        "          if type(p) == tuple:\n",
        "                (izq_new, info_new, der_new) = p\n",
        "                izq_new = Nodo2(izq_new, info_new, der_new)\n",
        "                der_new = Nodo2(self.med, self.info2, self.der)\n",
        "                return Nodo2(izq_new, self.info1, der_new)\n",
        "        elif x > self.info1 and x < self.info2:\n",
        "          p = self.med.insert(x)\n",
        "          if type(p) == tuple:\n",
        "                (izq_new, info_new, der_new) = p\n",
        "                izq_new = Nodo2(self.izq, self.info1, izq_new)\n",
        "                der_new = Nodo2(der_new, self.info2 ,self.der)\n",
        "                return Nodo2(izq_new, info_new, der_new)\n",
        "        else: #x > self.info2\n",
        "          p = self.der.insert(x)\n",
        "          if type(p) == tuple:\n",
        "                (izq_new, info_new, der_new) = p\n",
        "                der_new = Nodo2(izq_new, info_new, der_new)\n",
        "                izq_new = Nodo2(self.izq, self.info1, self.med)\n",
        "                return Nodo2(izq_new, self.info2, der_new)\n",
        "    def search(self,x):\n",
        "        if x == self.info1 or x == self.info2:\n",
        "          return self\n",
        "        elif x < self.info1:\n",
        "          return self.izq.search(x)\n",
        "        elif x > self.info1 and x < self.info2:\n",
        "          return self.med.search(x)\n",
        "        else: #x > self.info2\n",
        "          return self.der.search(x)\n",
        "\n",
        "    def string(self):\n",
        "        return (\"(\"+self.izq.string()\n",
        "                +str(self.info1)\n",
        "                +self.med.string()\n",
        "                +str(self.info2)\n",
        "                +self.der.string()+\")\")    \n",
        "    \n",
        "class Nodoe:\n",
        "    def __init__(self):\n",
        "        pass\n",
        "\n",
        "    def search(self, x):\n",
        "        return None\n",
        "\n",
        "    def insert(self,x):\n",
        "        return (Nodoe(), x, Nodoe())\n",
        "\n",
        "    def string(self):\n",
        "        return\"☐\"\n",
        "\n",
        "class Arbol23:\n",
        "    def __init__(self,raiz=Nodoe()):\n",
        "        self.raiz=raiz     \n",
        "        \n",
        "    def insert(self,x):\n",
        "        self.raiz = self.raiz.insert(x)\n",
        "        #split\n",
        "        if type(self.raiz) == tuple:\n",
        "          (izq, info, der) = self.raiz\n",
        "          self.raiz = Nodo2(izq, info, der)\n",
        "        \n",
        "    def search(self,x):\n",
        "        return self.raiz.search(x)\n",
        "    \n",
        "    def imprimir(self):        \n",
        "        print(self.raiz.string())"
      ],
      "execution_count": 130,
      "outputs": []
    },
    {
      "cell_type": "markdown",
      "metadata": {
        "id": "DiLEIGrGRcDX",
        "colab_type": "text"
      },
      "source": [
        "Para probar este código, vamos a construir \"a mano\" el árbol 2-3 que aparece en el apunte, y luego imprimirlo:"
      ]
    },
    {
      "cell_type": "code",
      "metadata": {
        "id": "ihrbFTNsRcDY",
        "colab_type": "code",
        "colab": {}
      },
      "source": [
        "a=Nodo3(Nodo2(Nodoe(),10,Nodoe()),25,Nodo3(Nodoe(),32,Nodoe(),48,Nodoe()),57,Nodo2(Nodoe(),74,Nodoe()))"
      ],
      "execution_count": 131,
      "outputs": []
    },
    {
      "cell_type": "code",
      "metadata": {
        "id": "92guaCaLRcDj",
        "colab_type": "code",
        "colab": {
          "base_uri": "https://localhost:8080/",
          "height": 34
        },
        "outputId": "c9b771a1-6cf1-402b-9212-2327359215df"
      },
      "source": [
        "print(a.string())"
      ],
      "execution_count": 132,
      "outputs": [
        {
          "output_type": "stream",
          "text": [
            "((☐10☐)25(☐32☐48☐)57(☐74☐))\n"
          ],
          "name": "stdout"
        }
      ]
    },
    {
      "cell_type": "markdown",
      "metadata": {
        "id": "elWj8HAQRcDu",
        "colab_type": "text"
      },
      "source": [
        "Pruebe su código comenzando con un árbol vacío e insertando la siguiente secuencia de llaves:\n",
        "\n",
        "```\n",
        "3, 1, 4, 5, 9, 6, 2\n",
        "```\n",
        "\n",
        "Imprima el árbol resultante después de cada inserción. A continuación, busque \"2\", busque \"3\" y busque \"7\"."
      ]
    },
    {
      "cell_type": "code",
      "metadata": {
        "id": "T591r3Nl3xGs",
        "colab_type": "code",
        "colab": {
          "base_uri": "https://localhost:8080/",
          "height": 367
        },
        "outputId": "580f981d-3c77-4adf-9d61-2a617e316b8f"
      },
      "source": [
        "arbol23 = Arbol23()\n",
        "arbol23.insert(3)\n",
        "arbol23.imprimir()\n",
        "arbol23.insert(1)\n",
        "arbol23.imprimir()\n",
        "arbol23.insert(4)\n",
        "arbol23.imprimir()\n",
        "arbol23.insert(5)\n",
        "arbol23.imprimir()\n",
        "arbol23.insert(9)\n",
        "arbol23.imprimir()\n",
        "arbol23.insert(6)\n",
        "arbol23.imprimir()\n",
        "arbol23.insert(2)\n",
        "arbol23.imprimir()"
      ],
      "execution_count": 133,
      "outputs": [
        {
          "output_type": "stream",
          "text": [
            "(☐3☐)\n",
            "(☐1☐3☐)\n",
            "((☐1☐)3(☐4☐))\n"
          ],
          "name": "stdout"
        },
        {
          "output_type": "error",
          "ename": "AttributeError",
          "evalue": "ignored",
          "traceback": [
            "\u001b[0;31m---------------------------------------------------------------------------\u001b[0m",
            "\u001b[0;31mAttributeError\u001b[0m                            Traceback (most recent call last)",
            "\u001b[0;32m<ipython-input-133-d21f4052bf66>\u001b[0m in \u001b[0;36m<module>\u001b[0;34m()\u001b[0m\n\u001b[1;32m      7\u001b[0m \u001b[0marbol23\u001b[0m\u001b[0;34m.\u001b[0m\u001b[0mimprimir\u001b[0m\u001b[0;34m(\u001b[0m\u001b[0;34m)\u001b[0m\u001b[0;34m\u001b[0m\u001b[0;34m\u001b[0m\u001b[0m\n\u001b[1;32m      8\u001b[0m \u001b[0marbol23\u001b[0m\u001b[0;34m.\u001b[0m\u001b[0minsert\u001b[0m\u001b[0;34m(\u001b[0m\u001b[0;36m5\u001b[0m\u001b[0;34m)\u001b[0m\u001b[0;34m\u001b[0m\u001b[0;34m\u001b[0m\u001b[0m\n\u001b[0;32m----> 9\u001b[0;31m \u001b[0marbol23\u001b[0m\u001b[0;34m.\u001b[0m\u001b[0mimprimir\u001b[0m\u001b[0;34m(\u001b[0m\u001b[0;34m)\u001b[0m\u001b[0;34m\u001b[0m\u001b[0;34m\u001b[0m\u001b[0m\n\u001b[0m\u001b[1;32m     10\u001b[0m \u001b[0marbol23\u001b[0m\u001b[0;34m.\u001b[0m\u001b[0minsert\u001b[0m\u001b[0;34m(\u001b[0m\u001b[0;36m9\u001b[0m\u001b[0;34m)\u001b[0m\u001b[0;34m\u001b[0m\u001b[0;34m\u001b[0m\u001b[0m\n\u001b[1;32m     11\u001b[0m \u001b[0marbol23\u001b[0m\u001b[0;34m.\u001b[0m\u001b[0mimprimir\u001b[0m\u001b[0;34m(\u001b[0m\u001b[0;34m)\u001b[0m\u001b[0;34m\u001b[0m\u001b[0;34m\u001b[0m\u001b[0m\n",
            "\u001b[0;32m<ipython-input-130-e95aca166c32>\u001b[0m in \u001b[0;36mimprimir\u001b[0;34m(self)\u001b[0m\n\u001b[1;32m    105\u001b[0m \u001b[0;34m\u001b[0m\u001b[0m\n\u001b[1;32m    106\u001b[0m     \u001b[0;32mdef\u001b[0m \u001b[0mimprimir\u001b[0m\u001b[0;34m(\u001b[0m\u001b[0mself\u001b[0m\u001b[0;34m)\u001b[0m\u001b[0;34m:\u001b[0m\u001b[0;34m\u001b[0m\u001b[0;34m\u001b[0m\u001b[0m\n\u001b[0;32m--> 107\u001b[0;31m         \u001b[0mprint\u001b[0m\u001b[0;34m(\u001b[0m\u001b[0mself\u001b[0m\u001b[0;34m.\u001b[0m\u001b[0mraiz\u001b[0m\u001b[0;34m.\u001b[0m\u001b[0mstring\u001b[0m\u001b[0;34m(\u001b[0m\u001b[0;34m)\u001b[0m\u001b[0;34m)\u001b[0m\u001b[0;34m\u001b[0m\u001b[0;34m\u001b[0m\u001b[0m\n\u001b[0m",
            "\u001b[0;31mAttributeError\u001b[0m: 'NoneType' object has no attribute 'string'"
          ]
        }
      ]
    },
    {
      "cell_type": "markdown",
      "metadata": {
        "id": "RxhfwsDfRcDx",
        "colab_type": "text"
      },
      "source": [
        "## ¿Qué hay que entregar?\n",
        "\n",
        "Usted debe entregar este mismo archivo, modificado de acuerdo a lo que se pide. Haga todos los cambios necesarios para explicar y documentar adecuadamente su código. No olvide poner su nombre."
      ]
    }
  ]
}