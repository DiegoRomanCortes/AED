{
  "nbformat": 4,
  "nbformat_minor": 0,
  "metadata": {
    "kernelspec": {
      "display_name": "Python 3",
      "language": "python",
      "name": "python3"
    },
    "language_info": {
      "codemirror_mode": {
        "name": "ipython",
        "version": 3
      },
      "file_extension": ".py",
      "mimetype": "text/x-python",
      "name": "python",
      "nbconvert_exporter": "python",
      "pygments_lexer": "ipython3",
      "version": "3.7.1"
    },
    "colab": {
      "name": "Copy of Tarea4.ipynb",
      "provenance": [],
      "include_colab_link": true
    }
  },
  "cells": [
    {
      "cell_type": "markdown",
      "metadata": {
        "id": "view-in-github",
        "colab_type": "text"
      },
      "source": [
        "<a href=\"https://colab.research.google.com/github/DiegoRomanCortes/AED/blob/pr%2F1/Tarea4.ipynb\" target=\"_parent\"><img src=\"https://colab.research.google.com/assets/colab-badge.svg\" alt=\"Open In Colab\"/></a>"
      ]
    },
    {
      "cell_type": "markdown",
      "metadata": {
        "id": "mu1A8tTi6Cpe",
        "colab_type": "text"
      },
      "source": [
        "# CC3001 Otoño 2020 Tarea 4\n",
        "# Generación de código\n",
        "\n",
        "Nombre: Diego Román\n",
        "\n",
        "Profesores: Sección 1 Patricio Poblete / Sección 2 Nelson Baloian\n",
        "\n",
        "Plazo: Lunes 8 de junio de 2020 a las 23:59"
      ]
    },
    {
      "cell_type": "markdown",
      "metadata": {
        "id": "oSl60LLq6Cpi",
        "colab_type": "text"
      },
      "source": [
        "El objetivo de esta tarea es aprender sobre la manipulación de árboles que representan fórmulas. Hay muchas cosas que uno puede hacer con estos árboles, y en esta tarea nos enfocaremos en particular en algo que los compiladores hacen: la **generación de código** para evaluar fórmulas.\n",
        "\n",
        "Específicamente, el problema es: dada una fórmula, generar una secuencia de instrucciones elementales que la evalúen. Por ejemplo, dada una fórmula como\n",
        "\n",
        "```\n",
        "(a+b)*(c-d)\n",
        "```\n",
        "\n",
        "se podría generar código como el siguiente:\n",
        "\n",
        "```\n",
        "t1=a+b\n",
        "t2=c-d\n",
        "t3=t1*t2\n",
        "```\n",
        "\n",
        "Las instrucciones elementales son siempre de la forma ``ti=x op y``, donde ``ti`` es una variable temporal, ``x`` e ``y`` pueden ser variables o números, y ``op`` es un operador. Uno va creando variables ``t1``, ``t2``, ... a medida que las necesita, y la última de ellas es la que almacena el valor final de la fórmula.\n",
        "\n",
        "Las fórmulas pueden ser arbitrariamente complicadas, como por ejemplo la fórmula\n",
        "\n",
        "$$\n",
        "(2-p\\,q)\\left( \\frac{1}{n}+\\frac{1}{p+q}\\right)\n",
        "$$\n",
        "\n",
        "la cual escribimos como\n",
        "\n",
        "```\n",
        "(2-p*q)*(1/n+1/(p+q))\n",
        "```\n",
        "\n",
        "y cuyo código generado podría ser,\n",
        "\n",
        "```\n",
        "t1=p*q\n",
        "t2=2-t1\n",
        "t3=1/n\n",
        "t4=p+q\n",
        "t5=1/t4\n",
        "t6=t3+t5\n",
        "t7=t2*t6\n",
        "```\n",
        "\n",
        "El objetivo de esta tarea es que usted implemente una función que, dado un árbol ya construído, lo recorra para generar una secuencia de instrucciones elementales que lo evalúe.\n",
        "\n",
        "A continuación usted encontrará clases ``Nodoi``, ``Nodoe`` y ``Arbol`` que implementan árboles que representan fórmulas. La clase ``Arbol`` viene con un constructor que recibe un string como parámetro, el cual contiene una fórmula, y este constructor se encarga de transformar la fórmula de string a árbol, de modo que usted no necesita preocuparse de eso. Para simplificar, la fórmula solo podrá contener variables de una sola letra, números de un solo dígito, y sin espacios. Los operadores permitidos son solo suma, resta, multiplicación y división. No hay operador menos unario.\n",
        "\n",
        "Usted tienen que implementar para la clase ``Arbol`` una función ``codigo`` que al ser invocado genere una secuencia de instrucciones elementales para evaluar la fórmula representada por ese árbol, y la retorne en forma de una lista (de Python)."
      ]
    },
    {
      "cell_type": "code",
      "metadata": {
        "id": "VqFvxmSm6Cpj",
        "colab_type": "code",
        "colab": {}
      },
      "source": [
        "class Nodoi:\n",
        "    def __init__(self, izq, info, der):\n",
        "        self.izq=izq\n",
        "        self.info=info\n",
        "        self.der=der\n",
        "    def postorden(self):\n",
        "        self.izq.postorden()   \n",
        "        self.der.postorden()\n",
        "        print(self.info, end=\" \")\n",
        "\n",
        "class Nodoe:\n",
        "    def __init__(self, info):\n",
        "        self.info=info\n",
        "    def postorden(self):\n",
        "        print(self.info, end=\" \")\n",
        "\n",
        "class Arbol:\n",
        "    def __init__(self,formula):\n",
        "        global k\n",
        "        global s\n",
        "        s=formula+\";\" # agregamos una marca de fin de la entrada\n",
        "        k=0 # indica próximo caracter por procesar\n",
        "        # definimos funciones para analizar la fórmula\n",
        "        def expresion(): # retorna puntero a la raíz de un árbol que representa a la fórmula s\n",
        "            global k\n",
        "            global s\n",
        "            a=factor()\n",
        "            while s[k]==\"+\" or s[k]==\"-\":\n",
        "                op=s[k]\n",
        "                k+=1\n",
        "                b=factor()\n",
        "                a=Nodoi(a,op,b)\n",
        "            return a\n",
        "        def factor():\n",
        "            global k\n",
        "            global s\n",
        "            a=termino()\n",
        "            while s[k]==\"*\" or s[k]==\"/\":\n",
        "                op=s[k]\n",
        "                k+=1\n",
        "                b=termino()\n",
        "                a=Nodoi(a,op,b)\n",
        "            return a\n",
        "        def termino(): # posible constante, variable o formula parentizada\n",
        "            global k\n",
        "            global s\n",
        "            if s[k].isalpha() or s[k].isdigit():\n",
        "                a=Nodoe(s[k])\n",
        "                k+=1\n",
        "                return a\n",
        "            if s[k]==\"(\": # fórmula parentizada\n",
        "                k+=1\n",
        "                a=expresion()\n",
        "                if s[k]!=\")\":\n",
        "                    print(\"Error: Falta cierra paréntesis: \"+formula[k:])\n",
        "                    assert False\n",
        "                k+=1\n",
        "                return a\n",
        "            print(\"Error: Falta variable, número o abre paréntesis: \"+formula[k:])\n",
        "            assert False\n",
        "              \n",
        "        a=expresion()\n",
        "        if s[k]!=\";\":\n",
        "            print(\"Error: Basura al final de la fórmula: \"+formula[k:])\n",
        "            assert False                \n",
        "        self.raiz=a\n",
        "            \n",
        "    def postorden(self):\n",
        "        print(\"Postorden:\", end=\" \")\n",
        "        self.raiz.postorden()\n",
        "        print()\n",
        "    \n",
        "    def codigo(self):\n",
        "        global t #contador de llamadas recursivas\n",
        "        t = 0  #al principio no hay llamadas\n",
        "        def codigo_rec(p, lista):\n",
        "          global t\n",
        "          if p.info.isalpha() or p.info.isnumeric(): #es una hoja/NodoE\n",
        "            t += 1 #incrementa el contador de llamadas\n",
        "            nombre = 't'+str(t) #genera la variable\n",
        "            cod = nombre+'='+p.info #genera la expresion como una asignacion tipo tn = var/num\n",
        "          elif (p.izq.info.isalpha() or p.izq.info.isnumeric()) \\\n",
        "          and (p.der.info.isalpha() or p.der.info.isnumeric()): #ambos hijos son NodoE\n",
        "            t += 1\n",
        "            nombre = 't'+str(t)\n",
        "            cod = nombre+'='+p.izq.info+p.info+p.der.info #genera la expresion del tipo tn = var/num op var/num\n",
        "          else: #llamadas recursivas\n",
        "            a = codigo_rec(p.izq, lista) #tn1\n",
        "            b = codigo_rec(p.der, lista) #tn2\n",
        "            t += 1\n",
        "            nombre = 't'+str(t)\n",
        "            cod = nombre+'='+a+p.info+b #genera codigo del tipo tn = tn1 op tn2\n",
        "          lista.append(cod) #en cualquier caso, el codigo generado se guarda en el ultimo lugar de la lista\n",
        "          return nombre #así las llamadas recursivas incluyen sólo el rótulo y no la expresion de asignacion completa\n",
        "        #puntapié inicial\n",
        "        lista = []\n",
        "        p = self.raiz\n",
        "        codigo_rec(p, lista)\n",
        "        return lista #devuelve lo pedido"
      ],
      "execution_count": 0,
      "outputs": []
    },
    {
      "cell_type": "markdown",
      "metadata": {
        "id": "B2XgMZdL6Cpn",
        "colab_type": "text"
      },
      "source": [
        "A continuación probamos esta funcionalidad con varias fórmulas de ejemplo. Para ver si el árbol fue construido correctamente, lo recorremos en postorden para imprimirlo en notación polaca. **Importante**: La notación polaca no tiene nada que ver con lo que ustedes tienen que hacer, es solo una manera de poder imprimir el árbol generado para chequear que esté bien construido."
      ]
    },
    {
      "cell_type": "code",
      "metadata": {
        "id": "LLwMejpA6Cpo",
        "colab_type": "code",
        "outputId": "c48cf6e2-e0b5-4bb8-ae3c-d6a67f8ee53d",
        "colab": {
          "base_uri": "https://localhost:8080/",
          "height": 34
        }
      },
      "source": [
        "Arbol(\"a+b\").postorden()"
      ],
      "execution_count": 2,
      "outputs": [
        {
          "output_type": "stream",
          "text": [
            "Postorden: a b + \n"
          ],
          "name": "stdout"
        }
      ]
    },
    {
      "cell_type": "code",
      "metadata": {
        "id": "yDflUaBQ6Cps",
        "colab_type": "code",
        "outputId": "9e6a4b01-d29e-4246-c5aa-3903cadf3d17",
        "colab": {
          "base_uri": "https://localhost:8080/",
          "height": 34
        }
      },
      "source": [
        "Arbol(\"(a+b)*(c-d)\").postorden()"
      ],
      "execution_count": 3,
      "outputs": [
        {
          "output_type": "stream",
          "text": [
            "Postorden: a b + c d - * \n"
          ],
          "name": "stdout"
        }
      ]
    },
    {
      "cell_type": "code",
      "metadata": {
        "id": "vQ1HQ1d-6Cpv",
        "colab_type": "code",
        "outputId": "5500371d-926f-42de-a44f-5dedc5693d0f",
        "colab": {
          "base_uri": "https://localhost:8080/",
          "height": 34
        }
      },
      "source": [
        "Arbol(\"(2-p*q)*(1/n+1/(p+q))\").postorden()"
      ],
      "execution_count": 4,
      "outputs": [
        {
          "output_type": "stream",
          "text": [
            "Postorden: 2 p q * - 1 n / 1 p q + / + * \n"
          ],
          "name": "stdout"
        }
      ]
    },
    {
      "cell_type": "markdown",
      "metadata": {
        "id": "U9Irc7gA6Cpy",
        "colab_type": "text"
      },
      "source": [
        "## Resultados"
      ]
    },
    {
      "cell_type": "markdown",
      "metadata": {
        "id": "gMst1UPk6Cpy",
        "colab_type": "text"
      },
      "source": [
        "En esta sección probamos la generación de código que usted tiene que escribir. Mientras usted no sustituya la función ``codigo`` provisoria que viene en la definición de la clase, va a aparecer la lista que generamos ahí. Primero vamos a definir una función ``probar`` que genera el código a partir de una fórmula dada e imprime el resultado:"
      ]
    },
    {
      "cell_type": "code",
      "metadata": {
        "id": "_hihUwev6Cpz",
        "colab_type": "code",
        "colab": {}
      },
      "source": [
        "def probar(formula):\n",
        "    a=Arbol(formula)\n",
        "    for x in a.codigo():\n",
        "        print(x)"
      ],
      "execution_count": 0,
      "outputs": []
    },
    {
      "cell_type": "markdown",
      "metadata": {
        "id": "AbL_pw8s6Cp3",
        "colab_type": "text"
      },
      "source": [
        "A continuación probamos con varias fórmulas. Además de las fórmulas dadaas, usted tiene que agregar tres ejemplos adicionales."
      ]
    },
    {
      "cell_type": "code",
      "metadata": {
        "id": "952_ERId6Cp3",
        "colab_type": "code",
        "outputId": "895981ca-9320-4806-ac93-ad58f85a94d7",
        "colab": {
          "base_uri": "https://localhost:8080/",
          "height": 34
        }
      },
      "source": [
        "probar(\"a+1\")"
      ],
      "execution_count": 6,
      "outputs": [
        {
          "output_type": "stream",
          "text": [
            "t1=a+1\n"
          ],
          "name": "stdout"
        }
      ]
    },
    {
      "cell_type": "code",
      "metadata": {
        "id": "RTLwTQHA6Cp8",
        "colab_type": "code",
        "outputId": "aa1d71f5-85f1-4c74-9c03-952fc7c3ead5",
        "colab": {
          "base_uri": "https://localhost:8080/",
          "height": 68
        }
      },
      "source": [
        "probar(\"(a+b)*(c-d)\")"
      ],
      "execution_count": 7,
      "outputs": [
        {
          "output_type": "stream",
          "text": [
            "t1=a+b\n",
            "t2=c-d\n",
            "t3=t1*t2\n"
          ],
          "name": "stdout"
        }
      ]
    },
    {
      "cell_type": "code",
      "metadata": {
        "id": "TIPI8jIl6Cp_",
        "colab_type": "code",
        "outputId": "71656a36-6f20-439b-9781-e85fbfad25cd",
        "colab": {
          "base_uri": "https://localhost:8080/",
          "height": 170
        }
      },
      "source": [
        "probar(\"(2-p*q)*(1/n+1/(p+q))\")"
      ],
      "execution_count": 8,
      "outputs": [
        {
          "output_type": "stream",
          "text": [
            "t1=2\n",
            "t2=p*q\n",
            "t3=t1-t2\n",
            "t4=1/n\n",
            "t5=1\n",
            "t6=p+q\n",
            "t7=t5/t6\n",
            "t8=t4+t7\n",
            "t9=t3*t8\n"
          ],
          "name": "stdout"
        }
      ]
    },
    {
      "cell_type": "code",
      "metadata": {
        "id": "lW6crOsa6CqG",
        "colab_type": "code",
        "outputId": "3039e8c5-7c04-42ce-fbc1-213534d94a7a",
        "colab": {
          "base_uri": "https://localhost:8080/",
          "height": 136
        }
      },
      "source": [
        "probar(\"((((a+b)+c)+d)+e)\")"
      ],
      "execution_count": 9,
      "outputs": [
        {
          "output_type": "stream",
          "text": [
            "t1=a+b\n",
            "t2=c\n",
            "t3=t1+t2\n",
            "t4=d\n",
            "t5=t3+t4\n",
            "t6=e\n",
            "t7=t5+t6\n"
          ],
          "name": "stdout"
        }
      ]
    },
    {
      "cell_type": "code",
      "metadata": {
        "id": "j3J7bYUA6CqJ",
        "colab_type": "code",
        "outputId": "70575afe-af8e-4f07-9b37-7879adec3e5a",
        "colab": {
          "base_uri": "https://localhost:8080/",
          "height": 136
        }
      },
      "source": [
        "probar(\"(a+(b+(c+(d+e))))\")"
      ],
      "execution_count": 10,
      "outputs": [
        {
          "output_type": "stream",
          "text": [
            "t1=a\n",
            "t2=b\n",
            "t3=c\n",
            "t4=d+e\n",
            "t5=t3+t4\n",
            "t6=t2+t5\n",
            "t7=t1+t6\n"
          ],
          "name": "stdout"
        }
      ]
    },
    {
      "cell_type": "code",
      "metadata": {
        "id": "1iJ9YfZa6CqP",
        "colab_type": "code",
        "outputId": "7a3be874-1256-4058-b3d1-60280f2b023b",
        "colab": {
          "base_uri": "https://localhost:8080/",
          "height": 34
        }
      },
      "source": [
        "probar(\"a\")"
      ],
      "execution_count": 11,
      "outputs": [
        {
          "output_type": "stream",
          "text": [
            "t1=a\n"
          ],
          "name": "stdout"
        }
      ]
    },
    {
      "cell_type": "markdown",
      "metadata": {
        "id": "Y-L5kbhYQdr0",
        "colab_type": "text"
      },
      "source": [
        "Ejemplos adicionales"
      ]
    },
    {
      "cell_type": "code",
      "metadata": {
        "id": "YvlYp0Mge3US",
        "colab_type": "code",
        "outputId": "d84165a1-18d8-42cb-e1b2-a4024abef97d",
        "colab": {
          "base_uri": "https://localhost:8080/",
          "height": 102
        }
      },
      "source": [
        "probar(\"y*3-1*z+w\")"
      ],
      "execution_count": 12,
      "outputs": [
        {
          "output_type": "stream",
          "text": [
            "t1=y*3\n",
            "t2=1*z\n",
            "t3=t1-t2\n",
            "t4=w\n",
            "t5=t3+t4\n"
          ],
          "name": "stdout"
        }
      ]
    },
    {
      "cell_type": "code",
      "metadata": {
        "id": "g8sLWU1BfXf7",
        "colab_type": "code",
        "outputId": "df6bc425-bac8-435b-c770-bff516871182",
        "colab": {
          "base_uri": "https://localhost:8080/",
          "height": 102
        }
      },
      "source": [
        "probar('(1-2)*a-(b/3)')"
      ],
      "execution_count": 13,
      "outputs": [
        {
          "output_type": "stream",
          "text": [
            "t1=1-2\n",
            "t2=a\n",
            "t3=t1*t2\n",
            "t4=b/3\n",
            "t5=t3-t4\n"
          ],
          "name": "stdout"
        }
      ]
    },
    {
      "cell_type": "code",
      "metadata": {
        "id": "5IslNTSFhEbN",
        "colab_type": "code",
        "outputId": "1bdb248c-41b7-44ea-f460-fe19883a779c",
        "colab": {
          "base_uri": "https://localhost:8080/",
          "height": 170
        }
      },
      "source": [
        "probar('a+b/(c+1*d)-2/e')"
      ],
      "execution_count": 14,
      "outputs": [
        {
          "output_type": "stream",
          "text": [
            "t1=a\n",
            "t2=b\n",
            "t3=c\n",
            "t4=1*d\n",
            "t5=t3+t4\n",
            "t6=t2/t5\n",
            "t7=t1+t6\n",
            "t8=2/e\n",
            "t9=t7-t8\n"
          ],
          "name": "stdout"
        }
      ]
    },
    {
      "cell_type": "code",
      "metadata": {
        "id": "tO_BDBX0QlP7",
        "colab_type": "code",
        "outputId": "cbb2c197-132e-47c8-fdf0-9bdbc0976b55",
        "colab": {
          "base_uri": "https://localhost:8080/",
          "height": 68
        }
      },
      "source": [
        "probar('a/b*c')"
      ],
      "execution_count": 15,
      "outputs": [
        {
          "output_type": "stream",
          "text": [
            "t1=a/b\n",
            "t2=c\n",
            "t3=t1*t2\n"
          ],
          "name": "stdout"
        }
      ]
    },
    {
      "cell_type": "markdown",
      "metadata": {
        "id": "P1hiNRB86CqT",
        "colab_type": "text"
      },
      "source": [
        "## Discusión"
      ]
    },
    {
      "cell_type": "markdown",
      "metadata": {
        "id": "IdypC8Pa6CqT",
        "colab_type": "text"
      },
      "source": [
        "Suponga que hay escasez de variables temporales, así que se le ha pedido que trata de reciclarlas lo más posible, y solo crear nuevas variables ``ti`` cuando sea estrictamente necesario. Por ejemplo, para la fórmula\n",
        "\n",
        "```\n",
        "((a+b)*c)+((d-e)/f)\n",
        "```\n",
        "\n",
        "si generamos código como lo hemos hecho en los ejemplos anteriores (código de la izquierda), se usan 5 variables temporales, pero el código de la derecha muestra que se puede evaluar usando solo 2:\n",
        "\n",
        "```\n",
        "t1=a+b               t1=a+b\n",
        "t2=t1+c              t1=t1*c\n",
        "t3=d-e               t2=d-e\n",
        "t4=t3/f              t2=t2/f\n",
        "t5=t2+t4             t1=t1+t2\n",
        "```\n",
        "\n",
        "Discuta cómo se podría modificar su algoritmo para que (1) use menos variables temporales, y luego (2) para que use el mínimo posible de variables temporales.\n",
        "\n",
        "No es necesario que implemente nada, solo que discuta cómo se podría hacer."
      ]
    },
    {
      "cell_type": "markdown",
      "metadata": {
        "id": "IcCdnCpPZa9t",
        "colab_type": "text"
      },
      "source": [
        "* (1) Por cómo está programada la función `codigo`, ésta genera una nueva variable temporal cada vez que se encuentra una hoja solitaria. Esto podría solventarse separando en tres casos: El primero cuando el hijo izquierdo sea `Nodoe`, el segundo cuando el derecho lo sea y finalmente el caso en que ambos lo sean. Si junto con eso además se reutilizan las variables temporales que no se vayan a seguir usando, es posible vislumbrar un posible respuesta a (2).\n",
        "* Notando que la generación de nuevas variables temporales es necesaria solamente cuando hay operadores distintos con más de un operando permite reutilizar las variables. Por ejemplo, `'(a-b)/(c+d)'` debería generar: `t1 = a-b`,`t2=c+d`, `t1 = t1 / t2`. Un árbol lleno con $n$ niveles y con operadores distintos requiere un mínimo de $n$ variables temporales en el peor caso (operadores alternando prioridad). \n",
        "* Por lo tanto, para minimizar las variables temporales (2) se debe considerar la creación de un máximo de $n$ variables para un árbol de $n$ niveles (número que disminuye si las operaciones se pueden asociar o si hay hojas solitarias), además de incluir nuevos casos: Que la resta de una suma sea una doble resta, que la división de un producto sea una doble división, que al llegar a la raiz del árbol las variables generadas distintas a `t1` se puedan reutilizar (reiniciando el contador), que el último paso sea `t1 = t1 op t2`, entre otros.\n",
        "\n",
        "\n",
        "\n"
      ]
    }
  ]
}